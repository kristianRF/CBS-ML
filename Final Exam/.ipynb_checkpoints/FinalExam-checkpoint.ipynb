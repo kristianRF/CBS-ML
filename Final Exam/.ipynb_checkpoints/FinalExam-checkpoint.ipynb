{
 "cells": [
  {
   "cell_type": "markdown",
   "metadata": {},
   "source": [
    "# ISUP 2020 Final Exam, July 29th.\n",
    "## Machine Learning for Predictive Analytics in Business (CCMVI2085U)\n",
    "\n",
    "### Preamble"
   ]
  },
  {
   "cell_type": "code",
   "execution_count": 1,
   "metadata": {},
   "outputs": [],
   "source": [
    "# Import Libraries \n",
    "import pandas as pd\n",
    "import numpy as np\n",
    "import matplotlib.pyplot as plt\n",
    "\n",
    "# Set random seed to 73 corresponding to exam no.: S133708\n",
    "rs = 73"
   ]
  },
  {
   "cell_type": "markdown",
   "metadata": {},
   "source": [
    "## Section 1\n",
    "**1) Load the dataset into your Jupyter notebook and name it `df`**"
   ]
  },
  {
   "cell_type": "code",
   "execution_count": 2,
   "metadata": {},
   "outputs": [
    {
     "data": {
      "text/html": [
       "<div>\n",
       "<style scoped>\n",
       "    .dataframe tbody tr th:only-of-type {\n",
       "        vertical-align: middle;\n",
       "    }\n",
       "\n",
       "    .dataframe tbody tr th {\n",
       "        vertical-align: top;\n",
       "    }\n",
       "\n",
       "    .dataframe thead th {\n",
       "        text-align: right;\n",
       "    }\n",
       "</style>\n",
       "<table border=\"1\" class=\"dataframe\">\n",
       "  <thead>\n",
       "    <tr style=\"text-align: right;\">\n",
       "      <th></th>\n",
       "      <th>dteday</th>\n",
       "      <th>holiday</th>\n",
       "      <th>weekday</th>\n",
       "      <th>workingday</th>\n",
       "      <th>weathersit</th>\n",
       "      <th>temp</th>\n",
       "      <th>hum</th>\n",
       "      <th>windspeed</th>\n",
       "      <th>registered</th>\n",
       "      <th>casual</th>\n",
       "    </tr>\n",
       "  </thead>\n",
       "  <tbody>\n",
       "    <tr>\n",
       "      <th>0</th>\n",
       "      <td>09/02/2012</td>\n",
       "      <td>0</td>\n",
       "      <td>4</td>\n",
       "      <td>1</td>\n",
       "      <td>1</td>\n",
       "      <td>0.265000</td>\n",
       "      <td>0.562083</td>\n",
       "      <td>0.194037</td>\n",
       "      <td>3667</td>\n",
       "      <td>163</td>\n",
       "    </tr>\n",
       "    <tr>\n",
       "      <th>1</th>\n",
       "      <td>27/12/2012</td>\n",
       "      <td>0</td>\n",
       "      <td>4</td>\n",
       "      <td>1</td>\n",
       "      <td>2</td>\n",
       "      <td>0.254167</td>\n",
       "      <td>0.652917</td>\n",
       "      <td>0.350133</td>\n",
       "      <td>1867</td>\n",
       "      <td>247</td>\n",
       "    </tr>\n",
       "    <tr>\n",
       "      <th>2</th>\n",
       "      <td>09/06/2011</td>\n",
       "      <td>0</td>\n",
       "      <td>4</td>\n",
       "      <td>1</td>\n",
       "      <td>2</td>\n",
       "      <td>0.808333</td>\n",
       "      <td>0.568333</td>\n",
       "      <td>0.149883</td>\n",
       "      <td>3352</td>\n",
       "      <td>563</td>\n",
       "    </tr>\n",
       "    <tr>\n",
       "      <th>3</th>\n",
       "      <td>27/02/2012</td>\n",
       "      <td>0</td>\n",
       "      <td>1</td>\n",
       "      <td>1</td>\n",
       "      <td>1</td>\n",
       "      <td>0.366667</td>\n",
       "      <td>0.490833</td>\n",
       "      <td>0.268033</td>\n",
       "      <td>4069</td>\n",
       "      <td>253</td>\n",
       "    </tr>\n",
       "    <tr>\n",
       "      <th>4</th>\n",
       "      <td>27/05/2012</td>\n",
       "      <td>0</td>\n",
       "      <td>0</td>\n",
       "      <td>0</td>\n",
       "      <td>1</td>\n",
       "      <td>0.690000</td>\n",
       "      <td>0.697083</td>\n",
       "      <td>0.215171</td>\n",
       "      <td>3308</td>\n",
       "      <td>3283</td>\n",
       "    </tr>\n",
       "  </tbody>\n",
       "</table>\n",
       "</div>"
      ],
      "text/plain": [
       "       dteday  holiday  weekday  workingday  weathersit      temp       hum  \\\n",
       "0  09/02/2012        0        4           1           1  0.265000  0.562083   \n",
       "1  27/12/2012        0        4           1           2  0.254167  0.652917   \n",
       "2  09/06/2011        0        4           1           2  0.808333  0.568333   \n",
       "3  27/02/2012        0        1           1           1  0.366667  0.490833   \n",
       "4  27/05/2012        0        0           0           1  0.690000  0.697083   \n",
       "\n",
       "   windspeed  registered  casual  \n",
       "0   0.194037        3667     163  \n",
       "1   0.350133        1867     247  \n",
       "2   0.149883        3352     563  \n",
       "3   0.268033        4069     253  \n",
       "4   0.215171        3308    3283  "
      ]
     },
     "execution_count": 2,
     "metadata": {},
     "output_type": "execute_result"
    }
   ],
   "source": [
    "df = pd.read_csv(\"CCMVI2085U_bike_sharing_rental.csv\", header = 0)\n",
    "df.head()"
   ]
  },
  {
   "cell_type": "markdown",
   "metadata": {},
   "source": [
    "**2) Report the dimension of `df`**"
   ]
  },
  {
   "cell_type": "code",
   "execution_count": 3,
   "metadata": {},
   "outputs": [
    {
     "data": {
      "text/plain": [
       "(500, 10)"
      ]
     },
     "execution_count": 3,
     "metadata": {},
     "output_type": "execute_result"
    }
   ],
   "source": [
    "df.shape"
   ]
  },
  {
   "cell_type": "markdown",
   "metadata": {},
   "source": [
    "The dataset consists of 500 observations and 10 variables (of which the first variable is the date)"
   ]
  },
  {
   "cell_type": "markdown",
   "metadata": {},
   "source": [
    "**3) Show the last 12 observations/rows of `df`**"
   ]
  },
  {
   "cell_type": "code",
   "execution_count": 4,
   "metadata": {},
   "outputs": [
    {
     "data": {
      "text/html": [
       "<div>\n",
       "<style scoped>\n",
       "    .dataframe tbody tr th:only-of-type {\n",
       "        vertical-align: middle;\n",
       "    }\n",
       "\n",
       "    .dataframe tbody tr th {\n",
       "        vertical-align: top;\n",
       "    }\n",
       "\n",
       "    .dataframe thead th {\n",
       "        text-align: right;\n",
       "    }\n",
       "</style>\n",
       "<table border=\"1\" class=\"dataframe\">\n",
       "  <thead>\n",
       "    <tr style=\"text-align: right;\">\n",
       "      <th></th>\n",
       "      <th>dteday</th>\n",
       "      <th>holiday</th>\n",
       "      <th>weekday</th>\n",
       "      <th>workingday</th>\n",
       "      <th>weathersit</th>\n",
       "      <th>temp</th>\n",
       "      <th>hum</th>\n",
       "      <th>windspeed</th>\n",
       "      <th>registered</th>\n",
       "      <th>casual</th>\n",
       "    </tr>\n",
       "  </thead>\n",
       "  <tbody>\n",
       "    <tr>\n",
       "      <th>488</th>\n",
       "      <td>09/08/2011</td>\n",
       "      <td>0</td>\n",
       "      <td>2</td>\n",
       "      <td>1</td>\n",
       "      <td>1</td>\n",
       "      <td>0.775000</td>\n",
       "      <td>0.570417</td>\n",
       "      <td>0.151121</td>\n",
       "      <td>3695</td>\n",
       "      <td>907</td>\n",
       "    </tr>\n",
       "    <tr>\n",
       "      <th>489</th>\n",
       "      <td>23/04/2011</td>\n",
       "      <td>0</td>\n",
       "      <td>6</td>\n",
       "      <td>0</td>\n",
       "      <td>2</td>\n",
       "      <td>0.460000</td>\n",
       "      <td>0.887917</td>\n",
       "      <td>0.230725</td>\n",
       "      <td>2574</td>\n",
       "      <td>1462</td>\n",
       "    </tr>\n",
       "    <tr>\n",
       "      <th>490</th>\n",
       "      <td>23/09/2011</td>\n",
       "      <td>0</td>\n",
       "      <td>5</td>\n",
       "      <td>1</td>\n",
       "      <td>2</td>\n",
       "      <td>0.609167</td>\n",
       "      <td>0.972500</td>\n",
       "      <td>0.078367</td>\n",
       "      <td>2137</td>\n",
       "      <td>258</td>\n",
       "    </tr>\n",
       "    <tr>\n",
       "      <th>491</th>\n",
       "      <td>03/10/2011</td>\n",
       "      <td>0</td>\n",
       "      <td>1</td>\n",
       "      <td>1</td>\n",
       "      <td>2</td>\n",
       "      <td>0.384167</td>\n",
       "      <td>0.760833</td>\n",
       "      <td>0.083346</td>\n",
       "      <td>3240</td>\n",
       "      <td>330</td>\n",
       "    </tr>\n",
       "    <tr>\n",
       "      <th>492</th>\n",
       "      <td>30/09/2011</td>\n",
       "      <td>0</td>\n",
       "      <td>5</td>\n",
       "      <td>1</td>\n",
       "      <td>1</td>\n",
       "      <td>0.564167</td>\n",
       "      <td>0.647500</td>\n",
       "      <td>0.206475</td>\n",
       "      <td>4372</td>\n",
       "      <td>830</td>\n",
       "    </tr>\n",
       "    <tr>\n",
       "      <th>493</th>\n",
       "      <td>09/12/2011</td>\n",
       "      <td>0</td>\n",
       "      <td>5</td>\n",
       "      <td>1</td>\n",
       "      <td>1</td>\n",
       "      <td>0.290833</td>\n",
       "      <td>0.695833</td>\n",
       "      <td>0.082717</td>\n",
       "      <td>3359</td>\n",
       "      <td>261</td>\n",
       "    </tr>\n",
       "    <tr>\n",
       "      <th>494</th>\n",
       "      <td>14/09/2011</td>\n",
       "      <td>0</td>\n",
       "      <td>3</td>\n",
       "      <td>1</td>\n",
       "      <td>1</td>\n",
       "      <td>0.673333</td>\n",
       "      <td>0.697083</td>\n",
       "      <td>0.167300</td>\n",
       "      <td>4138</td>\n",
       "      <td>647</td>\n",
       "    </tr>\n",
       "    <tr>\n",
       "      <th>495</th>\n",
       "      <td>02/07/2011</td>\n",
       "      <td>0</td>\n",
       "      <td>6</td>\n",
       "      <td>0</td>\n",
       "      <td>1</td>\n",
       "      <td>0.738333</td>\n",
       "      <td>0.444583</td>\n",
       "      <td>0.115062</td>\n",
       "      <td>2915</td>\n",
       "      <td>2204</td>\n",
       "    </tr>\n",
       "    <tr>\n",
       "      <th>496</th>\n",
       "      <td>16/04/2011</td>\n",
       "      <td>0</td>\n",
       "      <td>6</td>\n",
       "      <td>0</td>\n",
       "      <td>3</td>\n",
       "      <td>0.430833</td>\n",
       "      <td>0.888333</td>\n",
       "      <td>0.340808</td>\n",
       "      <td>674</td>\n",
       "      <td>121</td>\n",
       "    </tr>\n",
       "    <tr>\n",
       "      <th>497</th>\n",
       "      <td>28/10/2011</td>\n",
       "      <td>0</td>\n",
       "      <td>5</td>\n",
       "      <td>1</td>\n",
       "      <td>2</td>\n",
       "      <td>0.330833</td>\n",
       "      <td>0.585833</td>\n",
       "      <td>0.229479</td>\n",
       "      <td>3291</td>\n",
       "      <td>456</td>\n",
       "    </tr>\n",
       "    <tr>\n",
       "      <th>498</th>\n",
       "      <td>22/03/2012</td>\n",
       "      <td>0</td>\n",
       "      <td>4</td>\n",
       "      <td>1</td>\n",
       "      <td>1</td>\n",
       "      <td>0.554167</td>\n",
       "      <td>0.831250</td>\n",
       "      <td>0.117562</td>\n",
       "      <td>5537</td>\n",
       "      <td>1334</td>\n",
       "    </tr>\n",
       "    <tr>\n",
       "      <th>499</th>\n",
       "      <td>20/12/2012</td>\n",
       "      <td>0</td>\n",
       "      <td>4</td>\n",
       "      <td>1</td>\n",
       "      <td>2</td>\n",
       "      <td>0.330000</td>\n",
       "      <td>0.667917</td>\n",
       "      <td>0.132463</td>\n",
       "      <td>3814</td>\n",
       "      <td>314</td>\n",
       "    </tr>\n",
       "  </tbody>\n",
       "</table>\n",
       "</div>"
      ],
      "text/plain": [
       "         dteday  holiday  weekday  workingday  weathersit      temp       hum  \\\n",
       "488  09/08/2011        0        2           1           1  0.775000  0.570417   \n",
       "489  23/04/2011        0        6           0           2  0.460000  0.887917   \n",
       "490  23/09/2011        0        5           1           2  0.609167  0.972500   \n",
       "491  03/10/2011        0        1           1           2  0.384167  0.760833   \n",
       "492  30/09/2011        0        5           1           1  0.564167  0.647500   \n",
       "493  09/12/2011        0        5           1           1  0.290833  0.695833   \n",
       "494  14/09/2011        0        3           1           1  0.673333  0.697083   \n",
       "495  02/07/2011        0        6           0           1  0.738333  0.444583   \n",
       "496  16/04/2011        0        6           0           3  0.430833  0.888333   \n",
       "497  28/10/2011        0        5           1           2  0.330833  0.585833   \n",
       "498  22/03/2012        0        4           1           1  0.554167  0.831250   \n",
       "499  20/12/2012        0        4           1           2  0.330000  0.667917   \n",
       "\n",
       "     windspeed  registered  casual  \n",
       "488   0.151121        3695     907  \n",
       "489   0.230725        2574    1462  \n",
       "490   0.078367        2137     258  \n",
       "491   0.083346        3240     330  \n",
       "492   0.206475        4372     830  \n",
       "493   0.082717        3359     261  \n",
       "494   0.167300        4138     647  \n",
       "495   0.115062        2915    2204  \n",
       "496   0.340808         674     121  \n",
       "497   0.229479        3291     456  \n",
       "498   0.117562        5537    1334  \n",
       "499   0.132463        3814     314  "
      ]
     },
     "execution_count": 4,
     "metadata": {},
     "output_type": "execute_result"
    }
   ],
   "source": [
    "df.tail(12)"
   ]
  },
  {
   "cell_type": "markdown",
   "metadata": {},
   "source": [
    "**4) Show the variable date types of `df`**"
   ]
  },
  {
   "cell_type": "code",
   "execution_count": 5,
   "metadata": {},
   "outputs": [
    {
     "data": {
      "text/plain": [
       "dteday         object\n",
       "holiday         int64\n",
       "weekday         int64\n",
       "workingday      int64\n",
       "weathersit      int64\n",
       "temp          float64\n",
       "hum           float64\n",
       "windspeed     float64\n",
       "registered      int64\n",
       "casual          int64\n",
       "dtype: object"
      ]
     },
     "execution_count": 5,
     "metadata": {},
     "output_type": "execute_result"
    }
   ],
   "source": [
    "df.dtypes"
   ]
  },
  {
   "cell_type": "markdown",
   "metadata": {},
   "source": [
    "**5) Summarize the numeric variables of `df`**"
   ]
  },
  {
   "cell_type": "markdown",
   "metadata": {},
   "source": [
    "The dataset consists of three continuous numeric variables: `temp`, `hum` and `windspeed`, as well as two discrete numeric variables: `registered` and `casual`."
   ]
  },
  {
   "cell_type": "code",
   "execution_count": 6,
   "metadata": {},
   "outputs": [
    {
     "data": {
      "text/html": [
       "<div>\n",
       "<style scoped>\n",
       "    .dataframe tbody tr th:only-of-type {\n",
       "        vertical-align: middle;\n",
       "    }\n",
       "\n",
       "    .dataframe tbody tr th {\n",
       "        vertical-align: top;\n",
       "    }\n",
       "\n",
       "    .dataframe thead th {\n",
       "        text-align: right;\n",
       "    }\n",
       "</style>\n",
       "<table border=\"1\" class=\"dataframe\">\n",
       "  <thead>\n",
       "    <tr style=\"text-align: right;\">\n",
       "      <th></th>\n",
       "      <th>temp</th>\n",
       "      <th>hum</th>\n",
       "      <th>windspeed</th>\n",
       "      <th>registered</th>\n",
       "      <th>casual</th>\n",
       "    </tr>\n",
       "  </thead>\n",
       "  <tbody>\n",
       "    <tr>\n",
       "      <th>count</th>\n",
       "      <td>500.000000</td>\n",
       "      <td>500.000000</td>\n",
       "      <td>500.000000</td>\n",
       "      <td>500.000000</td>\n",
       "      <td>500.00000</td>\n",
       "    </tr>\n",
       "    <tr>\n",
       "      <th>mean</th>\n",
       "      <td>0.484558</td>\n",
       "      <td>0.627916</td>\n",
       "      <td>0.191074</td>\n",
       "      <td>3605.084000</td>\n",
       "      <td>810.03400</td>\n",
       "    </tr>\n",
       "    <tr>\n",
       "      <th>std</th>\n",
       "      <td>0.185145</td>\n",
       "      <td>0.143338</td>\n",
       "      <td>0.077243</td>\n",
       "      <td>1573.874688</td>\n",
       "      <td>671.70654</td>\n",
       "    </tr>\n",
       "    <tr>\n",
       "      <th>min</th>\n",
       "      <td>0.097391</td>\n",
       "      <td>0.000000</td>\n",
       "      <td>0.045404</td>\n",
       "      <td>20.000000</td>\n",
       "      <td>2.00000</td>\n",
       "    </tr>\n",
       "    <tr>\n",
       "      <th>25%</th>\n",
       "      <td>0.325625</td>\n",
       "      <td>0.518941</td>\n",
       "      <td>0.135580</td>\n",
       "      <td>2391.500000</td>\n",
       "      <td>280.25000</td>\n",
       "    </tr>\n",
       "    <tr>\n",
       "      <th>50%</th>\n",
       "      <td>0.474166</td>\n",
       "      <td>0.621666</td>\n",
       "      <td>0.183775</td>\n",
       "      <td>3664.500000</td>\n",
       "      <td>677.00000</td>\n",
       "    </tr>\n",
       "    <tr>\n",
       "      <th>75%</th>\n",
       "      <td>0.653541</td>\n",
       "      <td>0.731562</td>\n",
       "      <td>0.231664</td>\n",
       "      <td>4760.000000</td>\n",
       "      <td>1058.25000</td>\n",
       "    </tr>\n",
       "    <tr>\n",
       "      <th>max</th>\n",
       "      <td>0.861667</td>\n",
       "      <td>0.972500</td>\n",
       "      <td>0.507463</td>\n",
       "      <td>6898.000000</td>\n",
       "      <td>3410.00000</td>\n",
       "    </tr>\n",
       "  </tbody>\n",
       "</table>\n",
       "</div>"
      ],
      "text/plain": [
       "             temp         hum   windspeed   registered      casual\n",
       "count  500.000000  500.000000  500.000000   500.000000   500.00000\n",
       "mean     0.484558    0.627916    0.191074  3605.084000   810.03400\n",
       "std      0.185145    0.143338    0.077243  1573.874688   671.70654\n",
       "min      0.097391    0.000000    0.045404    20.000000     2.00000\n",
       "25%      0.325625    0.518941    0.135580  2391.500000   280.25000\n",
       "50%      0.474166    0.621666    0.183775  3664.500000   677.00000\n",
       "75%      0.653541    0.731562    0.231664  4760.000000  1058.25000\n",
       "max      0.861667    0.972500    0.507463  6898.000000  3410.00000"
      ]
     },
     "execution_count": 6,
     "metadata": {},
     "output_type": "execute_result"
    }
   ],
   "source": [
    "con_num_lst = ['temp','hum','windspeed']\n",
    "dis_num_lst = ['registered','casual']\n",
    "\n",
    "df[con_num_lst + dis_num_lst].describe()"
   ]
  },
  {
   "cell_type": "markdown",
   "metadata": {},
   "source": [
    "## Section 2\n",
    "**Use the seaborn.PairGrid to draw a set of pairwise plots of all variables in `df`, where**\n",
    "\n",
    "**1) Scatter plots in the upper triangle (in blue color)**\n",
    "\n",
    "**2) Histograms on the diagonal (in gray color)**\n",
    "\n",
    "**3) Correlation coefficients in the lower triangle**"
   ]
  },
  {
   "cell_type": "code",
   "execution_count": 7,
   "metadata": {},
   "outputs": [],
   "source": [
    "%matplotlib inline\n",
    "import seaborn as sns"
   ]
  },
  {
   "cell_type": "code",
   "execution_count": 8,
   "metadata": {},
   "outputs": [
    {
     "data": {
      "image/png": "[encoded data removed]",
      "text/plain": [
       "<Figure size 1620x1620 with 90 Axes>"
      ]
     },
     "metadata": {
      "needs_background": "light"
     },
     "output_type": "display_data"
    }
   ],
   "source": [
    "g = sns.PairGrid(data = df.iloc[:,1:]) #excludes 'date' variable\n",
    "\n",
    "def corr(x, y, **kwargs):\n",
    "    coef = np.corrcoef(x, y)[0][1]\n",
    "    label = r'$\\rho$ = ' + str(round(coef, 3))\n",
    "    ax = plt.gca()\n",
    "    ax.annotate(label, xy = (0.1, 0.45), size = 25, xycoords = ax.transAxes)\n",
    "    \n",
    "g.map_lower(corr)\n",
    "g.map_upper(plt.scatter, color = 'blue')\n",
    "g.map_diag(plt.hist, color = 'grey', edgecolor =  'k');"
   ]
  },
  {
   "cell_type": "markdown",
   "metadata": {},
   "source": [
    "## Section 3\n",
    "\n",
    "**1) Create a dictionary and name it `cc`**"
   ]
  },
  {
   "cell_type": "code",
   "execution_count": 9,
   "metadata": {},
   "outputs": [],
   "source": [
    "cc = {}"
   ]
  },
  {
   "cell_type": "code",
   "execution_count": 10,
   "metadata": {},
   "outputs": [],
   "source": [
    "# target key\n",
    "casual_arr = df['casual'].to_numpy\n",
    "cc['target'] = casual_arr()"
   ]
  },
  {
   "cell_type": "code",
   "execution_count": 11,
   "metadata": {},
   "outputs": [],
   "source": [
    "# data key\n",
    "data_arr = df.iloc[:,1:-1].to_numpy # Using the dataframe w/o dates and target variable\n",
    "cc['data'] = data_arr()"
   ]
  },
  {
   "cell_type": "code",
   "execution_count": 12,
   "metadata": {},
   "outputs": [],
   "source": [
    "# feature_name key\n",
    "fname_lst = df.iloc[:,1:-1].columns.to_numpy # Get column names of numeric features\n",
    "cc['feature_name'] = fname_lst()\n",
    "# Just a short comment: I assume that 'casual' shouldn't be included in this array\n",
    "# as it is used in the 'target_name' key. So this feature name is left out of the\n",
    "# the array on purpose. Also date-column is excluded as for the other questions."
   ]
  },
  {
   "cell_type": "code",
   "execution_count": 13,
   "metadata": {},
   "outputs": [],
   "source": [
    "# target_name key\n",
    "cc['target_name'] = np.array(['casual']).astype(dtype=object)"
   ]
  },
  {
   "cell_type": "code",
   "execution_count": 14,
   "metadata": {},
   "outputs": [
    {
     "data": {
      "text/plain": [
       "{'target': array([ 163,  247,  563,  253, 3283,  775,  243, 1236,  227,  477, 1138,\n",
       "         247,   54,  665, 1488,   95, 1027, 1026, 1434,  630,  137, 1077,\n",
       "         833,  618, 1729,  968, 2345,  199,  515,  259,  303,  155,  177,\n",
       "         205, 1405,  713,   86,  440,  888,  775, 1582,  991, 1448,  738,\n",
       "        1782,  620, 1100,  373,  532, 1023,  257,  795,  260,  639,  676,\n",
       "         318,  424, 1081,  755,   83,  106,  231,  888,  203,  349, 3410,\n",
       "         754,  310,  123,  409,  983,  968,  326,  108, 1182, 1045, 1363,\n",
       "         661,  244,  143,  559,  109,  834,  694,  333,  428,  642, 1504,\n",
       "         867,  467,  100,  688, 1029, 1869,   74,  149,  117, 2551, 1031,\n",
       "         159,  178,  331,  347,  767, 1005,  321,  126,  192,  316,  255,\n",
       "         569,  529,  955,  178, 2355,  324, 2657, 1318,  956, 1278,  981,\n",
       "         190, 2153,  472,  616,  150,   54,  203,  874, 1051, 1651, 2469,\n",
       "        1140,  684, 1298,  762,   57,  611,  692,  502,  275,  337,  466,\n",
       "         429,   47,  486,   46,  884,  998, 3155,  909, 1060, 1383,  878,\n",
       "         841,  246,   88,  632, 1038,  440, 2090,  998, 1965,  166,  182,\n",
       "          92, 1246,  669,    9,  130,  449,   94,  562,  663,  216,  196,\n",
       "         140, 1008, 1988,  284,   25,  168, 2494,  968, 2001,  989,  751,\n",
       "         253,  480, 1325,  989,  484,  746,  847,  532,   47, 1263, 1935,\n",
       "         244,  109, 1192,    2,  174,  547, 1532,  778, 1563,  413, 1433,\n",
       "         268,  240, 1017,  438, 1249,  214,  126, 2252,  667, 1658, 1139,\n",
       "         290,  773,  982,  315,  305, 2132,   67,  533,  404,  307,  204,\n",
       "        1338,  140,  419,  701,  221,  921,  188,  376,  951, 2229, 1511,\n",
       "         491,  815, 1208, 1032,  198,  935,  529,  370,  871,  304,  433,\n",
       "        2708,  769,  905,  460, 1122,   41,  349,  139, 2234,  848, 1173,\n",
       "         763, 1707,   88, 2006, 1259, 1058,  691,  410, 1207,  325,   64,\n",
       "        1022,  470, 1026, 1467,  191,  614,   53,   82,   61,  518, 2235,\n",
       "        1188, 2634, 2562,  435,  384,  439,  922, 2855, 1070,  834,  784,\n",
       "        2301,  830, 1353, 1120, 1153, 2135,  644,  123, 1047, 2512,  288,\n",
       "         902,  599, 2806,  153, 2015,  502,  787,  662,  764,  922,  653,\n",
       "        1455, 1033,  475,  763, 1027, 2352,  555,  674,  318,  939,  209,\n",
       "          74, 1417,  173,  333,  172,  968,  664,  854,  745,  921,  655,\n",
       "         107, 2224,  836, 2589,  148, 1544, 1829,  768, 1208,   81, 1249,\n",
       "         425, 1094,  987,  373,  217,  246,  120,  212,  467, 1521,  103,\n",
       "         218,  892, 1338,   78, 1807,  668,  471,  721, 2613, 1052, 1095,\n",
       "         667,  709,  282,  954, 1014,  734,  801,  742,  634,  254, 1045,\n",
       "        1558,  678,  676,    9, 1128,  354, 1319,  254,  710, 1050,  875,\n",
       "         884, 2521,  686,  846,  819,  551, 1180,  220,  118,  603,  340,\n",
       "         727, 3160, 1198, 1483, 1415,  300, 1242, 1619, 2570,  724, 1070,\n",
       "         447,  879,  615, 1201,  430,   42,   50,  838,  167, 1401, 1965,\n",
       "         131, 2172,   38,  179, 1156,  289, 3065,  329,  774,  394,  775,\n",
       "        1074, 1366, 1172,  898,  371,  307, 2454,  894,  229,  441,  141,\n",
       "        1275,  269,   38, 1001,  997, 1059,  439,  964, 2355,  226,  773,\n",
       "        2207,  174,  952,  135,  659, 1065,  222,  449, 2230,  100,  221,\n",
       "         606,  377,  548,  695,  217,  969, 1040,  723,  480,   73, 2795,\n",
       "         255,  735,  466,  195,  907, 1462,  258,  330,  830,  261,  647,\n",
       "        2204,  121,  456, 1334,  314], dtype=int64),\n",
       " 'data': array([[0.00000e+00, 4.00000e+00, 1.00000e+00, ..., 5.62083e-01,\n",
       "         1.94037e-01, 3.66700e+03],\n",
       "        [0.00000e+00, 4.00000e+00, 1.00000e+00, ..., 6.52917e-01,\n",
       "         3.50133e-01, 1.86700e+03],\n",
       "        [0.00000e+00, 4.00000e+00, 1.00000e+00, ..., 5.68333e-01,\n",
       "         1.49883e-01, 3.35200e+03],\n",
       "        ...,\n",
       "        [0.00000e+00, 5.00000e+00, 1.00000e+00, ..., 5.85833e-01,\n",
       "         2.29479e-01, 3.29100e+03],\n",
       "        [0.00000e+00, 4.00000e+00, 1.00000e+00, ..., 8.31250e-01,\n",
       "         1.17562e-01, 5.53700e+03],\n",
       "        [0.00000e+00, 4.00000e+00, 1.00000e+00, ..., 6.67917e-01,\n",
       "         1.32463e-01, 3.81400e+03]]),\n",
       " 'feature_name': array(['holiday', 'weekday', 'workingday', 'weathersit', 'temp', 'hum',\n",
       "        'windspeed', 'registered'], dtype=object),\n",
       " 'target_name': array(['casual'], dtype=object)}"
      ]
     },
     "execution_count": 14,
     "metadata": {},
     "output_type": "execute_result"
    }
   ],
   "source": [
    "cc"
   ]
  },
  {
   "cell_type": "markdown",
   "metadata": {},
   "source": [
    "**2) Randomly split the data into training and test sets. The split ratio is 80:20 (i.e., 80% for training and 20% for testing). Use your allocated random seed if applicable. Name the training input feature data to `x_train`; name the test input feature data to `x_test`; name the training target data to `y_train`; name the test target data to `y_test`.**"
   ]
  },
  {
   "cell_type": "code",
   "execution_count": 15,
   "metadata": {},
   "outputs": [],
   "source": [
    "x, y = cc.get(\"data\"), cc.get(\"target\")"
   ]
  },
  {
   "cell_type": "code",
   "execution_count": 16,
   "metadata": {},
   "outputs": [],
   "source": [
    "from sklearn.model_selection import train_test_split\n",
    "\n",
    "x_train, x_test, y_train, y_test = train_test_split(x, y, test_size=0.2, random_state=rs)"
   ]
  },
  {
   "cell_type": "markdown",
   "metadata": {},
   "source": [
    "**3) Train linear regression, decision tree, random forest, neural network models using the training data and make predictions using the test data. You can either write your own functions or use third-party libraries such as sklearn to train and test your models. You can set the model hyperparameters with the values you think are appropriate and use your allocated random seed if applicable.**\n",
    "\n",
    "Note that as the target variable 'casual' is numerical with 438 unique values (using `df.casual.unique().size`) all models are implemented for regression."
   ]
  },
  {
   "cell_type": "code",
   "execution_count": 17,
   "metadata": {},
   "outputs": [],
   "source": [
    "# Create dictionaries to save model predictions\n",
    "y_pred_train = {}\n",
    "y_pred_test = {}\n",
    "model_list = {}"
   ]
  },
  {
   "cell_type": "markdown",
   "metadata": {},
   "source": [
    "**Linear Regression**"
   ]
  },
  {
   "cell_type": "code",
   "execution_count": 18,
   "metadata": {},
   "outputs": [],
   "source": [
    "from sklearn.linear_model import LinearRegression\n",
    "\n",
    "lin_reg = LinearRegression() # No parameters changed.\n",
    "lin_reg.fit(x_train, y_train)\n",
    "\n",
    "y_pred_train[\"LR\"] = lin_reg.predict(x_train)\n",
    "y_pred_test[\"LR\"] = lin_reg.predict(x_test)\n",
    "model_list[\"LR\"] = lin_reg"
   ]
  },
  {
   "cell_type": "markdown",
   "metadata": {},
   "source": [
    "**Decision tree**"
   ]
  },
  {
   "cell_type": "code",
   "execution_count": 19,
   "metadata": {},
   "outputs": [],
   "source": [
    "from sklearn.tree import DecisionTreeRegressor\n",
    "\n",
    "tree_reg = DecisionTreeRegressor(random_state=rs) # criterion is MSE as default\n",
    "tree_reg.fit(x_train, y_train)\n",
    "\n",
    "y_pred_train[\"DT\"] = tree_reg.predict(x_train)\n",
    "y_pred_test[\"DT\"] = tree_reg.predict(x_test)\n",
    "model_list[\"DT\"] = tree_reg"
   ]
  },
  {
   "cell_type": "markdown",
   "metadata": {},
   "source": [
    "**Random Forest**"
   ]
  },
  {
   "cell_type": "code",
   "execution_count": 20,
   "metadata": {},
   "outputs": [],
   "source": [
    "from sklearn.ensemble import RandomForestRegressor\n",
    "\n",
    "rf_reg = RandomForestRegressor(random_state=rs) # criterion is MSE as default\n",
    "rf_reg.fit(x_train, y_train)\n",
    "\n",
    "y_pred_train[\"RF\"] = rf_reg.predict(x_train)\n",
    "y_pred_test[\"RF\"] = rf_reg.predict(x_test)\n",
    "model_list[\"RF\"] = rf_reg"
   ]
  },
  {
   "cell_type": "markdown",
   "metadata": {},
   "source": [
    "**Artificial Neural Networks:** Multi-Layer Perception"
   ]
  },
  {
   "cell_type": "code",
   "execution_count": 21,
   "metadata": {},
   "outputs": [],
   "source": [
    "from sklearn.neural_network import MLPRegressor\n",
    "\n",
    "mlp_reg = MLPRegressor(random_state=rs, max_iter=1000) \n",
    "#     Default 'relu' choice of activation function and increased max number of iterations from 200.\n",
    "mlp_reg.fit(x_train, y_train)\n",
    "\n",
    "y_pred_train[\"MLP\"] = mlp_reg.predict(x_train)\n",
    "y_pred_test[\"MLP\"] = mlp_reg.predict(x_test)\n",
    "model_list[\"MLP\"] = mlp_reg"
   ]
  },
  {
   "cell_type": "markdown",
   "metadata": {},
   "source": [
    "**4) Write your own Python function to calculate the mean squared error between the model predictions and the ground truth target values. The function name is `mse_new`. Use your own function `mse_new` to report the model's prediction performance for the test data. In the meantime, show the mean squared errors calculated from your `mse_new` function are equal to the `sklearn` library's `mean_squared_error` function. Compare and discuss the performance of these four models.**"
   ]
  },
  {
   "cell_type": "markdown",
   "metadata": {},
   "source": [
    "The formula for MSE is given by:\n",
    "$$MSE=\\frac{1}{n}=\\sum_{i=1}^{n}(y_i-\\hat{y}_i)$$\n",
    "Where $y_i$ is the observed value of the target variable, $\\hat{y}_i$ is the predicted value of target variable and $n$ is the number of observations."
   ]
  },
  {
   "cell_type": "code",
   "execution_count": 22,
   "metadata": {},
   "outputs": [],
   "source": [
    "def mse_new(y, y_hat):\n",
    "    n = len(y)\n",
    "    sum_sq_error = 0\n",
    "    for i in range (0,n):\n",
    "        error = y[i] - y_hat[i]\n",
    "        squared_error = error**2 \n",
    "        sum_sq_error = sum_sq_error + squared_error\n",
    "    MSE = sum_sq_error/n\n",
    "    return(MSE)"
   ]
  },
  {
   "cell_type": "code",
   "execution_count": 23,
   "metadata": {},
   "outputs": [
    {
     "data": {
      "text/html": [
       "<div>\n",
       "<style scoped>\n",
       "    .dataframe tbody tr th:only-of-type {\n",
       "        vertical-align: middle;\n",
       "    }\n",
       "\n",
       "    .dataframe tbody tr th {\n",
       "        vertical-align: top;\n",
       "    }\n",
       "\n",
       "    .dataframe thead th {\n",
       "        text-align: right;\n",
       "    }\n",
       "</style>\n",
       "<table border=\"1\" class=\"dataframe\">\n",
       "  <thead>\n",
       "    <tr style=\"text-align: right;\">\n",
       "      <th></th>\n",
       "      <th>mse_new</th>\n",
       "      <th>mean_squared_error</th>\n",
       "    </tr>\n",
       "  </thead>\n",
       "  <tbody>\n",
       "    <tr>\n",
       "      <th>LR</th>\n",
       "      <td>117241.711259</td>\n",
       "      <td>117241.711259</td>\n",
       "    </tr>\n",
       "    <tr>\n",
       "      <th>DT</th>\n",
       "      <td>130416.070000</td>\n",
       "      <td>130416.070000</td>\n",
       "    </tr>\n",
       "    <tr>\n",
       "      <th>RF</th>\n",
       "      <td>84056.524257</td>\n",
       "      <td>84056.524257</td>\n",
       "    </tr>\n",
       "    <tr>\n",
       "      <th>MLP</th>\n",
       "      <td>325829.344695</td>\n",
       "      <td>325829.344695</td>\n",
       "    </tr>\n",
       "  </tbody>\n",
       "</table>\n",
       "</div>"
      ],
      "text/plain": [
       "           mse_new  mean_squared_error\n",
       "LR   117241.711259       117241.711259\n",
       "DT   130416.070000       130416.070000\n",
       "RF    84056.524257        84056.524257\n",
       "MLP  325829.344695       325829.344695"
      ]
     },
     "execution_count": 23,
     "metadata": {},
     "output_type": "execute_result"
    }
   ],
   "source": [
    "from sklearn.metrics import mean_squared_error\n",
    "\n",
    "results = {}\n",
    "algo_list = list(model_list.keys())\n",
    "\n",
    "for algo in algo_list:\n",
    "    results[algo] = {'mse_new': mse_new(y_test, y_pred_test[algo]),\n",
    "                     'mean_squared_error': mean_squared_error(y_test, y_pred_test[algo])}\n",
    "df_results = pd.DataFrame.from_dict(results).T\n",
    "df_results"
   ]
  },
  {
   "cell_type": "markdown",
   "metadata": {},
   "source": [
    "**Answer:** In conclusion of the `mse_new` function, we can see that this outputs the same as `sklearn`'s built-in function.\n",
    "\n",
    "When assessing the performance of the models, a lower MSE is preferred and most models' cost functions are related to this MSE measure. As out-of-sample prediction is the main objective of most Machine Learning work, measuring MSE on the training set is unnessesary and may lead to invalid conclusion, as a low in-sample MSE can be the result of overfitting.\n",
    "\n",
    "For the selected models, the random forest model have the best out-of-sample fit (i.e. lowest MSE on the test set) and should be the prefered model. _However_, adjusting the hyperparameters in the models may be beneficial and provide better models for prediction, such adjustments could be (but not exclusively): \n",
    "\n",
    "- Determining max nodes and depth in Decision Tree and Random Forest to avoid overfitting\n",
    "- Using more layers and/or other activation functions in ANN\n",
    "- Using another form of neural network (i.e. other than MLP)"
   ]
  },
  {
   "cell_type": "markdown",
   "metadata": {},
   "source": [
    "## Section 4\n",
    "\n",
    "**1) Decompose variable `dteday` of `df` into three new variables (i.e., `day`, `month`, `year`) into `df` and remove `dteday` from `df`.**\n",
    "\n",
    "Note that I do this in a new dataframe"
   ]
  },
  {
   "cell_type": "code",
   "execution_count": 24,
   "metadata": {},
   "outputs": [],
   "source": [
    "df2 = df.copy()\n",
    "df2['day'] = pd.DatetimeIndex(df2['dteday']).day\n",
    "df2['month'] = pd.DatetimeIndex(df2['dteday']).month\n",
    "df2['year'] = pd.DatetimeIndex(df2['dteday']).year\n",
    "df2 = df2.drop(columns=['dteday'])"
   ]
  },
  {
   "cell_type": "code",
   "execution_count": 25,
   "metadata": {},
   "outputs": [
    {
     "data": {
      "text/html": [
       "<div>\n",
       "<style scoped>\n",
       "    .dataframe tbody tr th:only-of-type {\n",
       "        vertical-align: middle;\n",
       "    }\n",
       "\n",
       "    .dataframe tbody tr th {\n",
       "        vertical-align: top;\n",
       "    }\n",
       "\n",
       "    .dataframe thead th {\n",
       "        text-align: right;\n",
       "    }\n",
       "</style>\n",
       "<table border=\"1\" class=\"dataframe\">\n",
       "  <thead>\n",
       "    <tr style=\"text-align: right;\">\n",
       "      <th></th>\n",
       "      <th>holiday</th>\n",
       "      <th>weekday</th>\n",
       "      <th>workingday</th>\n",
       "      <th>weathersit</th>\n",
       "      <th>temp</th>\n",
       "      <th>hum</th>\n",
       "      <th>windspeed</th>\n",
       "      <th>registered</th>\n",
       "      <th>casual</th>\n",
       "      <th>day</th>\n",
       "      <th>month</th>\n",
       "      <th>year</th>\n",
       "    </tr>\n",
       "  </thead>\n",
       "  <tbody>\n",
       "    <tr>\n",
       "      <th>0</th>\n",
       "      <td>0</td>\n",
       "      <td>4</td>\n",
       "      <td>1</td>\n",
       "      <td>1</td>\n",
       "      <td>0.265000</td>\n",
       "      <td>0.562083</td>\n",
       "      <td>0.194037</td>\n",
       "      <td>3667</td>\n",
       "      <td>163</td>\n",
       "      <td>2</td>\n",
       "      <td>9</td>\n",
       "      <td>2012</td>\n",
       "    </tr>\n",
       "    <tr>\n",
       "      <th>1</th>\n",
       "      <td>0</td>\n",
       "      <td>4</td>\n",
       "      <td>1</td>\n",
       "      <td>2</td>\n",
       "      <td>0.254167</td>\n",
       "      <td>0.652917</td>\n",
       "      <td>0.350133</td>\n",
       "      <td>1867</td>\n",
       "      <td>247</td>\n",
       "      <td>27</td>\n",
       "      <td>12</td>\n",
       "      <td>2012</td>\n",
       "    </tr>\n",
       "    <tr>\n",
       "      <th>2</th>\n",
       "      <td>0</td>\n",
       "      <td>4</td>\n",
       "      <td>1</td>\n",
       "      <td>2</td>\n",
       "      <td>0.808333</td>\n",
       "      <td>0.568333</td>\n",
       "      <td>0.149883</td>\n",
       "      <td>3352</td>\n",
       "      <td>563</td>\n",
       "      <td>6</td>\n",
       "      <td>9</td>\n",
       "      <td>2011</td>\n",
       "    </tr>\n",
       "    <tr>\n",
       "      <th>3</th>\n",
       "      <td>0</td>\n",
       "      <td>1</td>\n",
       "      <td>1</td>\n",
       "      <td>1</td>\n",
       "      <td>0.366667</td>\n",
       "      <td>0.490833</td>\n",
       "      <td>0.268033</td>\n",
       "      <td>4069</td>\n",
       "      <td>253</td>\n",
       "      <td>27</td>\n",
       "      <td>2</td>\n",
       "      <td>2012</td>\n",
       "    </tr>\n",
       "    <tr>\n",
       "      <th>4</th>\n",
       "      <td>0</td>\n",
       "      <td>0</td>\n",
       "      <td>0</td>\n",
       "      <td>1</td>\n",
       "      <td>0.690000</td>\n",
       "      <td>0.697083</td>\n",
       "      <td>0.215171</td>\n",
       "      <td>3308</td>\n",
       "      <td>3283</td>\n",
       "      <td>27</td>\n",
       "      <td>5</td>\n",
       "      <td>2012</td>\n",
       "    </tr>\n",
       "  </tbody>\n",
       "</table>\n",
       "</div>"
      ],
      "text/plain": [
       "   holiday  weekday  workingday  weathersit      temp       hum  windspeed  \\\n",
       "0        0        4           1           1  0.265000  0.562083   0.194037   \n",
       "1        0        4           1           2  0.254167  0.652917   0.350133   \n",
       "2        0        4           1           2  0.808333  0.568333   0.149883   \n",
       "3        0        1           1           1  0.366667  0.490833   0.268033   \n",
       "4        0        0           0           1  0.690000  0.697083   0.215171   \n",
       "\n",
       "   registered  casual  day  month  year  \n",
       "0        3667     163    2      9  2012  \n",
       "1        1867     247   27     12  2012  \n",
       "2        3352     563    6      9  2011  \n",
       "3        4069     253   27      2  2012  \n",
       "4        3308    3283   27      5  2012  "
      ]
     },
     "execution_count": 25,
     "metadata": {},
     "output_type": "execute_result"
    }
   ],
   "source": [
    "df2.head()"
   ]
  },
  {
   "cell_type": "markdown",
   "metadata": {},
   "source": [
    "**2) Convert the data types of variables `day`, `month`, `year` into `int64`.**"
   ]
  },
  {
   "cell_type": "code",
   "execution_count": 26,
   "metadata": {},
   "outputs": [
    {
     "data": {
      "text/plain": [
       "holiday         int64\n",
       "weekday         int64\n",
       "workingday      int64\n",
       "weathersit      int64\n",
       "temp          float64\n",
       "hum           float64\n",
       "windspeed     float64\n",
       "registered      int64\n",
       "casual          int64\n",
       "day             int64\n",
       "month           int64\n",
       "year            int64\n",
       "dtype: object"
      ]
     },
     "execution_count": 26,
     "metadata": {},
     "output_type": "execute_result"
    }
   ],
   "source": [
    "df2.dtypes"
   ]
  },
  {
   "cell_type": "markdown",
   "metadata": {},
   "source": [
    "**Answer:** The variables for day month and year is already `int64`"
   ]
  },
  {
   "cell_type": "markdown",
   "metadata": {},
   "source": [
    "**3) Train and test the linear regression, decision tree, random forest, and neural network models in Section 3 using the same data split settings and model hyperparameter settings. Show and discuss if the model prediction performance can be improved and why.**"
   ]
  },
  {
   "cell_type": "code",
   "execution_count": 27,
   "metadata": {},
   "outputs": [],
   "source": [
    "# Split data set\n",
    "x_train2, x_test2, y_train2, y_test2 = train_test_split(x, y, test_size=0.2) # Random state = None by default\n",
    "\n",
    "# Create dictionaries to save model predictions\n",
    "y_pred_train2 = {}\n",
    "y_pred_test2 = {}"
   ]
  },
  {
   "cell_type": "markdown",
   "metadata": {},
   "source": [
    "**Linear Regression**"
   ]
  },
  {
   "cell_type": "code",
   "execution_count": 28,
   "metadata": {},
   "outputs": [],
   "source": [
    "lin_reg2 = LinearRegression() # No parameters changed.\n",
    "lin_reg2.fit(x_train2, y_train2)\n",
    "\n",
    "y_pred_train2[\"LR\"] = lin_reg2.predict(x_train2)\n",
    "y_pred_test2[\"LR\"] = lin_reg2.predict(x_test2)"
   ]
  },
  {
   "cell_type": "markdown",
   "metadata": {},
   "source": [
    "**Decision tree**"
   ]
  },
  {
   "cell_type": "code",
   "execution_count": 29,
   "metadata": {},
   "outputs": [],
   "source": [
    "tree_reg2 = DecisionTreeRegressor() # criterion is MSE as default\n",
    "tree_reg2.fit(x_train2, y_train2)\n",
    "\n",
    "y_pred_train2[\"DT\"] = tree_reg2.predict(x_train2)\n",
    "y_pred_test2[\"DT\"] = tree_reg2.predict(x_test2)"
   ]
  },
  {
   "cell_type": "markdown",
   "metadata": {},
   "source": [
    "**Random Forest**"
   ]
  },
  {
   "cell_type": "code",
   "execution_count": 30,
   "metadata": {},
   "outputs": [],
   "source": [
    "rf_reg2 = RandomForestRegressor() # criterion is MSE as default\n",
    "rf_reg2.fit(x_train2, y_train2)\n",
    "\n",
    "y_pred_train2[\"RF\"] = rf_reg2.predict(x_train2)\n",
    "y_pred_test2[\"RF\"] = rf_reg2.predict(x_test2)"
   ]
  },
  {
   "cell_type": "markdown",
   "metadata": {},
   "source": [
    "**Artificial Neural Networks:** Multi-Layer Perception"
   ]
  },
  {
   "cell_type": "code",
   "execution_count": 31,
   "metadata": {},
   "outputs": [],
   "source": [
    "mlp_reg2 = MLPRegressor(max_iter=1000) \n",
    "#     Default 'relu' choice of activation function and increased max number of iterations from 200.\n",
    "mlp_reg2.fit(x_train2, y_train2)\n",
    "\n",
    "y_pred_train2[\"MLP\"] = mlp_reg2.predict(x_train2)\n",
    "y_pred_test2[\"MLP\"] = mlp_reg2.predict(x_test2)"
   ]
  },
  {
   "cell_type": "code",
   "execution_count": 32,
   "metadata": {},
   "outputs": [
    {
     "data": {
      "text/html": [
       "<div>\n",
       "<style scoped>\n",
       "    .dataframe tbody tr th:only-of-type {\n",
       "        vertical-align: middle;\n",
       "    }\n",
       "\n",
       "    .dataframe tbody tr th {\n",
       "        vertical-align: top;\n",
       "    }\n",
       "\n",
       "    .dataframe thead th {\n",
       "        text-align: right;\n",
       "    }\n",
       "</style>\n",
       "<table border=\"1\" class=\"dataframe\">\n",
       "  <thead>\n",
       "    <tr style=\"text-align: right;\">\n",
       "      <th></th>\n",
       "      <th>mean_squared_error</th>\n",
       "    </tr>\n",
       "  </thead>\n",
       "  <tbody>\n",
       "    <tr>\n",
       "      <th>LR</th>\n",
       "      <td>141089.939367</td>\n",
       "    </tr>\n",
       "    <tr>\n",
       "      <th>DT</th>\n",
       "      <td>144299.500000</td>\n",
       "    </tr>\n",
       "    <tr>\n",
       "      <th>RF</th>\n",
       "      <td>95897.590095</td>\n",
       "    </tr>\n",
       "    <tr>\n",
       "      <th>MLP</th>\n",
       "      <td>405165.094624</td>\n",
       "    </tr>\n",
       "  </tbody>\n",
       "</table>\n",
       "</div>"
      ],
      "text/plain": [
       "     mean_squared_error\n",
       "LR        141089.939367\n",
       "DT        144299.500000\n",
       "RF         95897.590095\n",
       "MLP       405165.094624"
      ]
     },
     "execution_count": 32,
     "metadata": {},
     "output_type": "execute_result"
    }
   ],
   "source": [
    "results2 = {}\n",
    "\n",
    "for algo in algo_list:\n",
    "    results2[algo] = {'mean_squared_error': mean_squared_error(y_test2, y_pred_test2[algo])}\n",
    "\n",
    "df_results2 = pd.DataFrame.from_dict(results2).T\n",
    "df_results2"
   ]
  },
  {
   "cell_type": "markdown",
   "metadata": {},
   "source": [
    "**Discussion:** Removing the random state hyperparameter from `sklearn`'s `train_test_split` and in the estimations yields different results than in section 3. Random Forest is still the best model for out-of-sample prediction using MSE as the criterion.\n",
    "\n",
    "Potential (model-specific) improvements of the models are discussed in Question 4 of Section 3, but two general improvements of the data could be: \n",
    "\n",
    "- Changing the categorical `weathersit` variable into dummies.\n",
    "- Standardizing the numerical variables, e.g. z-scores.\n",
    "\n",
    "These improvements will be done in the following code:"
   ]
  },
  {
   "cell_type": "code",
   "execution_count": 33,
   "metadata": {},
   "outputs": [
    {
     "data": {
      "text/html": [
       "<div>\n",
       "<style scoped>\n",
       "    .dataframe tbody tr th:only-of-type {\n",
       "        vertical-align: middle;\n",
       "    }\n",
       "\n",
       "    .dataframe tbody tr th {\n",
       "        vertical-align: top;\n",
       "    }\n",
       "\n",
       "    .dataframe thead th {\n",
       "        text-align: right;\n",
       "    }\n",
       "</style>\n",
       "<table border=\"1\" class=\"dataframe\">\n",
       "  <thead>\n",
       "    <tr style=\"text-align: right;\">\n",
       "      <th></th>\n",
       "      <th>dteday</th>\n",
       "      <th>holiday</th>\n",
       "      <th>weekday</th>\n",
       "      <th>workingday</th>\n",
       "      <th>temp</th>\n",
       "      <th>hum</th>\n",
       "      <th>windspeed</th>\n",
       "      <th>registered</th>\n",
       "      <th>casual</th>\n",
       "      <th>2</th>\n",
       "      <th>3</th>\n",
       "    </tr>\n",
       "  </thead>\n",
       "  <tbody>\n",
       "    <tr>\n",
       "      <th>0</th>\n",
       "      <td>09/02/2012</td>\n",
       "      <td>0</td>\n",
       "      <td>4</td>\n",
       "      <td>1</td>\n",
       "      <td>0.265000</td>\n",
       "      <td>0.562083</td>\n",
       "      <td>0.194037</td>\n",
       "      <td>3667</td>\n",
       "      <td>163</td>\n",
       "      <td>0</td>\n",
       "      <td>0</td>\n",
       "    </tr>\n",
       "    <tr>\n",
       "      <th>1</th>\n",
       "      <td>27/12/2012</td>\n",
       "      <td>0</td>\n",
       "      <td>4</td>\n",
       "      <td>1</td>\n",
       "      <td>0.254167</td>\n",
       "      <td>0.652917</td>\n",
       "      <td>0.350133</td>\n",
       "      <td>1867</td>\n",
       "      <td>247</td>\n",
       "      <td>1</td>\n",
       "      <td>0</td>\n",
       "    </tr>\n",
       "    <tr>\n",
       "      <th>2</th>\n",
       "      <td>09/06/2011</td>\n",
       "      <td>0</td>\n",
       "      <td>4</td>\n",
       "      <td>1</td>\n",
       "      <td>0.808333</td>\n",
       "      <td>0.568333</td>\n",
       "      <td>0.149883</td>\n",
       "      <td>3352</td>\n",
       "      <td>563</td>\n",
       "      <td>1</td>\n",
       "      <td>0</td>\n",
       "    </tr>\n",
       "    <tr>\n",
       "      <th>3</th>\n",
       "      <td>27/02/2012</td>\n",
       "      <td>0</td>\n",
       "      <td>1</td>\n",
       "      <td>1</td>\n",
       "      <td>0.366667</td>\n",
       "      <td>0.490833</td>\n",
       "      <td>0.268033</td>\n",
       "      <td>4069</td>\n",
       "      <td>253</td>\n",
       "      <td>0</td>\n",
       "      <td>0</td>\n",
       "    </tr>\n",
       "    <tr>\n",
       "      <th>4</th>\n",
       "      <td>27/05/2012</td>\n",
       "      <td>0</td>\n",
       "      <td>0</td>\n",
       "      <td>0</td>\n",
       "      <td>0.690000</td>\n",
       "      <td>0.697083</td>\n",
       "      <td>0.215171</td>\n",
       "      <td>3308</td>\n",
       "      <td>3283</td>\n",
       "      <td>0</td>\n",
       "      <td>0</td>\n",
       "    </tr>\n",
       "  </tbody>\n",
       "</table>\n",
       "</div>"
      ],
      "text/plain": [
       "       dteday  holiday  weekday  workingday      temp       hum  windspeed  \\\n",
       "0  09/02/2012        0        4           1  0.265000  0.562083   0.194037   \n",
       "1  27/12/2012        0        4           1  0.254167  0.652917   0.350133   \n",
       "2  09/06/2011        0        4           1  0.808333  0.568333   0.149883   \n",
       "3  27/02/2012        0        1           1  0.366667  0.490833   0.268033   \n",
       "4  27/05/2012        0        0           0  0.690000  0.697083   0.215171   \n",
       "\n",
       "   registered  casual  2  3  \n",
       "0        3667     163  0  0  \n",
       "1        1867     247  1  0  \n",
       "2        3352     563  1  0  \n",
       "3        4069     253  0  0  \n",
       "4        3308    3283  0  0  "
      ]
     },
     "execution_count": 33,
     "metadata": {},
     "output_type": "execute_result"
    }
   ],
   "source": [
    "improved_df = df.copy() # copy of dataset\n",
    "\n",
    "improved_df['weathersit'] = improved_df['weathersit'].astype('object') # change weathersit to object\n",
    "\n",
    "improved_df_temp = pd.get_dummies(improved_df['weathersit'], drop_first=True) # create dummies\n",
    "\n",
    "improved_df = pd.concat([improved_df, improved_df_temp], axis=1, ignore_index=False) #concatenate\n",
    "\n",
    "improved_df = improved_df.drop(columns=['weathersit']) #drop original weathersit\n",
    "\n",
    "improved_df.head()"
   ]
  },
  {
   "cell_type": "code",
   "execution_count": 34,
   "metadata": {},
   "outputs": [
    {
     "data": {
      "text/html": [
       "<div>\n",
       "<style scoped>\n",
       "    .dataframe tbody tr th:only-of-type {\n",
       "        vertical-align: middle;\n",
       "    }\n",
       "\n",
       "    .dataframe tbody tr th {\n",
       "        vertical-align: top;\n",
       "    }\n",
       "\n",
       "    .dataframe thead th {\n",
       "        text-align: right;\n",
       "    }\n",
       "</style>\n",
       "<table border=\"1\" class=\"dataframe\">\n",
       "  <thead>\n",
       "    <tr style=\"text-align: right;\">\n",
       "      <th></th>\n",
       "      <th>dteday</th>\n",
       "      <th>holiday</th>\n",
       "      <th>weekday</th>\n",
       "      <th>workingday</th>\n",
       "      <th>temp</th>\n",
       "      <th>hum</th>\n",
       "      <th>windspeed</th>\n",
       "      <th>registered</th>\n",
       "      <th>casual</th>\n",
       "      <th>2</th>\n",
       "      <th>3</th>\n",
       "    </tr>\n",
       "  </thead>\n",
       "  <tbody>\n",
       "    <tr>\n",
       "      <th>0</th>\n",
       "      <td>09/02/2012</td>\n",
       "      <td>0</td>\n",
       "      <td>4</td>\n",
       "      <td>1</td>\n",
       "      <td>-1.187062</td>\n",
       "      <td>-0.459747</td>\n",
       "      <td>0.038403</td>\n",
       "      <td>0.039379</td>\n",
       "      <td>-0.964234</td>\n",
       "      <td>0</td>\n",
       "      <td>0</td>\n",
       "    </tr>\n",
       "    <tr>\n",
       "      <th>1</th>\n",
       "      <td>27/12/2012</td>\n",
       "      <td>0</td>\n",
       "      <td>4</td>\n",
       "      <td>1</td>\n",
       "      <td>-1.245632</td>\n",
       "      <td>0.174594</td>\n",
       "      <td>2.061283</td>\n",
       "      <td>-1.105440</td>\n",
       "      <td>-0.839054</td>\n",
       "      <td>1</td>\n",
       "      <td>0</td>\n",
       "    </tr>\n",
       "    <tr>\n",
       "      <th>2</th>\n",
       "      <td>09/06/2011</td>\n",
       "      <td>0</td>\n",
       "      <td>4</td>\n",
       "      <td>1</td>\n",
       "      <td>1.750517</td>\n",
       "      <td>-0.416100</td>\n",
       "      <td>-0.533797</td>\n",
       "      <td>-0.160964</td>\n",
       "      <td>-0.368139</td>\n",
       "      <td>1</td>\n",
       "      <td>0</td>\n",
       "    </tr>\n",
       "    <tr>\n",
       "      <th>3</th>\n",
       "      <td>27/02/2012</td>\n",
       "      <td>0</td>\n",
       "      <td>1</td>\n",
       "      <td>1</td>\n",
       "      <td>-0.637390</td>\n",
       "      <td>-0.957323</td>\n",
       "      <td>0.997333</td>\n",
       "      <td>0.295056</td>\n",
       "      <td>-0.830112</td>\n",
       "      <td>0</td>\n",
       "      <td>0</td>\n",
       "    </tr>\n",
       "    <tr>\n",
       "      <th>4</th>\n",
       "      <td>27/05/2012</td>\n",
       "      <td>0</td>\n",
       "      <td>0</td>\n",
       "      <td>0</td>\n",
       "      <td>1.110739</td>\n",
       "      <td>0.483028</td>\n",
       "      <td>0.312283</td>\n",
       "      <td>-0.188949</td>\n",
       "      <td>3.685304</td>\n",
       "      <td>0</td>\n",
       "      <td>0</td>\n",
       "    </tr>\n",
       "  </tbody>\n",
       "</table>\n",
       "</div>"
      ],
      "text/plain": [
       "       dteday  holiday  weekday  workingday      temp       hum  windspeed  \\\n",
       "0  09/02/2012        0        4           1 -1.187062 -0.459747   0.038403   \n",
       "1  27/12/2012        0        4           1 -1.245632  0.174594   2.061283   \n",
       "2  09/06/2011        0        4           1  1.750517 -0.416100  -0.533797   \n",
       "3  27/02/2012        0        1           1 -0.637390 -0.957323   0.997333   \n",
       "4  27/05/2012        0        0           0  1.110739  0.483028   0.312283   \n",
       "\n",
       "   registered    casual  2  3  \n",
       "0    0.039379 -0.964234  0  0  \n",
       "1   -1.105440 -0.839054  1  0  \n",
       "2   -0.160964 -0.368139  1  0  \n",
       "3    0.295056 -0.830112  0  0  \n",
       "4   -0.188949  3.685304  0  0  "
      ]
     },
     "execution_count": 34,
     "metadata": {},
     "output_type": "execute_result"
    }
   ],
   "source": [
    "from sklearn.preprocessing import StandardScaler\n",
    "scaler = StandardScaler()\n",
    "\n",
    "rescaled_np = improved_df[con_num_lst + dis_num_lst].to_numpy()\n",
    "\n",
    "scaler.fit(rescaled_np)\n",
    "\n",
    "improved_df[con_num_lst + dis_num_lst] = scaler.transform(rescaled_np)\n",
    "\n",
    "improved_df.head()"
   ]
  },
  {
   "cell_type": "markdown",
   "metadata": {},
   "source": [
    "**Answer:** Unfortunately I didn't have time to run the models using the `improved_df` dataframe I just created. But basically what I have done is replacing 'weathersit' by two dummies (note that 'weathersit' = 1 is default) and then standardized (using standard scaler) the numerical variables in the feature set: `temp`, `hum`, `windspeed`, `registered` as well as the target variable `casual`.\n",
    "This should improve the performance as well as the validity of the results.\n"
   ]
  }
 ],
 "metadata": {
  "kernelspec": {
   "display_name": "Python 3",
   "language": "python",
   "name": "python3"
  },
  "language_info": {
   "codemirror_mode": {
    "name": "ipython",
    "version": 3
   },
   "file_extension": ".py",
   "mimetype": "text/x-python",
   "name": "python",
   "nbconvert_exporter": "python",
   "pygments_lexer": "ipython3",
   "version": "3.7.6"
  }
 },
 "nbformat": 4,
 "nbformat_minor": 2
}
