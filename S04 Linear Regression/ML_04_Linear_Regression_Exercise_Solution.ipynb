{
 "cells": [
  {
   "cell_type": "markdown",
   "metadata": {},
   "source": [
    "# CCMVI2085U Session 04 Linear Regression | Exercise Solution\n",
    "\n",
    "[**CCMVI2085U Machine Learning for Predictive Analytics in Business @ CBS ISUP 2020**](https://kursuskatalog.cbs.dk/2019-2020/KAN-CCMVI2085U.aspx?lang=en-GB)\n",
    "\n",
    "Course coordinator: [Bowei Chen](https://boweichen.github.io/) | Email: [bc.acc@cbs.dk](mailto:bc.acc@cbs.dk)\n",
    "\n",
    "-----"
   ]
  },
  {
   "cell_type": "markdown",
   "metadata": {},
   "source": [
    "<div class=\"alert alert-info\">\n",
    "In this workshop practice, you are going to use this Jupyter notebook the perform a few linear regression models for the following marketing analytics project. Enter your solution (i.e., Python codes) under each question.\n",
    "</div>"
   ]
  },
  {
   "cell_type": "markdown",
   "metadata": {},
   "source": [
    "## Data loading and descriptive summary"
   ]
  },
  {
   "cell_type": "markdown",
   "metadata": {},
   "source": [
    "Q1. Load `Advertising.csv` using the `pandas` library and save the dataset into `df`"
   ]
  },
  {
   "cell_type": "code",
   "execution_count": 1,
   "metadata": {},
   "outputs": [],
   "source": [
    "import pandas as pd\n",
    "df = pd.read_csv(\"data/Advertising.csv\", header=0)"
   ]
  },
  {
   "cell_type": "markdown",
   "metadata": {},
   "source": [
    "Q2. Check the dimension of the dataset"
   ]
  },
  {
   "cell_type": "code",
   "execution_count": 2,
   "metadata": {},
   "outputs": [
    {
     "data": {
      "text/plain": [
       "(200, 4)"
      ]
     },
     "execution_count": 2,
     "metadata": {},
     "output_type": "execute_result"
    }
   ],
   "source": [
    "df.shape"
   ]
  },
  {
   "cell_type": "markdown",
   "metadata": {},
   "source": [
    "Q3. Show the last 10 rows/instances in the dataset. \n",
    "\n",
    "Hint: use `tail` function. You can type the following code in the code cell to see how to use `tail` function\n",
    "\n",
    "```python\n",
    "? pd.DataFrame.tail\n",
    "```\n",
    "\n",
    "or https://pandas.pydata.org/pandas-docs/stable/reference/api/pandas.DataFrame.tail.html"
   ]
  },
  {
   "cell_type": "code",
   "execution_count": 3,
   "metadata": {},
   "outputs": [
    {
     "data": {
      "text/html": [
       "<div>\n",
       "<style scoped>\n",
       "    .dataframe tbody tr th:only-of-type {\n",
       "        vertical-align: middle;\n",
       "    }\n",
       "\n",
       "    .dataframe tbody tr th {\n",
       "        vertical-align: top;\n",
       "    }\n",
       "\n",
       "    .dataframe thead th {\n",
       "        text-align: right;\n",
       "    }\n",
       "</style>\n",
       "<table border=\"1\" class=\"dataframe\">\n",
       "  <thead>\n",
       "    <tr style=\"text-align: right;\">\n",
       "      <th></th>\n",
       "      <th>TV</th>\n",
       "      <th>Radio</th>\n",
       "      <th>Newspaper</th>\n",
       "      <th>Sales</th>\n",
       "    </tr>\n",
       "  </thead>\n",
       "  <tbody>\n",
       "    <tr>\n",
       "      <td>190</td>\n",
       "      <td>39.5</td>\n",
       "      <td>41.1</td>\n",
       "      <td>5.8</td>\n",
       "      <td>10.8</td>\n",
       "    </tr>\n",
       "    <tr>\n",
       "      <td>191</td>\n",
       "      <td>75.5</td>\n",
       "      <td>10.8</td>\n",
       "      <td>6.0</td>\n",
       "      <td>9.9</td>\n",
       "    </tr>\n",
       "    <tr>\n",
       "      <td>192</td>\n",
       "      <td>17.2</td>\n",
       "      <td>4.1</td>\n",
       "      <td>31.6</td>\n",
       "      <td>5.9</td>\n",
       "    </tr>\n",
       "    <tr>\n",
       "      <td>193</td>\n",
       "      <td>166.8</td>\n",
       "      <td>42.0</td>\n",
       "      <td>3.6</td>\n",
       "      <td>19.6</td>\n",
       "    </tr>\n",
       "    <tr>\n",
       "      <td>194</td>\n",
       "      <td>149.7</td>\n",
       "      <td>35.6</td>\n",
       "      <td>6.0</td>\n",
       "      <td>17.3</td>\n",
       "    </tr>\n",
       "    <tr>\n",
       "      <td>195</td>\n",
       "      <td>38.2</td>\n",
       "      <td>3.7</td>\n",
       "      <td>13.8</td>\n",
       "      <td>7.6</td>\n",
       "    </tr>\n",
       "    <tr>\n",
       "      <td>196</td>\n",
       "      <td>94.2</td>\n",
       "      <td>4.9</td>\n",
       "      <td>8.1</td>\n",
       "      <td>9.7</td>\n",
       "    </tr>\n",
       "    <tr>\n",
       "      <td>197</td>\n",
       "      <td>177.0</td>\n",
       "      <td>9.3</td>\n",
       "      <td>6.4</td>\n",
       "      <td>12.8</td>\n",
       "    </tr>\n",
       "    <tr>\n",
       "      <td>198</td>\n",
       "      <td>283.6</td>\n",
       "      <td>42.0</td>\n",
       "      <td>66.2</td>\n",
       "      <td>25.5</td>\n",
       "    </tr>\n",
       "    <tr>\n",
       "      <td>199</td>\n",
       "      <td>232.1</td>\n",
       "      <td>8.6</td>\n",
       "      <td>8.7</td>\n",
       "      <td>13.4</td>\n",
       "    </tr>\n",
       "  </tbody>\n",
       "</table>\n",
       "</div>"
      ],
      "text/plain": [
       "        TV  Radio  Newspaper  Sales\n",
       "190   39.5   41.1        5.8   10.8\n",
       "191   75.5   10.8        6.0    9.9\n",
       "192   17.2    4.1       31.6    5.9\n",
       "193  166.8   42.0        3.6   19.6\n",
       "194  149.7   35.6        6.0   17.3\n",
       "195   38.2    3.7       13.8    7.6\n",
       "196   94.2    4.9        8.1    9.7\n",
       "197  177.0    9.3        6.4   12.8\n",
       "198  283.6   42.0       66.2   25.5\n",
       "199  232.1    8.6        8.7   13.4"
      ]
     },
     "execution_count": 3,
     "metadata": {},
     "output_type": "execute_result"
    }
   ],
   "source": [
    "df.tail(10)"
   ]
  },
  {
   "cell_type": "markdown",
   "metadata": {},
   "source": [
    "Q4. Extract variable names from the dataset and save them into `col_names`, and show variables data types"
   ]
  },
  {
   "cell_type": "code",
   "execution_count": 4,
   "metadata": {},
   "outputs": [
    {
     "name": "stdout",
     "output_type": "stream",
     "text": [
      "Index(['TV', 'Radio', 'Newspaper', 'Sales'], dtype='object')\n",
      "TV           float64\n",
      "Radio        float64\n",
      "Newspaper    float64\n",
      "Sales        float64\n",
      "dtype: object\n"
     ]
    }
   ],
   "source": [
    "col_names = df.columns\n",
    "print(col_names)\n",
    "print(df.dtypes)"
   ]
  },
  {
   "cell_type": "markdown",
   "metadata": {},
   "source": [
    "Q5. Summarise the basic descrptive statistics of the numerical variables in the dataset"
   ]
  },
  {
   "cell_type": "code",
   "execution_count": 5,
   "metadata": {
    "scrolled": true
   },
   "outputs": [
    {
     "data": {
      "text/html": [
       "<div>\n",
       "<style scoped>\n",
       "    .dataframe tbody tr th:only-of-type {\n",
       "        vertical-align: middle;\n",
       "    }\n",
       "\n",
       "    .dataframe tbody tr th {\n",
       "        vertical-align: top;\n",
       "    }\n",
       "\n",
       "    .dataframe thead th {\n",
       "        text-align: right;\n",
       "    }\n",
       "</style>\n",
       "<table border=\"1\" class=\"dataframe\">\n",
       "  <thead>\n",
       "    <tr style=\"text-align: right;\">\n",
       "      <th></th>\n",
       "      <th>TV</th>\n",
       "      <th>Radio</th>\n",
       "      <th>Newspaper</th>\n",
       "      <th>Sales</th>\n",
       "    </tr>\n",
       "  </thead>\n",
       "  <tbody>\n",
       "    <tr>\n",
       "      <td>count</td>\n",
       "      <td>200.000000</td>\n",
       "      <td>200.000000</td>\n",
       "      <td>200.000000</td>\n",
       "      <td>200.000000</td>\n",
       "    </tr>\n",
       "    <tr>\n",
       "      <td>mean</td>\n",
       "      <td>147.042500</td>\n",
       "      <td>23.264000</td>\n",
       "      <td>30.554000</td>\n",
       "      <td>14.022500</td>\n",
       "    </tr>\n",
       "    <tr>\n",
       "      <td>std</td>\n",
       "      <td>85.854236</td>\n",
       "      <td>14.846809</td>\n",
       "      <td>21.778621</td>\n",
       "      <td>5.217457</td>\n",
       "    </tr>\n",
       "    <tr>\n",
       "      <td>min</td>\n",
       "      <td>0.700000</td>\n",
       "      <td>0.000000</td>\n",
       "      <td>0.300000</td>\n",
       "      <td>1.600000</td>\n",
       "    </tr>\n",
       "    <tr>\n",
       "      <td>25%</td>\n",
       "      <td>74.375000</td>\n",
       "      <td>9.975000</td>\n",
       "      <td>12.750000</td>\n",
       "      <td>10.375000</td>\n",
       "    </tr>\n",
       "    <tr>\n",
       "      <td>50%</td>\n",
       "      <td>149.750000</td>\n",
       "      <td>22.900000</td>\n",
       "      <td>25.750000</td>\n",
       "      <td>12.900000</td>\n",
       "    </tr>\n",
       "    <tr>\n",
       "      <td>75%</td>\n",
       "      <td>218.825000</td>\n",
       "      <td>36.525000</td>\n",
       "      <td>45.100000</td>\n",
       "      <td>17.400000</td>\n",
       "    </tr>\n",
       "    <tr>\n",
       "      <td>max</td>\n",
       "      <td>296.400000</td>\n",
       "      <td>49.600000</td>\n",
       "      <td>114.000000</td>\n",
       "      <td>27.000000</td>\n",
       "    </tr>\n",
       "  </tbody>\n",
       "</table>\n",
       "</div>"
      ],
      "text/plain": [
       "               TV       Radio   Newspaper       Sales\n",
       "count  200.000000  200.000000  200.000000  200.000000\n",
       "mean   147.042500   23.264000   30.554000   14.022500\n",
       "std     85.854236   14.846809   21.778621    5.217457\n",
       "min      0.700000    0.000000    0.300000    1.600000\n",
       "25%     74.375000    9.975000   12.750000   10.375000\n",
       "50%    149.750000   22.900000   25.750000   12.900000\n",
       "75%    218.825000   36.525000   45.100000   17.400000\n",
       "max    296.400000   49.600000  114.000000   27.000000"
      ]
     },
     "execution_count": 5,
     "metadata": {},
     "output_type": "execute_result"
    }
   ],
   "source": [
    "df.describe()"
   ]
  },
  {
   "cell_type": "markdown",
   "metadata": {},
   "source": [
    "Q6. Check if there is any missing values in the dataset. \n",
    "\n",
    "Hint: using `isnull()` function"
   ]
  },
  {
   "cell_type": "code",
   "execution_count": 6,
   "metadata": {},
   "outputs": [
    {
     "data": {
      "text/html": [
       "<div>\n",
       "<style scoped>\n",
       "    .dataframe tbody tr th:only-of-type {\n",
       "        vertical-align: middle;\n",
       "    }\n",
       "\n",
       "    .dataframe tbody tr th {\n",
       "        vertical-align: top;\n",
       "    }\n",
       "\n",
       "    .dataframe thead th {\n",
       "        text-align: right;\n",
       "    }\n",
       "</style>\n",
       "<table border=\"1\" class=\"dataframe\">\n",
       "  <thead>\n",
       "    <tr style=\"text-align: right;\">\n",
       "      <th></th>\n",
       "      <th>TV</th>\n",
       "      <th>Radio</th>\n",
       "      <th>Newspaper</th>\n",
       "      <th>Sales</th>\n",
       "    </tr>\n",
       "  </thead>\n",
       "  <tbody>\n",
       "    <tr>\n",
       "      <td>0</td>\n",
       "      <td>False</td>\n",
       "      <td>False</td>\n",
       "      <td>False</td>\n",
       "      <td>False</td>\n",
       "    </tr>\n",
       "    <tr>\n",
       "      <td>1</td>\n",
       "      <td>False</td>\n",
       "      <td>False</td>\n",
       "      <td>False</td>\n",
       "      <td>False</td>\n",
       "    </tr>\n",
       "    <tr>\n",
       "      <td>2</td>\n",
       "      <td>False</td>\n",
       "      <td>False</td>\n",
       "      <td>False</td>\n",
       "      <td>False</td>\n",
       "    </tr>\n",
       "    <tr>\n",
       "      <td>3</td>\n",
       "      <td>False</td>\n",
       "      <td>False</td>\n",
       "      <td>False</td>\n",
       "      <td>False</td>\n",
       "    </tr>\n",
       "    <tr>\n",
       "      <td>4</td>\n",
       "      <td>False</td>\n",
       "      <td>False</td>\n",
       "      <td>False</td>\n",
       "      <td>False</td>\n",
       "    </tr>\n",
       "    <tr>\n",
       "      <td>...</td>\n",
       "      <td>...</td>\n",
       "      <td>...</td>\n",
       "      <td>...</td>\n",
       "      <td>...</td>\n",
       "    </tr>\n",
       "    <tr>\n",
       "      <td>195</td>\n",
       "      <td>False</td>\n",
       "      <td>False</td>\n",
       "      <td>False</td>\n",
       "      <td>False</td>\n",
       "    </tr>\n",
       "    <tr>\n",
       "      <td>196</td>\n",
       "      <td>False</td>\n",
       "      <td>False</td>\n",
       "      <td>False</td>\n",
       "      <td>False</td>\n",
       "    </tr>\n",
       "    <tr>\n",
       "      <td>197</td>\n",
       "      <td>False</td>\n",
       "      <td>False</td>\n",
       "      <td>False</td>\n",
       "      <td>False</td>\n",
       "    </tr>\n",
       "    <tr>\n",
       "      <td>198</td>\n",
       "      <td>False</td>\n",
       "      <td>False</td>\n",
       "      <td>False</td>\n",
       "      <td>False</td>\n",
       "    </tr>\n",
       "    <tr>\n",
       "      <td>199</td>\n",
       "      <td>False</td>\n",
       "      <td>False</td>\n",
       "      <td>False</td>\n",
       "      <td>False</td>\n",
       "    </tr>\n",
       "  </tbody>\n",
       "</table>\n",
       "<p>200 rows × 4 columns</p>\n",
       "</div>"
      ],
      "text/plain": [
       "        TV  Radio  Newspaper  Sales\n",
       "0    False  False      False  False\n",
       "1    False  False      False  False\n",
       "2    False  False      False  False\n",
       "3    False  False      False  False\n",
       "4    False  False      False  False\n",
       "..     ...    ...        ...    ...\n",
       "195  False  False      False  False\n",
       "196  False  False      False  False\n",
       "197  False  False      False  False\n",
       "198  False  False      False  False\n",
       "199  False  False      False  False\n",
       "\n",
       "[200 rows x 4 columns]"
      ]
     },
     "execution_count": 6,
     "metadata": {},
     "output_type": "execute_result"
    }
   ],
   "source": [
    "df.isnull()"
   ]
  },
  {
   "cell_type": "markdown",
   "metadata": {},
   "source": [
    "We can chain a `sum()` method on, instead of getting the total sum of missing values, we can obtain a list of all the summations of each column\n"
   ]
  },
  {
   "cell_type": "code",
   "execution_count": 7,
   "metadata": {},
   "outputs": [
    {
     "data": {
      "text/plain": [
       "TV           0\n",
       "Radio        0\n",
       "Newspaper    0\n",
       "Sales        0\n",
       "dtype: int64"
      ]
     },
     "execution_count": 7,
     "metadata": {},
     "output_type": "execute_result"
    }
   ],
   "source": [
    "df.isnull().sum() "
   ]
  },
  {
   "cell_type": "markdown",
   "metadata": {},
   "source": [
    "## Data preparation"
   ]
  },
  {
   "cell_type": "markdown",
   "metadata": {},
   "source": [
    "Q1. We need to convert the variables in dataframe structure into ndarray. Convert the feature/predictor variables into a feature vectors and save them into an $N \\times D$ ndarray named $x$. Convert the response variable `Sales` into an $1 \\times N$ ndarray named $y$"
   ]
  },
  {
   "cell_type": "code",
   "execution_count": 8,
   "metadata": {},
   "outputs": [
    {
     "name": "stdout",
     "output_type": "stream",
     "text": [
      "[[230.1  37.8  69.2]\n",
      " [ 44.5  39.3  45.1]\n",
      " [ 17.2  45.9  69.3]\n",
      " [151.5  41.3  58.5]\n",
      " [180.8  10.8  58.4]\n",
      " [  8.7  48.9  75. ]\n",
      " [ 57.5  32.8  23.5]\n",
      " [120.2  19.6  11.6]\n",
      " [  8.6   2.1   1. ]\n",
      " [199.8   2.6  21.2]\n",
      " [ 66.1   5.8  24.2]\n",
      " [214.7  24.    4. ]\n",
      " [ 23.8  35.1  65.9]\n",
      " [ 97.5   7.6   7.2]\n",
      " [204.1  32.9  46. ]\n",
      " [195.4  47.7  52.9]\n",
      " [ 67.8  36.6 114. ]\n",
      " [281.4  39.6  55.8]\n",
      " [ 69.2  20.5  18.3]\n",
      " [147.3  23.9  19.1]\n",
      " [218.4  27.7  53.4]\n",
      " [237.4   5.1  23.5]\n",
      " [ 13.2  15.9  49.6]\n",
      " [228.3  16.9  26.2]\n",
      " [ 62.3  12.6  18.3]\n",
      " [262.9   3.5  19.5]\n",
      " [142.9  29.3  12.6]\n",
      " [240.1  16.7  22.9]\n",
      " [248.8  27.1  22.9]\n",
      " [ 70.6  16.   40.8]\n",
      " [292.9  28.3  43.2]\n",
      " [112.9  17.4  38.6]\n",
      " [ 97.2   1.5  30. ]\n",
      " [265.6  20.    0.3]\n",
      " [ 95.7   1.4   7.4]\n",
      " [290.7   4.1   8.5]\n",
      " [266.9  43.8   5. ]\n",
      " [ 74.7  49.4  45.7]\n",
      " [ 43.1  26.7  35.1]\n",
      " [228.   37.7  32. ]\n",
      " [202.5  22.3  31.6]\n",
      " [177.   33.4  38.7]\n",
      " [293.6  27.7   1.8]\n",
      " [206.9   8.4  26.4]\n",
      " [ 25.1  25.7  43.3]\n",
      " [175.1  22.5  31.5]\n",
      " [ 89.7   9.9  35.7]\n",
      " [239.9  41.5  18.5]\n",
      " [227.2  15.8  49.9]\n",
      " [ 66.9  11.7  36.8]\n",
      " [199.8   3.1  34.6]\n",
      " [100.4   9.6   3.6]\n",
      " [216.4  41.7  39.6]\n",
      " [182.6  46.2  58.7]\n",
      " [262.7  28.8  15.9]\n",
      " [198.9  49.4  60. ]\n",
      " [  7.3  28.1  41.4]\n",
      " [136.2  19.2  16.6]\n",
      " [210.8  49.6  37.7]\n",
      " [210.7  29.5   9.3]\n",
      " [ 53.5   2.   21.4]\n",
      " [261.3  42.7  54.7]\n",
      " [239.3  15.5  27.3]\n",
      " [102.7  29.6   8.4]\n",
      " [131.1  42.8  28.9]\n",
      " [ 69.    9.3   0.9]\n",
      " [ 31.5  24.6   2.2]\n",
      " [139.3  14.5  10.2]\n",
      " [237.4  27.5  11. ]\n",
      " [216.8  43.9  27.2]\n",
      " [199.1  30.6  38.7]\n",
      " [109.8  14.3  31.7]\n",
      " [ 26.8  33.   19.3]\n",
      " [129.4   5.7  31.3]\n",
      " [213.4  24.6  13.1]\n",
      " [ 16.9  43.7  89.4]\n",
      " [ 27.5   1.6  20.7]\n",
      " [120.5  28.5  14.2]\n",
      " [  5.4  29.9   9.4]\n",
      " [116.    7.7  23.1]\n",
      " [ 76.4  26.7  22.3]\n",
      " [239.8   4.1  36.9]\n",
      " [ 75.3  20.3  32.5]\n",
      " [ 68.4  44.5  35.6]\n",
      " [213.5  43.   33.8]\n",
      " [193.2  18.4  65.7]\n",
      " [ 76.3  27.5  16. ]\n",
      " [110.7  40.6  63.2]\n",
      " [ 88.3  25.5  73.4]\n",
      " [109.8  47.8  51.4]\n",
      " [134.3   4.9   9.3]\n",
      " [ 28.6   1.5  33. ]\n",
      " [217.7  33.5  59. ]\n",
      " [250.9  36.5  72.3]\n",
      " [107.4  14.   10.9]\n",
      " [163.3  31.6  52.9]\n",
      " [197.6   3.5   5.9]\n",
      " [184.9  21.   22. ]\n",
      " [289.7  42.3  51.2]\n",
      " [135.2  41.7  45.9]\n",
      " [222.4   4.3  49.8]\n",
      " [296.4  36.3 100.9]\n",
      " [280.2  10.1  21.4]\n",
      " [187.9  17.2  17.9]\n",
      " [238.2  34.3   5.3]\n",
      " [137.9  46.4  59. ]\n",
      " [ 25.   11.   29.7]\n",
      " [ 90.4   0.3  23.2]\n",
      " [ 13.1   0.4  25.6]\n",
      " [255.4  26.9   5.5]\n",
      " [225.8   8.2  56.5]\n",
      " [241.7  38.   23.2]\n",
      " [175.7  15.4   2.4]\n",
      " [209.6  20.6  10.7]\n",
      " [ 78.2  46.8  34.5]\n",
      " [ 75.1  35.   52.7]\n",
      " [139.2  14.3  25.6]\n",
      " [ 76.4   0.8  14.8]\n",
      " [125.7  36.9  79.2]\n",
      " [ 19.4  16.   22.3]\n",
      " [141.3  26.8  46.2]\n",
      " [ 18.8  21.7  50.4]\n",
      " [224.    2.4  15.6]\n",
      " [123.1  34.6  12.4]\n",
      " [229.5  32.3  74.2]\n",
      " [ 87.2  11.8  25.9]\n",
      " [  7.8  38.9  50.6]\n",
      " [ 80.2   0.    9.2]\n",
      " [220.3  49.    3.2]\n",
      " [ 59.6  12.   43.1]\n",
      " [  0.7  39.6   8.7]\n",
      " [265.2   2.9  43. ]\n",
      " [  8.4  27.2   2.1]\n",
      " [219.8  33.5  45.1]\n",
      " [ 36.9  38.6  65.6]\n",
      " [ 48.3  47.    8.5]\n",
      " [ 25.6  39.    9.3]\n",
      " [273.7  28.9  59.7]\n",
      " [ 43.   25.9  20.5]\n",
      " [184.9  43.9   1.7]\n",
      " [ 73.4  17.   12.9]\n",
      " [193.7  35.4  75.6]\n",
      " [220.5  33.2  37.9]\n",
      " [104.6   5.7  34.4]\n",
      " [ 96.2  14.8  38.9]\n",
      " [140.3   1.9   9. ]\n",
      " [240.1   7.3   8.7]\n",
      " [243.2  49.   44.3]\n",
      " [ 38.   40.3  11.9]\n",
      " [ 44.7  25.8  20.6]\n",
      " [280.7  13.9  37. ]\n",
      " [121.    8.4  48.7]\n",
      " [197.6  23.3  14.2]\n",
      " [171.3  39.7  37.7]\n",
      " [187.8  21.1   9.5]\n",
      " [  4.1  11.6   5.7]\n",
      " [ 93.9  43.5  50.5]\n",
      " [149.8   1.3  24.3]\n",
      " [ 11.7  36.9  45.2]\n",
      " [131.7  18.4  34.6]\n",
      " [172.5  18.1  30.7]\n",
      " [ 85.7  35.8  49.3]\n",
      " [188.4  18.1  25.6]\n",
      " [163.5  36.8   7.4]\n",
      " [117.2  14.7   5.4]\n",
      " [234.5   3.4  84.8]\n",
      " [ 17.9  37.6  21.6]\n",
      " [206.8   5.2  19.4]\n",
      " [215.4  23.6  57.6]\n",
      " [284.3  10.6   6.4]\n",
      " [ 50.   11.6  18.4]\n",
      " [164.5  20.9  47.4]\n",
      " [ 19.6  20.1  17. ]\n",
      " [168.4   7.1  12.8]\n",
      " [222.4   3.4  13.1]\n",
      " [276.9  48.9  41.8]\n",
      " [248.4  30.2  20.3]\n",
      " [170.2   7.8  35.2]\n",
      " [276.7   2.3  23.7]\n",
      " [165.6  10.   17.6]\n",
      " [156.6   2.6   8.3]\n",
      " [218.5   5.4  27.4]\n",
      " [ 56.2   5.7  29.7]\n",
      " [287.6  43.   71.8]\n",
      " [253.8  21.3  30. ]\n",
      " [205.   45.1  19.6]\n",
      " [139.5   2.1  26.6]\n",
      " [191.1  28.7  18.2]\n",
      " [286.   13.9   3.7]\n",
      " [ 18.7  12.1  23.4]\n",
      " [ 39.5  41.1   5.8]\n",
      " [ 75.5  10.8   6. ]\n",
      " [ 17.2   4.1  31.6]\n",
      " [166.8  42.    3.6]\n",
      " [149.7  35.6   6. ]\n",
      " [ 38.2   3.7  13.8]\n",
      " [ 94.2   4.9   8.1]\n",
      " [177.    9.3   6.4]\n",
      " [283.6  42.   66.2]\n",
      " [232.1   8.6   8.7]]\n",
      "[22.1 10.4  9.3 18.5 12.9  7.2 11.8 13.2  4.8 10.6  8.6 17.4  9.2  9.7\n",
      " 19.  22.4 12.5 24.4 11.3 14.6 18.  12.5  5.6 15.5  9.7 12.  15.  15.9\n",
      " 18.9 10.5 21.4 11.9  9.6 17.4  9.5 12.8 25.4 14.7 10.1 21.5 16.6 17.1\n",
      " 20.7 12.9  8.5 14.9 10.6 23.2 14.8  9.7 11.4 10.7 22.6 21.2 20.2 23.7\n",
      "  5.5 13.2 23.8 18.4  8.1 24.2 15.7 14.  18.   9.3  9.5 13.4 18.9 22.3\n",
      " 18.3 12.4  8.8 11.  17.   8.7  6.9 14.2  5.3 11.  11.8 12.3 11.3 13.6\n",
      " 21.7 15.2 12.  16.  12.9 16.7 11.2  7.3 19.4 22.2 11.5 16.9 11.7 15.5\n",
      " 25.4 17.2 11.7 23.8 14.8 14.7 20.7 19.2  7.2  8.7  5.3 19.8 13.4 21.8\n",
      " 14.1 15.9 14.6 12.6 12.2  9.4 15.9  6.6 15.5  7.  11.6 15.2 19.7 10.6\n",
      "  6.6  8.8 24.7  9.7  1.6 12.7  5.7 19.6 10.8 11.6  9.5 20.8  9.6 20.7\n",
      " 10.9 19.2 20.1 10.4 11.4 10.3 13.2 25.4 10.9 10.1 16.1 11.6 16.6 19.\n",
      " 15.6  3.2 15.3 10.1  7.3 12.9 14.4 13.3 14.9 18.  11.9 11.9  8.  12.2\n",
      " 17.1 15.   8.4 14.5  7.6 11.7 11.5 27.  20.2 11.7 11.8 12.6 10.5 12.2\n",
      "  8.7 26.2 17.6 22.6 10.3 17.3 15.9  6.7 10.8  9.9  5.9 19.6 17.3  7.6\n",
      "  9.7 12.8 25.5 13.4]\n"
     ]
    }
   ],
   "source": [
    "x = df[col_names[:-1]].values\n",
    "y = df['Sales'].values\n",
    "y = y.flatten()\n",
    "print(x)\n",
    "print(y)"
   ]
  },
  {
   "cell_type": "markdown",
   "metadata": {},
   "source": [
    "Q2 . Create a training set and a test set from the original data by using `train_test_split` from `sklearn.model_selection`. You can import this function using \n",
    "\n",
    "```python\n",
    "from sklearn.model_selection import train_test_split\n",
    "```\n",
    "see here how to use this function\n",
    "https://scikit-learn.org/stable/modules/generated/sklearn.model_selection.train_test_split.html"
   ]
  },
  {
   "cell_type": "code",
   "execution_count": 9,
   "metadata": {},
   "outputs": [],
   "source": [
    "from sklearn.model_selection import train_test_split\n",
    "\n",
    "x_train, x_test, y_train, y_test = train_test_split(x, y, test_size=0.4, random_state=200)"
   ]
  },
  {
   "cell_type": "markdown",
   "metadata": {},
   "source": [
    "## Implementing linear regression models"
   ]
  },
  {
   "cell_type": "markdown",
   "metadata": {},
   "source": [
    "Q1. Check the lecture HTML and import `LinearRegression`, `Ridge`, `Lasso` from `sklearn` library. "
   ]
  },
  {
   "cell_type": "code",
   "execution_count": 10,
   "metadata": {},
   "outputs": [],
   "source": [
    "from sklearn.linear_model import LinearRegression\n",
    "from sklearn.linear_model import Ridge\n",
    "from sklearn.linear_model import Lasso"
   ]
  },
  {
   "cell_type": "markdown",
   "metadata": {},
   "source": [
    "Q2. Implement the multiple linear regression, ridge regression and lasso regression with the training data"
   ]
  },
  {
   "cell_type": "code",
   "execution_count": 11,
   "metadata": {},
   "outputs": [],
   "source": [
    "reg = LinearRegression()\n",
    "reg.fit(x_train, y_train)\n",
    "pred_train = reg.predict(x_train)\n",
    "pred_test = reg.predict(x_test)\n",
    "\n",
    "reg_ridge = Ridge(alpha=0.5)\n",
    "reg_ridge.fit(x_train, y_train)\n",
    "pred_ridge_train = reg_ridge.predict(x_train)\n",
    "pred_ridge_test = reg_ridge.predict(x_test)\n",
    "\n",
    "reg_lasso = Lasso(alpha=0.5)\n",
    "reg_lasso.fit(x_train, y_train)\n",
    "pred_lasso_train = reg_lasso.predict(x_train)\n",
    "pred_lasso_test = reg_lasso.predict(x_test)"
   ]
  },
  {
   "cell_type": "markdown",
   "metadata": {},
   "source": [
    "Q3. Test and compare these models' performance in both training set and test set based on mean squared errors"
   ]
  },
  {
   "cell_type": "code",
   "execution_count": 12,
   "metadata": {},
   "outputs": [
    {
     "name": "stdout",
     "output_type": "stream",
     "text": [
      "=====\n",
      "\n",
      "Training MSE\n",
      "\n",
      "Multiple linear reg: 1.19149\n",
      "Ridge reg: 1.19149\n",
      "Lasso reg: 1.19074\n",
      "=====\n",
      "\n",
      "Test MSE\n",
      "\n",
      "Multiple linear reg: 1.34719\n",
      "Ridge reg: 1.34720\n",
      "Lasso reg: 1.34750\n"
     ]
    }
   ],
   "source": [
    "from sklearn.metrics import mean_absolute_error\n",
    "\n",
    "print(\"=====\\n\")\n",
    "print(\"Training MSE\\n\")\n",
    "print(\"Multiple linear reg: %0.5f\" % mean_absolute_error(y_train, pred_train))\n",
    "print(\"Ridge reg: %0.5f\" % mean_absolute_error(y_train, pred_ridge_train))\n",
    "print(\"Lasso reg: %0.5f\" % mean_absolute_error(y_train, pred_lasso_train))\n",
    "\n",
    "print(\"=====\\n\")\n",
    "print(\"Test MSE\\n\")\n",
    "print(\"Multiple linear reg: %0.5f\" % mean_absolute_error(y_test, pred_test))\n",
    "print(\"Ridge reg: %0.5f\" % mean_absolute_error(y_test, pred_ridge_test))\n",
    "print(\"Lasso reg: %0.5f\" % mean_absolute_error(y_test, pred_lasso_test))"
   ]
  }
 ],
 "metadata": {
  "hide_input": false,
  "kernelspec": {
   "display_name": "Python 3",
   "language": "python",
   "name": "python3"
  },
  "language_info": {
   "codemirror_mode": {
    "name": "ipython",
    "version": 3
   },
   "file_extension": ".py",
   "mimetype": "text/x-python",
   "name": "python",
   "nbconvert_exporter": "python",
   "pygments_lexer": "ipython3",
   "version": "3.7.6"
  },
  "toc": {
   "base_numbering": 1,
   "nav_menu": {},
   "number_sections": true,
   "sideBar": true,
   "skip_h1_title": true,
   "title_cell": "Table of Contents",
   "title_sidebar": "Contents",
   "toc_cell": false,
   "toc_position": {
    "height": "772px",
    "left": "24px",
    "top": "110.333px",
    "width": "272.688px"
   },
   "toc_section_display": true,
   "toc_window_display": true
  },
  "toc-autonumbering": true,
  "toc-showcode": true,
  "toc-showmarkdowntxt": false,
  "toc-showtags": true,
  "varInspector": {
   "cols": {
    "lenName": 16,
    "lenType": 16,
    "lenVar": 40
   },
   "kernels_config": {
    "python": {
     "delete_cmd_postfix": "",
     "delete_cmd_prefix": "del ",
     "library": "var_list.py",
     "varRefreshCmd": "print(var_dic_list())"
    },
    "r": {
     "delete_cmd_postfix": ") ",
     "delete_cmd_prefix": "rm(",
     "library": "var_list.r",
     "varRefreshCmd": "cat(var_dic_list()) "
    }
   },
   "position": {
    "height": "262px",
    "left": "1048px",
    "right": "20px",
    "top": "165px",
    "width": "370px"
   },
   "types_to_exclude": [
    "module",
    "function",
    "builtin_function_or_method",
    "instance",
    "_Feature"
   ],
   "window_display": false
  }
 },
 "nbformat": 4,
 "nbformat_minor": 4
}
