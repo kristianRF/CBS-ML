{
 "cells": [
  {
   "cell_type": "markdown",
   "metadata": {},
   "source": [
    "# Session 08 Tree-Based Models | Exercise & Solution\n",
    "\n",
    "[**CCMVI2085U Machine Learning for Predictive Analytics in Business @ CBS ISUP 2020**](https://kursuskatalog.cbs.dk/2019-2020/KAN-CCMVI2085U.aspx?lang=en-GB)\n",
    "\n",
    "Course coordinator: [Bowei Chen](https://boweichen.github.io/) | Email: [bc.acc@cbs.dk](mailto:bc.acc@cbs.dk)\n",
    "\n",
    "-----"
   ]
  },
  {
   "cell_type": "markdown",
   "metadata": {
    "toc": true
   },
   "source": [
    "<h1>Table of Contents<span class=\"tocSkip\"></span></h1>\n",
    "<div class=\"toc\"><ul class=\"toc-item\"><li><span><a href=\"#Project:-Hotel-event-prediction\" data-toc-modified-id=\"Project:-Hotel-event-prediction-1\"><span class=\"toc-item-num\">1&nbsp;&nbsp;</span>Project: Hotel event prediction</a></span></li><li><span><a href=\"#Solution\" data-toc-modified-id=\"Solution-2\"><span class=\"toc-item-num\">2&nbsp;&nbsp;</span>Solution</a></span><ul class=\"toc-item\"><li><span><a href=\"#Load-dataset\" data-toc-modified-id=\"Load-dataset-2.1\"><span class=\"toc-item-num\">2.1&nbsp;&nbsp;</span>Load dataset</a></span></li><li><span><a href=\"#Encode-labels\" data-toc-modified-id=\"Encode-labels-2.2\"><span class=\"toc-item-num\">2.2&nbsp;&nbsp;</span>Encode labels</a></span></li><li><span><a href=\"#Encode-and-scale-features\" data-toc-modified-id=\"Encode-and-scale-features-2.3\"><span class=\"toc-item-num\">2.3&nbsp;&nbsp;</span>Encode and scale features</a></span></li><li><span><a href=\"#Create-training-and-test-sets\" data-toc-modified-id=\"Create-training-and-test-sets-2.4\"><span class=\"toc-item-num\">2.4&nbsp;&nbsp;</span>Create training and test sets</a></span></li><li><span><a href=\"#Train-machine-learning-models\" data-toc-modified-id=\"Train-machine-learning-models-2.5\"><span class=\"toc-item-num\">2.5&nbsp;&nbsp;</span>Train machine learning models</a></span></li><li><span><a href=\"#Comparing-models-using-the-test-set-method\" data-toc-modified-id=\"Comparing-models-using-the-test-set-method-2.6\"><span class=\"toc-item-num\">2.6&nbsp;&nbsp;</span>Comparing models using the test set method</a></span></li><li><span><a href=\"#Comparing-models-using-the-cross-validation-method\" data-toc-modified-id=\"Comparing-models-using-the-cross-validation-method-2.7\"><span class=\"toc-item-num\">2.7&nbsp;&nbsp;</span>Comparing models using the cross validation method</a></span></li></ul></li><li><span><a href=\"#Project:-fashion-mnist-classification\" data-toc-modified-id=\"Project:-fashion-mnist-classification-3\"><span class=\"toc-item-num\">3&nbsp;&nbsp;</span>Project: fashion mnist classification</a></span></li><li><span><a href=\"#Solution\" data-toc-modified-id=\"Solution-4\"><span class=\"toc-item-num\">4&nbsp;&nbsp;</span>Solution</a></span><ul class=\"toc-item\"><li><span><a href=\"#Load-dataset\" data-toc-modified-id=\"Load-dataset-4.1\"><span class=\"toc-item-num\">4.1&nbsp;&nbsp;</span>Load dataset</a></span></li><li><span><a href=\"#Scale-features\" data-toc-modified-id=\"Scale-features-4.2\"><span class=\"toc-item-num\">4.2&nbsp;&nbsp;</span>Scale features</a></span></li><li><span><a href=\"#Comparing-models-using-the-cross-validation-method\" data-toc-modified-id=\"Comparing-models-using-the-cross-validation-method-4.3\"><span class=\"toc-item-num\">4.3&nbsp;&nbsp;</span>Comparing models using the cross validation method</a></span></li></ul></li></ul></div>"
   ]
  },
  {
   "cell_type": "code",
   "execution_count": 2,
   "metadata": {
    "scrolled": false
   },
   "outputs": [
    {
     "ename": "ModuleNotFoundError",
     "evalue": "No module named 'nb_black'",
     "output_type": "error",
     "traceback": [
      "\u001b[0;31m---------------------------------------------------------------------------\u001b[0m",
      "\u001b[0;31mModuleNotFoundError\u001b[0m                       Traceback (most recent call last)",
      "\u001b[0;32m<ipython-input-2-50ec12b286b4>\u001b[0m in \u001b[0;36m<module>\u001b[0;34m\u001b[0m\n\u001b[0;32m----> 1\u001b[0;31m \u001b[0mget_ipython\u001b[0m\u001b[0;34m(\u001b[0m\u001b[0;34m)\u001b[0m\u001b[0;34m.\u001b[0m\u001b[0mrun_line_magic\u001b[0m\u001b[0;34m(\u001b[0m\u001b[0;34m'load_ext'\u001b[0m\u001b[0;34m,\u001b[0m \u001b[0;34m'nb_black'\u001b[0m\u001b[0;34m)\u001b[0m\u001b[0;34m\u001b[0m\u001b[0;34m\u001b[0m\u001b[0m\n\u001b[0m",
      "\u001b[0;32m~/opt/anaconda3/lib/python3.7/site-packages/IPython/core/interactiveshell.py\u001b[0m in \u001b[0;36mrun_line_magic\u001b[0;34m(self, magic_name, line, _stack_depth)\u001b[0m\n\u001b[1;32m   2312\u001b[0m                 \u001b[0mkwargs\u001b[0m\u001b[0;34m[\u001b[0m\u001b[0;34m'local_ns'\u001b[0m\u001b[0;34m]\u001b[0m \u001b[0;34m=\u001b[0m \u001b[0msys\u001b[0m\u001b[0;34m.\u001b[0m\u001b[0m_getframe\u001b[0m\u001b[0;34m(\u001b[0m\u001b[0mstack_depth\u001b[0m\u001b[0;34m)\u001b[0m\u001b[0;34m.\u001b[0m\u001b[0mf_locals\u001b[0m\u001b[0;34m\u001b[0m\u001b[0;34m\u001b[0m\u001b[0m\n\u001b[1;32m   2313\u001b[0m             \u001b[0;32mwith\u001b[0m \u001b[0mself\u001b[0m\u001b[0;34m.\u001b[0m\u001b[0mbuiltin_trap\u001b[0m\u001b[0;34m:\u001b[0m\u001b[0;34m\u001b[0m\u001b[0;34m\u001b[0m\u001b[0m\n\u001b[0;32m-> 2314\u001b[0;31m                 \u001b[0mresult\u001b[0m \u001b[0;34m=\u001b[0m \u001b[0mfn\u001b[0m\u001b[0;34m(\u001b[0m\u001b[0;34m*\u001b[0m\u001b[0margs\u001b[0m\u001b[0;34m,\u001b[0m \u001b[0;34m**\u001b[0m\u001b[0mkwargs\u001b[0m\u001b[0;34m)\u001b[0m\u001b[0;34m\u001b[0m\u001b[0;34m\u001b[0m\u001b[0m\n\u001b[0m\u001b[1;32m   2315\u001b[0m             \u001b[0;32mreturn\u001b[0m \u001b[0mresult\u001b[0m\u001b[0;34m\u001b[0m\u001b[0;34m\u001b[0m\u001b[0m\n\u001b[1;32m   2316\u001b[0m \u001b[0;34m\u001b[0m\u001b[0m\n",
      "\u001b[0;32m</Users/kristian/opt/anaconda3/lib/python3.7/site-packages/decorator.py:decorator-gen-64>\u001b[0m in \u001b[0;36mload_ext\u001b[0;34m(self, module_str)\u001b[0m\n",
      "\u001b[0;32m~/opt/anaconda3/lib/python3.7/site-packages/IPython/core/magic.py\u001b[0m in \u001b[0;36m<lambda>\u001b[0;34m(f, *a, **k)\u001b[0m\n\u001b[1;32m    185\u001b[0m     \u001b[0;31m# but it's overkill for just that one bit of state.\u001b[0m\u001b[0;34m\u001b[0m\u001b[0;34m\u001b[0m\u001b[0;34m\u001b[0m\u001b[0m\n\u001b[1;32m    186\u001b[0m     \u001b[0;32mdef\u001b[0m \u001b[0mmagic_deco\u001b[0m\u001b[0;34m(\u001b[0m\u001b[0marg\u001b[0m\u001b[0;34m)\u001b[0m\u001b[0;34m:\u001b[0m\u001b[0;34m\u001b[0m\u001b[0;34m\u001b[0m\u001b[0m\n\u001b[0;32m--> 187\u001b[0;31m         \u001b[0mcall\u001b[0m \u001b[0;34m=\u001b[0m \u001b[0;32mlambda\u001b[0m \u001b[0mf\u001b[0m\u001b[0;34m,\u001b[0m \u001b[0;34m*\u001b[0m\u001b[0ma\u001b[0m\u001b[0;34m,\u001b[0m \u001b[0;34m**\u001b[0m\u001b[0mk\u001b[0m\u001b[0;34m:\u001b[0m \u001b[0mf\u001b[0m\u001b[0;34m(\u001b[0m\u001b[0;34m*\u001b[0m\u001b[0ma\u001b[0m\u001b[0;34m,\u001b[0m \u001b[0;34m**\u001b[0m\u001b[0mk\u001b[0m\u001b[0;34m)\u001b[0m\u001b[0;34m\u001b[0m\u001b[0;34m\u001b[0m\u001b[0m\n\u001b[0m\u001b[1;32m    188\u001b[0m \u001b[0;34m\u001b[0m\u001b[0m\n\u001b[1;32m    189\u001b[0m         \u001b[0;32mif\u001b[0m \u001b[0mcallable\u001b[0m\u001b[0;34m(\u001b[0m\u001b[0marg\u001b[0m\u001b[0;34m)\u001b[0m\u001b[0;34m:\u001b[0m\u001b[0;34m\u001b[0m\u001b[0;34m\u001b[0m\u001b[0m\n",
      "\u001b[0;32m~/opt/anaconda3/lib/python3.7/site-packages/IPython/core/magics/extension.py\u001b[0m in \u001b[0;36mload_ext\u001b[0;34m(self, module_str)\u001b[0m\n\u001b[1;32m     31\u001b[0m         \u001b[0;32mif\u001b[0m \u001b[0;32mnot\u001b[0m \u001b[0mmodule_str\u001b[0m\u001b[0;34m:\u001b[0m\u001b[0;34m\u001b[0m\u001b[0;34m\u001b[0m\u001b[0m\n\u001b[1;32m     32\u001b[0m             \u001b[0;32mraise\u001b[0m \u001b[0mUsageError\u001b[0m\u001b[0;34m(\u001b[0m\u001b[0;34m'Missing module name.'\u001b[0m\u001b[0;34m)\u001b[0m\u001b[0;34m\u001b[0m\u001b[0;34m\u001b[0m\u001b[0m\n\u001b[0;32m---> 33\u001b[0;31m         \u001b[0mres\u001b[0m \u001b[0;34m=\u001b[0m \u001b[0mself\u001b[0m\u001b[0;34m.\u001b[0m\u001b[0mshell\u001b[0m\u001b[0;34m.\u001b[0m\u001b[0mextension_manager\u001b[0m\u001b[0;34m.\u001b[0m\u001b[0mload_extension\u001b[0m\u001b[0;34m(\u001b[0m\u001b[0mmodule_str\u001b[0m\u001b[0;34m)\u001b[0m\u001b[0;34m\u001b[0m\u001b[0;34m\u001b[0m\u001b[0m\n\u001b[0m\u001b[1;32m     34\u001b[0m \u001b[0;34m\u001b[0m\u001b[0m\n\u001b[1;32m     35\u001b[0m         \u001b[0;32mif\u001b[0m \u001b[0mres\u001b[0m \u001b[0;34m==\u001b[0m \u001b[0;34m'already loaded'\u001b[0m\u001b[0;34m:\u001b[0m\u001b[0;34m\u001b[0m\u001b[0;34m\u001b[0m\u001b[0m\n",
      "\u001b[0;32m~/opt/anaconda3/lib/python3.7/site-packages/IPython/core/extensions.py\u001b[0m in \u001b[0;36mload_extension\u001b[0;34m(self, module_str)\u001b[0m\n\u001b[1;32m     78\u001b[0m             \u001b[0;32mif\u001b[0m \u001b[0mmodule_str\u001b[0m \u001b[0;32mnot\u001b[0m \u001b[0;32min\u001b[0m \u001b[0msys\u001b[0m\u001b[0;34m.\u001b[0m\u001b[0mmodules\u001b[0m\u001b[0;34m:\u001b[0m\u001b[0;34m\u001b[0m\u001b[0;34m\u001b[0m\u001b[0m\n\u001b[1;32m     79\u001b[0m                 \u001b[0;32mwith\u001b[0m \u001b[0mprepended_to_syspath\u001b[0m\u001b[0;34m(\u001b[0m\u001b[0mself\u001b[0m\u001b[0;34m.\u001b[0m\u001b[0mipython_extension_dir\u001b[0m\u001b[0;34m)\u001b[0m\u001b[0;34m:\u001b[0m\u001b[0;34m\u001b[0m\u001b[0;34m\u001b[0m\u001b[0m\n\u001b[0;32m---> 80\u001b[0;31m                     \u001b[0mmod\u001b[0m \u001b[0;34m=\u001b[0m \u001b[0mimport_module\u001b[0m\u001b[0;34m(\u001b[0m\u001b[0mmodule_str\u001b[0m\u001b[0;34m)\u001b[0m\u001b[0;34m\u001b[0m\u001b[0;34m\u001b[0m\u001b[0m\n\u001b[0m\u001b[1;32m     81\u001b[0m                     \u001b[0;32mif\u001b[0m \u001b[0mmod\u001b[0m\u001b[0;34m.\u001b[0m\u001b[0m__file__\u001b[0m\u001b[0;34m.\u001b[0m\u001b[0mstartswith\u001b[0m\u001b[0;34m(\u001b[0m\u001b[0mself\u001b[0m\u001b[0;34m.\u001b[0m\u001b[0mipython_extension_dir\u001b[0m\u001b[0;34m)\u001b[0m\u001b[0;34m:\u001b[0m\u001b[0;34m\u001b[0m\u001b[0;34m\u001b[0m\u001b[0m\n\u001b[1;32m     82\u001b[0m                         print((\"Loading extensions from {dir} is deprecated. \"\n",
      "\u001b[0;32m~/opt/anaconda3/lib/python3.7/importlib/__init__.py\u001b[0m in \u001b[0;36mimport_module\u001b[0;34m(name, package)\u001b[0m\n\u001b[1;32m    125\u001b[0m                 \u001b[0;32mbreak\u001b[0m\u001b[0;34m\u001b[0m\u001b[0;34m\u001b[0m\u001b[0m\n\u001b[1;32m    126\u001b[0m             \u001b[0mlevel\u001b[0m \u001b[0;34m+=\u001b[0m \u001b[0;36m1\u001b[0m\u001b[0;34m\u001b[0m\u001b[0;34m\u001b[0m\u001b[0m\n\u001b[0;32m--> 127\u001b[0;31m     \u001b[0;32mreturn\u001b[0m \u001b[0m_bootstrap\u001b[0m\u001b[0;34m.\u001b[0m\u001b[0m_gcd_import\u001b[0m\u001b[0;34m(\u001b[0m\u001b[0mname\u001b[0m\u001b[0;34m[\u001b[0m\u001b[0mlevel\u001b[0m\u001b[0;34m:\u001b[0m\u001b[0;34m]\u001b[0m\u001b[0;34m,\u001b[0m \u001b[0mpackage\u001b[0m\u001b[0;34m,\u001b[0m \u001b[0mlevel\u001b[0m\u001b[0;34m)\u001b[0m\u001b[0;34m\u001b[0m\u001b[0;34m\u001b[0m\u001b[0m\n\u001b[0m\u001b[1;32m    128\u001b[0m \u001b[0;34m\u001b[0m\u001b[0m\n\u001b[1;32m    129\u001b[0m \u001b[0;34m\u001b[0m\u001b[0m\n",
      "\u001b[0;32m~/opt/anaconda3/lib/python3.7/importlib/_bootstrap.py\u001b[0m in \u001b[0;36m_gcd_import\u001b[0;34m(name, package, level)\u001b[0m\n",
      "\u001b[0;32m~/opt/anaconda3/lib/python3.7/importlib/_bootstrap.py\u001b[0m in \u001b[0;36m_find_and_load\u001b[0;34m(name, import_)\u001b[0m\n",
      "\u001b[0;32m~/opt/anaconda3/lib/python3.7/importlib/_bootstrap.py\u001b[0m in \u001b[0;36m_find_and_load_unlocked\u001b[0;34m(name, import_)\u001b[0m\n",
      "\u001b[0;31mModuleNotFoundError\u001b[0m: No module named 'nb_black'"
     ]
    }
   ],
   "source": [
    "%load_ext nb_black"
   ]
  },
  {
   "cell_type": "markdown",
   "metadata": {},
   "source": [
    "## Project: Hotel event prediction"
   ]
  },
  {
   "attachments": {
    "image.png": {
     "image/png": "[encoded data removed]"
    }
   },
   "cell_type": "markdown",
   "metadata": {},
   "source": [
    "Let's revisit this holiday event business project!\n",
    "\n",
    "Suppose we are analysts working with a client – a large seaside resort company whose business is to provide affordable holiday family fun activities and entertainments. The company would like us to develop a model which can recommend this summer’s events (e.g., spa, shows, and outdoor activities) to the booked customers (i.e., booked flats). Our goal is to develop a data-driven model which can segment customers from the last summer’s data and use it to recommend events to this summer’s new bookings. \n",
    "\n",
    "![image.png](attachment:image.png)"
   ]
  },
  {
   "cell_type": "markdown",
   "metadata": {},
   "source": [
    "**Task:** Implement logistic regression, neural networks, decision tree, random forest and gradient boosting models. Select the best model with the best overall accuracy."
   ]
  },
  {
   "cell_type": "markdown",
   "metadata": {},
   "source": [
    "## Solution"
   ]
  },
  {
   "cell_type": "markdown",
   "metadata": {},
   "source": [
    "### Load dataset "
   ]
  },
  {
   "cell_type": "code",
   "execution_count": 3,
   "metadata": {
    "scrolled": false
   },
   "outputs": [
    {
     "data": {
      "text/html": [
       "<div>\n",
       "<style scoped>\n",
       "    .dataframe tbody tr th:only-of-type {\n",
       "        vertical-align: middle;\n",
       "    }\n",
       "\n",
       "    .dataframe tbody tr th {\n",
       "        vertical-align: top;\n",
       "    }\n",
       "\n",
       "    .dataframe thead th {\n",
       "        text-align: right;\n",
       "    }\n",
       "</style>\n",
       "<table border=\"1\" class=\"dataframe\">\n",
       "  <thead>\n",
       "    <tr style=\"text-align: right;\">\n",
       "      <th></th>\n",
       "      <th>Price</th>\n",
       "      <th>Size</th>\n",
       "      <th>Bedroom</th>\n",
       "      <th>Bathroom</th>\n",
       "      <th>Floor</th>\n",
       "      <th>Car_Parking</th>\n",
       "      <th>Internet</th>\n",
       "      <th>Location</th>\n",
       "      <th>Pet</th>\n",
       "      <th>Event</th>\n",
       "    </tr>\n",
       "  </thead>\n",
       "  <tbody>\n",
       "    <tr>\n",
       "      <td>0</td>\n",
       "      <td>420.0</td>\n",
       "      <td>292.5</td>\n",
       "      <td>3</td>\n",
       "      <td>1</td>\n",
       "      <td>2</td>\n",
       "      <td>Yes</td>\n",
       "      <td>No</td>\n",
       "      <td>Area_2</td>\n",
       "      <td>No</td>\n",
       "      <td>Spa</td>\n",
       "    </tr>\n",
       "    <tr>\n",
       "      <td>1</td>\n",
       "      <td>660.0</td>\n",
       "      <td>208.0</td>\n",
       "      <td>3</td>\n",
       "      <td>1</td>\n",
       "      <td>1</td>\n",
       "      <td>Yes</td>\n",
       "      <td>No</td>\n",
       "      <td>Area_1</td>\n",
       "      <td>No</td>\n",
       "      <td>Spa</td>\n",
       "    </tr>\n",
       "    <tr>\n",
       "      <td>2</td>\n",
       "      <td>660.0</td>\n",
       "      <td>194.0</td>\n",
       "      <td>3</td>\n",
       "      <td>2</td>\n",
       "      <td>2</td>\n",
       "      <td>Yes</td>\n",
       "      <td>No</td>\n",
       "      <td>Area_3</td>\n",
       "      <td>No</td>\n",
       "      <td>Spa</td>\n",
       "    </tr>\n",
       "    <tr>\n",
       "      <td>3</td>\n",
       "      <td>838.0</td>\n",
       "      <td>240.0</td>\n",
       "      <td>3</td>\n",
       "      <td>1</td>\n",
       "      <td>1</td>\n",
       "      <td>Yes</td>\n",
       "      <td>No</td>\n",
       "      <td>Area_1</td>\n",
       "      <td>No</td>\n",
       "      <td>Spa</td>\n",
       "    </tr>\n",
       "    <tr>\n",
       "      <td>4</td>\n",
       "      <td>900.0</td>\n",
       "      <td>360.0</td>\n",
       "      <td>3</td>\n",
       "      <td>2</td>\n",
       "      <td>1</td>\n",
       "      <td>Yes</td>\n",
       "      <td>No</td>\n",
       "      <td>Area_4</td>\n",
       "      <td>No</td>\n",
       "      <td>Spa</td>\n",
       "    </tr>\n",
       "  </tbody>\n",
       "</table>\n",
       "</div>"
      ],
      "text/plain": [
       "   Price   Size  Bedroom  Bathroom  Floor Car_Parking Internet Location Pet  \\\n",
       "0  420.0  292.5        3         1      2         Yes       No   Area_2  No   \n",
       "1  660.0  208.0        3         1      1         Yes       No   Area_1  No   \n",
       "2  660.0  194.0        3         2      2         Yes       No   Area_3  No   \n",
       "3  838.0  240.0        3         1      1         Yes       No   Area_1  No   \n",
       "4  900.0  360.0        3         2      1         Yes       No   Area_4  No   \n",
       "\n",
       "  Event  \n",
       "0   Spa  \n",
       "1   Spa  \n",
       "2   Spa  \n",
       "3   Spa  \n",
       "4   Spa  "
      ]
     },
     "execution_count": 3,
     "metadata": {},
     "output_type": "execute_result"
    }
   ],
   "source": [
    "import pandas as pd\n",
    "\n",
    "df = pd.read_csv(\"Holiday_Rental_Consumer_Segmentation.csv\")\n",
    "df.head()"
   ]
  },
  {
   "cell_type": "code",
   "execution_count": 4,
   "metadata": {
    "scrolled": true
   },
   "outputs": [
    {
     "name": "stdout",
     "output_type": "stream",
     "text": [
      "<class 'pandas.core.frame.DataFrame'>\n",
      "RangeIndex: 191 entries, 0 to 190\n",
      "Data columns (total 10 columns):\n",
      "Price          191 non-null float64\n",
      "Size           191 non-null float64\n",
      "Bedroom        191 non-null int64\n",
      "Bathroom       191 non-null int64\n",
      "Floor          191 non-null int64\n",
      "Car_Parking    191 non-null object\n",
      "Internet       191 non-null object\n",
      "Location       191 non-null object\n",
      "Pet            191 non-null object\n",
      "Event          191 non-null object\n",
      "dtypes: float64(2), int64(3), object(5)\n",
      "memory usage: 15.0+ KB\n"
     ]
    }
   ],
   "source": [
    "df.info()"
   ]
  },
  {
   "cell_type": "code",
   "execution_count": 5,
   "metadata": {},
   "outputs": [],
   "source": [
    "df_2 = df.copy()"
   ]
  },
  {
   "cell_type": "markdown",
   "metadata": {},
   "source": [
    "### Encode labels"
   ]
  },
  {
   "cell_type": "markdown",
   "metadata": {},
   "source": [
    "Firstly, I encode the response variable/labels"
   ]
  },
  {
   "cell_type": "code",
   "execution_count": 6,
   "metadata": {},
   "outputs": [
    {
     "name": "stdout",
     "output_type": "stream",
     "text": [
      "['Outdoor activities' 'Shows' 'Spa']\n",
      "[2 2 2 2 2 0 2 2 0 0 2 0 2 1 2 2 2 1 0 2 2 2 1 2 0 2 2 2 0 2 2 2 2 0 0 2 1\n",
      " 2 2 2 1 1 1 2 1 1 1 1 2 1 1 2 2 2 2 1 2 2 2 1 2 2 2 0 2 1 0 0 2 2 2 2 2 2\n",
      " 1 1 1 1 0 0 2 1 0 2 2 2 0 0 2 1 2 2 2 2 2 2 2 2 2 2 1 2 2 1 2 2 1 1 1 2 1\n",
      " 2 1 1 1 2 1 2 2 2 1 2 1 1 1 2 1 2 2 2 2 2 2 2 1 1 1 2 1 2 2 2 2 2 2 1 2 2\n",
      " 2 2 2 2 1 1 2 2 0 2 1 2 1 1 2 2 1 1 1 2 2 2 2 2 0 2 2 1 2 2 2 1 2 1 2 2 1\n",
      " 2 2 1 2 0 2]\n"
     ]
    }
   ],
   "source": [
    "from sklearn import preprocessing\n",
    "\n",
    "le = preprocessing.LabelEncoder().fit(df[\"Event\"])\n",
    "print(le.classes_)\n",
    "y = le.transform(df[\"Event\"])\n",
    "print(y)"
   ]
  },
  {
   "cell_type": "markdown",
   "metadata": {},
   "source": [
    "### Encode and scale features "
   ]
  },
  {
   "cell_type": "markdown",
   "metadata": {},
   "source": [
    "Here I use two sets of feature encoding schemes for different models"
   ]
  },
  {
   "cell_type": "code",
   "execution_count": 6,
   "metadata": {
    "scrolled": false
   },
   "outputs": [
    {
     "name": "stdout",
     "output_type": "stream",
     "text": [
      "[[420.  292.5   3.  ...   0.    0.    0. ]\n",
      " [660.  208.    3.  ...   0.    0.    0. ]\n",
      " [660.  194.    3.  ...   1.    0.    0. ]\n",
      " ...\n",
      " [660.  250.5   3.  ...   0.    0.    0. ]\n",
      " [589.  303.    2.  ...   0.    0.    0. ]\n",
      " [710.  384.3   3.  ...   0.    0.    0. ]]\n",
      "(191, 11)\n"
     ]
    },
    {
     "data": {
      "application/javascript": [
       "\n",
       "            setTimeout(function() {\n",
       "                var nbb_cell_id = 6;\n",
       "                var nbb_unformatted_code = \"x_1 = pd.get_dummies(df.iloc[:, :-1], drop_first=True).to_numpy()\\nprint(x_1)\\nprint(x_1.shape)\";\n",
       "                var nbb_formatted_code = \"x_1 = pd.get_dummies(df.iloc[:, :-1], drop_first=True).to_numpy()\\nprint(x_1)\\nprint(x_1.shape)\";\n",
       "                var nbb_cells = Jupyter.notebook.get_cells();\n",
       "                for (var i = 0; i < nbb_cells.length; ++i) {\n",
       "                    if (nbb_cells[i].input_prompt_number == nbb_cell_id) {\n",
       "                        if (nbb_cells[i].get_text() == nbb_unformatted_code) {\n",
       "                             nbb_cells[i].set_text(nbb_formatted_code);\n",
       "                        }\n",
       "                        break;\n",
       "                    }\n",
       "                }\n",
       "            }, 500);\n",
       "            "
      ],
      "text/plain": [
       "<IPython.core.display.Javascript object>"
      ]
     },
     "metadata": {},
     "output_type": "display_data"
    }
   ],
   "source": [
    "x_1 = pd.get_dummies(df.iloc[:, :-1], drop_first=True).to_numpy()\n",
    "print(x_1)\n",
    "print(x_1.shape)"
   ]
  },
  {
   "cell_type": "code",
   "execution_count": 7,
   "metadata": {
    "scrolled": true
   },
   "outputs": [
    {
     "name": "stdout",
     "output_type": "stream",
     "text": [
      "[[-1.25785927  0.25802002 -0.09089866 ...  0.          0.\n",
      "   0.        ]\n",
      " [-0.34011861 -0.52134704 -0.09089866 ...  0.          0.\n",
      "   0.        ]\n",
      " [-0.34011861 -0.65047294 -0.09089866 ...  1.          0.\n",
      "   0.        ]\n",
      " ...\n",
      " [-0.34011861 -0.12935769 -0.09089866 ...  0.          0.\n",
      "   0.        ]\n",
      " [-0.61161689  0.35486444 -1.53770229 ...  0.          0.\n",
      "   0.        ]\n",
      " [-0.14892264  1.10471701 -0.09089866 ...  0.          0.\n",
      "   0.        ]]\n"
     ]
    },
    {
     "data": {
      "application/javascript": [
       "\n",
       "            setTimeout(function() {\n",
       "                var nbb_cell_id = 7;\n",
       "                var nbb_unformatted_code = \"from sklearn.preprocessing import StandardScaler\\n\\nss = StandardScaler().fit(x_1[:, :5])\\nx_1[:, :5] = ss.transform(x_1[:, :5])\\nprint(x_1)\";\n",
       "                var nbb_formatted_code = \"from sklearn.preprocessing import StandardScaler\\n\\nss = StandardScaler().fit(x_1[:, :5])\\nx_1[:, :5] = ss.transform(x_1[:, :5])\\nprint(x_1)\";\n",
       "                var nbb_cells = Jupyter.notebook.get_cells();\n",
       "                for (var i = 0; i < nbb_cells.length; ++i) {\n",
       "                    if (nbb_cells[i].input_prompt_number == nbb_cell_id) {\n",
       "                        if (nbb_cells[i].get_text() == nbb_unformatted_code) {\n",
       "                             nbb_cells[i].set_text(nbb_formatted_code);\n",
       "                        }\n",
       "                        break;\n",
       "                    }\n",
       "                }\n",
       "            }, 500);\n",
       "            "
      ],
      "text/plain": [
       "<IPython.core.display.Javascript object>"
      ]
     },
     "metadata": {},
     "output_type": "display_data"
    }
   ],
   "source": [
    "from sklearn.preprocessing import StandardScaler\n",
    "\n",
    "ss = StandardScaler().fit(x_1[:, :5])\n",
    "x_1[:, :5] = ss.transform(x_1[:, :5])\n",
    "print(x_1)"
   ]
  },
  {
   "cell_type": "code",
   "execution_count": 8,
   "metadata": {},
   "outputs": [
    {
     "name": "stdout",
     "output_type": "stream",
     "text": [
      "   Price   Size  Bedroom  Bathroom  Floor  Car_Parking  Internet  Location  \\\n",
      "0  420.0  292.5        3         1      2            1         0         1   \n",
      "1  660.0  208.0        3         1      1            1         0         0   \n",
      "2  660.0  194.0        3         2      2            1         0         2   \n",
      "3  838.0  240.0        3         1      1            1         0         0   \n",
      "4  900.0  360.0        3         2      1            1         0         3   \n",
      "\n",
      "   Pet Event  \n",
      "0    0   Spa  \n",
      "1    0   Spa  \n",
      "2    0   Spa  \n",
      "3    0   Spa  \n",
      "4    0   Spa  \n",
      "[[420.  292.5   3.  ...   0.    1.    0. ]\n",
      " [660.  208.    3.  ...   0.    0.    0. ]\n",
      " [660.  194.    3.  ...   0.    2.    0. ]\n",
      " ...\n",
      " [660.  250.5   3.  ...   0.    0.    0. ]\n",
      " [589.  303.    2.  ...   0.    1.    0. ]\n",
      " [710.  384.3   3.  ...   1.    0.    0. ]]\n"
     ]
    },
    {
     "data": {
      "application/javascript": [
       "\n",
       "            setTimeout(function() {\n",
       "                var nbb_cell_id = 8;\n",
       "                var nbb_unformatted_code = \"df_2 = df.copy()\\nfor col in df.iloc[:, :-1].select_dtypes(include=[\\\"object\\\"]).columns:\\n    le = preprocessing.LabelEncoder().fit(df[col])\\n    df_2[col] = le.transform(df[col])\\n\\nprint(df_2.head())\\nx_2 = df_2.iloc[:, :-1].to_numpy()\\nprint(x_2)\";\n",
       "                var nbb_formatted_code = \"df_2 = df.copy()\\nfor col in df.iloc[:, :-1].select_dtypes(include=[\\\"object\\\"]).columns:\\n    le = preprocessing.LabelEncoder().fit(df[col])\\n    df_2[col] = le.transform(df[col])\\n\\nprint(df_2.head())\\nx_2 = df_2.iloc[:, :-1].to_numpy()\\nprint(x_2)\";\n",
       "                var nbb_cells = Jupyter.notebook.get_cells();\n",
       "                for (var i = 0; i < nbb_cells.length; ++i) {\n",
       "                    if (nbb_cells[i].input_prompt_number == nbb_cell_id) {\n",
       "                        if (nbb_cells[i].get_text() == nbb_unformatted_code) {\n",
       "                             nbb_cells[i].set_text(nbb_formatted_code);\n",
       "                        }\n",
       "                        break;\n",
       "                    }\n",
       "                }\n",
       "            }, 500);\n",
       "            "
      ],
      "text/plain": [
       "<IPython.core.display.Javascript object>"
      ]
     },
     "metadata": {},
     "output_type": "display_data"
    }
   ],
   "source": [
    "df_2 = df.copy()\n",
    "for col in df.iloc[:, :-1].select_dtypes(include=[\"object\"]).columns:\n",
    "    le = preprocessing.LabelEncoder().fit(df[col])\n",
    "    df_2[col] = le.transform(df[col])\n",
    "\n",
    "print(df_2.head())\n",
    "x_2 = df_2.iloc[:, :-1].to_numpy()\n",
    "print(x_2)"
   ]
  },
  {
   "cell_type": "markdown",
   "metadata": {},
   "source": [
    "### Create training and test sets "
   ]
  },
  {
   "cell_type": "code",
   "execution_count": 9,
   "metadata": {
    "scrolled": true
   },
   "outputs": [
    {
     "data": {
      "application/javascript": [
       "\n",
       "            setTimeout(function() {\n",
       "                var nbb_cell_id = 9;\n",
       "                var nbb_unformatted_code = \"random_seed_val = 100\\n\\nfrom sklearn.model_selection import train_test_split\\n\\nx_1_train, x_1_test, y_train, y_test = train_test_split(\\n    x_1, y, test_size=0.5, stratify=y, random_state=random_seed_val\\n)\\n\\nx_2_train, x_2_test, y_train, y_test = train_test_split(\\n    x_2, y, test_size=0.5, stratify=y, random_state=random_seed_val\\n)\";\n",
       "                var nbb_formatted_code = \"random_seed_val = 100\\n\\nfrom sklearn.model_selection import train_test_split\\n\\nx_1_train, x_1_test, y_train, y_test = train_test_split(\\n    x_1, y, test_size=0.5, stratify=y, random_state=random_seed_val\\n)\\n\\nx_2_train, x_2_test, y_train, y_test = train_test_split(\\n    x_2, y, test_size=0.5, stratify=y, random_state=random_seed_val\\n)\";\n",
       "                var nbb_cells = Jupyter.notebook.get_cells();\n",
       "                for (var i = 0; i < nbb_cells.length; ++i) {\n",
       "                    if (nbb_cells[i].input_prompt_number == nbb_cell_id) {\n",
       "                        if (nbb_cells[i].get_text() == nbb_unformatted_code) {\n",
       "                             nbb_cells[i].set_text(nbb_formatted_code);\n",
       "                        }\n",
       "                        break;\n",
       "                    }\n",
       "                }\n",
       "            }, 500);\n",
       "            "
      ],
      "text/plain": [
       "<IPython.core.display.Javascript object>"
      ]
     },
     "metadata": {},
     "output_type": "display_data"
    }
   ],
   "source": [
    "random_seed_val = 100\n",
    "\n",
    "from sklearn.model_selection import train_test_split\n",
    "\n",
    "x_1_train, x_1_test, y_train, y_test = train_test_split(\n",
    "    x_1, y, test_size=0.5, stratify=y, random_state=random_seed_val\n",
    ")\n",
    "\n",
    "x_2_train, x_2_test, y_train, y_test = train_test_split(\n",
    "    x_2, y, test_size=0.5, stratify=y, random_state=random_seed_val\n",
    ")"
   ]
  },
  {
   "cell_type": "markdown",
   "metadata": {},
   "source": [
    "### Train machine learning models "
   ]
  },
  {
   "cell_type": "code",
   "execution_count": 10,
   "metadata": {},
   "outputs": [
    {
     "data": {
      "application/javascript": [
       "\n",
       "            setTimeout(function() {\n",
       "                var nbb_cell_id = 10;\n",
       "                var nbb_unformatted_code = \"y_pred_train = {}\\ny_pred_test = {}\\nmodel_list = {}\";\n",
       "                var nbb_formatted_code = \"y_pred_train = {}\\ny_pred_test = {}\\nmodel_list = {}\";\n",
       "                var nbb_cells = Jupyter.notebook.get_cells();\n",
       "                for (var i = 0; i < nbb_cells.length; ++i) {\n",
       "                    if (nbb_cells[i].input_prompt_number == nbb_cell_id) {\n",
       "                        if (nbb_cells[i].get_text() == nbb_unformatted_code) {\n",
       "                             nbb_cells[i].set_text(nbb_formatted_code);\n",
       "                        }\n",
       "                        break;\n",
       "                    }\n",
       "                }\n",
       "            }, 500);\n",
       "            "
      ],
      "text/plain": [
       "<IPython.core.display.Javascript object>"
      ]
     },
     "metadata": {},
     "output_type": "display_data"
    }
   ],
   "source": [
    "y_pred_train = {}\n",
    "y_pred_test = {}\n",
    "model_list = {}"
   ]
  },
  {
   "cell_type": "code",
   "execution_count": 11,
   "metadata": {},
   "outputs": [
    {
     "data": {
      "application/javascript": [
       "\n",
       "            setTimeout(function() {\n",
       "                var nbb_cell_id = 11;\n",
       "                var nbb_unformatted_code = \"from sklearn.linear_model import LogisticRegression\\n\\nlr_clf = LogisticRegression(random_state=random_seed_val, solver=\\\"liblinear\\\").fit(\\n    x_1_train, y_train\\n)\\ny_pred_train[\\\"LR\\\"] = lr_clf.predict(x_1_train)\\ny_pred_test[\\\"LR\\\"] = lr_clf.predict(x_1_test)\\nmodel_list[\\\"LR\\\"] = lr_clf\";\n",
       "                var nbb_formatted_code = \"from sklearn.linear_model import LogisticRegression\\n\\nlr_clf = LogisticRegression(random_state=random_seed_val, solver=\\\"liblinear\\\").fit(\\n    x_1_train, y_train\\n)\\ny_pred_train[\\\"LR\\\"] = lr_clf.predict(x_1_train)\\ny_pred_test[\\\"LR\\\"] = lr_clf.predict(x_1_test)\\nmodel_list[\\\"LR\\\"] = lr_clf\";\n",
       "                var nbb_cells = Jupyter.notebook.get_cells();\n",
       "                for (var i = 0; i < nbb_cells.length; ++i) {\n",
       "                    if (nbb_cells[i].input_prompt_number == nbb_cell_id) {\n",
       "                        if (nbb_cells[i].get_text() == nbb_unformatted_code) {\n",
       "                             nbb_cells[i].set_text(nbb_formatted_code);\n",
       "                        }\n",
       "                        break;\n",
       "                    }\n",
       "                }\n",
       "            }, 500);\n",
       "            "
      ],
      "text/plain": [
       "<IPython.core.display.Javascript object>"
      ]
     },
     "metadata": {},
     "output_type": "display_data"
    }
   ],
   "source": [
    "from sklearn.linear_model import LogisticRegression\n",
    "\n",
    "lr_clf = LogisticRegression(random_state=random_seed_val, solver=\"liblinear\").fit(\n",
    "    x_1_train, y_train\n",
    ")\n",
    "y_pred_train[\"LR\"] = lr_clf.predict(x_1_train)\n",
    "y_pred_test[\"LR\"] = lr_clf.predict(x_1_test)\n",
    "model_list[\"LR\"] = lr_clf"
   ]
  },
  {
   "cell_type": "code",
   "execution_count": 12,
   "metadata": {},
   "outputs": [
    {
     "data": {
      "application/javascript": [
       "\n",
       "            setTimeout(function() {\n",
       "                var nbb_cell_id = 12;\n",
       "                var nbb_unformatted_code = \"from sklearn.neural_network import MLPClassifier\\n\\nmlp_clf = MLPClassifier(\\n    random_state=random_seed_val, activation=\\\"logistic\\\", max_iter=10000\\n)\\nmlp_clf.fit(x_1_train, y_train)\\n\\ny_pred_train[\\\"MLP\\\"] = mlp_clf.predict(x_1_train)\\ny_pred_test[\\\"MLP\\\"] = mlp_clf.predict(x_1_test)\\nmodel_list[\\\"MLP\\\"] = mlp_clf\";\n",
       "                var nbb_formatted_code = \"from sklearn.neural_network import MLPClassifier\\n\\nmlp_clf = MLPClassifier(\\n    random_state=random_seed_val, activation=\\\"logistic\\\", max_iter=10000\\n)\\nmlp_clf.fit(x_1_train, y_train)\\n\\ny_pred_train[\\\"MLP\\\"] = mlp_clf.predict(x_1_train)\\ny_pred_test[\\\"MLP\\\"] = mlp_clf.predict(x_1_test)\\nmodel_list[\\\"MLP\\\"] = mlp_clf\";\n",
       "                var nbb_cells = Jupyter.notebook.get_cells();\n",
       "                for (var i = 0; i < nbb_cells.length; ++i) {\n",
       "                    if (nbb_cells[i].input_prompt_number == nbb_cell_id) {\n",
       "                        if (nbb_cells[i].get_text() == nbb_unformatted_code) {\n",
       "                             nbb_cells[i].set_text(nbb_formatted_code);\n",
       "                        }\n",
       "                        break;\n",
       "                    }\n",
       "                }\n",
       "            }, 500);\n",
       "            "
      ],
      "text/plain": [
       "<IPython.core.display.Javascript object>"
      ]
     },
     "metadata": {},
     "output_type": "display_data"
    }
   ],
   "source": [
    "from sklearn.neural_network import MLPClassifier\n",
    "\n",
    "mlp_clf = MLPClassifier(\n",
    "    random_state=random_seed_val, activation=\"logistic\", max_iter=10000\n",
    ")\n",
    "mlp_clf.fit(x_1_train, y_train)\n",
    "\n",
    "y_pred_train[\"MLP\"] = mlp_clf.predict(x_1_train)\n",
    "y_pred_test[\"MLP\"] = mlp_clf.predict(x_1_test)\n",
    "model_list[\"MLP\"] = mlp_clf"
   ]
  },
  {
   "cell_type": "code",
   "execution_count": 13,
   "metadata": {},
   "outputs": [
    {
     "data": {
      "application/javascript": [
       "\n",
       "            setTimeout(function() {\n",
       "                var nbb_cell_id = 13;\n",
       "                var nbb_unformatted_code = \"from sklearn.tree import DecisionTreeClassifier\\n\\ndt_clf = DecisionTreeClassifier(criterion=\\\"entropy\\\", random_state=random_seed_val)\\ndt_clf.fit(x_2_train, y_train)\\n\\ny_pred_train[\\\"DT\\\"] = dt_clf.predict(x_2_train)\\ny_pred_test[\\\"DT\\\"] = dt_clf.predict(x_2_test)\\nmodel_list[\\\"DT\\\"] = dt_clf\";\n",
       "                var nbb_formatted_code = \"from sklearn.tree import DecisionTreeClassifier\\n\\ndt_clf = DecisionTreeClassifier(criterion=\\\"entropy\\\", random_state=random_seed_val)\\ndt_clf.fit(x_2_train, y_train)\\n\\ny_pred_train[\\\"DT\\\"] = dt_clf.predict(x_2_train)\\ny_pred_test[\\\"DT\\\"] = dt_clf.predict(x_2_test)\\nmodel_list[\\\"DT\\\"] = dt_clf\";\n",
       "                var nbb_cells = Jupyter.notebook.get_cells();\n",
       "                for (var i = 0; i < nbb_cells.length; ++i) {\n",
       "                    if (nbb_cells[i].input_prompt_number == nbb_cell_id) {\n",
       "                        if (nbb_cells[i].get_text() == nbb_unformatted_code) {\n",
       "                             nbb_cells[i].set_text(nbb_formatted_code);\n",
       "                        }\n",
       "                        break;\n",
       "                    }\n",
       "                }\n",
       "            }, 500);\n",
       "            "
      ],
      "text/plain": [
       "<IPython.core.display.Javascript object>"
      ]
     },
     "metadata": {},
     "output_type": "display_data"
    }
   ],
   "source": [
    "from sklearn.tree import DecisionTreeClassifier\n",
    "\n",
    "dt_clf = DecisionTreeClassifier(criterion=\"entropy\", random_state=random_seed_val)\n",
    "dt_clf.fit(x_2_train, y_train)\n",
    "\n",
    "y_pred_train[\"DT\"] = dt_clf.predict(x_2_train)\n",
    "y_pred_test[\"DT\"] = dt_clf.predict(x_2_test)\n",
    "model_list[\"DT\"] = dt_clf"
   ]
  },
  {
   "cell_type": "code",
   "execution_count": 14,
   "metadata": {},
   "outputs": [
    {
     "data": {
      "application/javascript": [
       "\n",
       "            setTimeout(function() {\n",
       "                var nbb_cell_id = 14;\n",
       "                var nbb_unformatted_code = \"from sklearn.ensemble import RandomForestClassifier\\n\\nrf_clf = RandomForestClassifier(\\n    criterion=\\\"entropy\\\", random_state=random_seed_val\\n)\\nrf_clf.fit(x_2_train, y_train)\\n\\ny_pred_train[\\\"RF\\\"] = rf_clf.predict(x_2_train)\\ny_pred_test[\\\"RF\\\"] = rf_clf.predict(x_2_test)\\nmodel_list[\\\"RF\\\"] = rf_clf\";\n",
       "                var nbb_formatted_code = \"from sklearn.ensemble import RandomForestClassifier\\n\\nrf_clf = RandomForestClassifier(criterion=\\\"entropy\\\", random_state=random_seed_val)\\nrf_clf.fit(x_2_train, y_train)\\n\\ny_pred_train[\\\"RF\\\"] = rf_clf.predict(x_2_train)\\ny_pred_test[\\\"RF\\\"] = rf_clf.predict(x_2_test)\\nmodel_list[\\\"RF\\\"] = rf_clf\";\n",
       "                var nbb_cells = Jupyter.notebook.get_cells();\n",
       "                for (var i = 0; i < nbb_cells.length; ++i) {\n",
       "                    if (nbb_cells[i].input_prompt_number == nbb_cell_id) {\n",
       "                        if (nbb_cells[i].get_text() == nbb_unformatted_code) {\n",
       "                             nbb_cells[i].set_text(nbb_formatted_code);\n",
       "                        }\n",
       "                        break;\n",
       "                    }\n",
       "                }\n",
       "            }, 500);\n",
       "            "
      ],
      "text/plain": [
       "<IPython.core.display.Javascript object>"
      ]
     },
     "metadata": {},
     "output_type": "display_data"
    }
   ],
   "source": [
    "from sklearn.ensemble import RandomForestClassifier\n",
    "\n",
    "rf_clf = RandomForestClassifier(criterion=\"entropy\", random_state=random_seed_val)\n",
    "rf_clf.fit(x_2_train, y_train)\n",
    "\n",
    "y_pred_train[\"RF\"] = rf_clf.predict(x_2_train)\n",
    "y_pred_test[\"RF\"] = rf_clf.predict(x_2_test)\n",
    "model_list[\"RF\"] = rf_clf"
   ]
  },
  {
   "cell_type": "code",
   "execution_count": 15,
   "metadata": {},
   "outputs": [
    {
     "data": {
      "application/javascript": [
       "\n",
       "            setTimeout(function() {\n",
       "                var nbb_cell_id = 15;\n",
       "                var nbb_unformatted_code = \"from sklearn.ensemble import AdaBoostClassifier\\n\\nab_clf = AdaBoostClassifier(random_state=random_seed_val)\\nab_clf.fit(x_2_train, y_train)\\n\\ny_pred_train[\\\"AdaBoost\\\"] = ab_clf.predict(x_2_train)\\ny_pred_test[\\\"AdaBoost\\\"] = ab_clf.predict(x_2_test)\\nmodel_list[\\\"AdaBoost\\\"] = ab_clf\";\n",
       "                var nbb_formatted_code = \"from sklearn.ensemble import AdaBoostClassifier\\n\\nab_clf = AdaBoostClassifier(random_state=random_seed_val)\\nab_clf.fit(x_2_train, y_train)\\n\\ny_pred_train[\\\"AdaBoost\\\"] = ab_clf.predict(x_2_train)\\ny_pred_test[\\\"AdaBoost\\\"] = ab_clf.predict(x_2_test)\\nmodel_list[\\\"AdaBoost\\\"] = ab_clf\";\n",
       "                var nbb_cells = Jupyter.notebook.get_cells();\n",
       "                for (var i = 0; i < nbb_cells.length; ++i) {\n",
       "                    if (nbb_cells[i].input_prompt_number == nbb_cell_id) {\n",
       "                        if (nbb_cells[i].get_text() == nbb_unformatted_code) {\n",
       "                             nbb_cells[i].set_text(nbb_formatted_code);\n",
       "                        }\n",
       "                        break;\n",
       "                    }\n",
       "                }\n",
       "            }, 500);\n",
       "            "
      ],
      "text/plain": [
       "<IPython.core.display.Javascript object>"
      ]
     },
     "metadata": {},
     "output_type": "display_data"
    }
   ],
   "source": [
    "from sklearn.ensemble import AdaBoostClassifier\n",
    "\n",
    "ab_clf = AdaBoostClassifier(random_state=random_seed_val)\n",
    "ab_clf.fit(x_2_train, y_train)\n",
    "\n",
    "y_pred_train[\"AdaBoost\"] = ab_clf.predict(x_2_train)\n",
    "y_pred_test[\"AdaBoost\"] = ab_clf.predict(x_2_test)\n",
    "model_list[\"AdaBoost\"] = ab_clf"
   ]
  },
  {
   "cell_type": "code",
   "execution_count": 16,
   "metadata": {},
   "outputs": [
    {
     "data": {
      "application/javascript": [
       "\n",
       "            setTimeout(function() {\n",
       "                var nbb_cell_id = 16;\n",
       "                var nbb_unformatted_code = \"from sklearn.ensemble import GradientBoostingClassifier\\n\\ngbdt_clf = GradientBoostingClassifier(random_state=random_seed_val)\\ngbdt_clf.fit(x_2_train, y_train)\\n\\ny_pred_train[\\\"GBDT\\\"] = gbdt_clf.predict(x_2_train)\\ny_pred_test[\\\"GBDT\\\"] = gbdt_clf.predict(x_2_test)\\nmodel_list[\\\"GBDT\\\"] = gbdt_clf\";\n",
       "                var nbb_formatted_code = \"from sklearn.ensemble import GradientBoostingClassifier\\n\\ngbdt_clf = GradientBoostingClassifier(random_state=random_seed_val)\\ngbdt_clf.fit(x_2_train, y_train)\\n\\ny_pred_train[\\\"GBDT\\\"] = gbdt_clf.predict(x_2_train)\\ny_pred_test[\\\"GBDT\\\"] = gbdt_clf.predict(x_2_test)\\nmodel_list[\\\"GBDT\\\"] = gbdt_clf\";\n",
       "                var nbb_cells = Jupyter.notebook.get_cells();\n",
       "                for (var i = 0; i < nbb_cells.length; ++i) {\n",
       "                    if (nbb_cells[i].input_prompt_number == nbb_cell_id) {\n",
       "                        if (nbb_cells[i].get_text() == nbb_unformatted_code) {\n",
       "                             nbb_cells[i].set_text(nbb_formatted_code);\n",
       "                        }\n",
       "                        break;\n",
       "                    }\n",
       "                }\n",
       "            }, 500);\n",
       "            "
      ],
      "text/plain": [
       "<IPython.core.display.Javascript object>"
      ]
     },
     "metadata": {},
     "output_type": "display_data"
    }
   ],
   "source": [
    "from sklearn.ensemble import GradientBoostingClassifier\n",
    "\n",
    "gbdt_clf = GradientBoostingClassifier(random_state=random_seed_val)\n",
    "gbdt_clf.fit(x_2_train, y_train)\n",
    "\n",
    "y_pred_train[\"GBDT\"] = gbdt_clf.predict(x_2_train)\n",
    "y_pred_test[\"GBDT\"] = gbdt_clf.predict(x_2_test)\n",
    "model_list[\"GBDT\"] = gbdt_clf"
   ]
  },
  {
   "cell_type": "markdown",
   "metadata": {},
   "source": [
    "### Comparing models using the test set method"
   ]
  },
  {
   "cell_type": "code",
   "execution_count": 17,
   "metadata": {},
   "outputs": [
    {
     "data": {
      "application/javascript": [
       "\n",
       "            setTimeout(function() {\n",
       "                var nbb_cell_id = 17;\n",
       "                var nbb_unformatted_code = \"from sklearn.metrics import accuracy_score\\n\\nalgo_list = [\\\"LR\\\", \\\"MLP\\\", \\\"DT\\\", \\\"RF\\\", \\\"AdaBoost\\\", \\\"GBDT\\\"]\\n\\nresults_train = {}\\nresults_test = {}\\nfor algo in algo_list:\\n    results_train[algo] = accuracy_score(y_train, y_pred_train[algo])\\n    results_test[algo] = accuracy_score(y_test, y_pred_test[algo])\";\n",
       "                var nbb_formatted_code = \"from sklearn.metrics import accuracy_score\\n\\nalgo_list = [\\\"LR\\\", \\\"MLP\\\", \\\"DT\\\", \\\"RF\\\", \\\"AdaBoost\\\", \\\"GBDT\\\"]\\n\\nresults_train = {}\\nresults_test = {}\\nfor algo in algo_list:\\n    results_train[algo] = accuracy_score(y_train, y_pred_train[algo])\\n    results_test[algo] = accuracy_score(y_test, y_pred_test[algo])\";\n",
       "                var nbb_cells = Jupyter.notebook.get_cells();\n",
       "                for (var i = 0; i < nbb_cells.length; ++i) {\n",
       "                    if (nbb_cells[i].input_prompt_number == nbb_cell_id) {\n",
       "                        if (nbb_cells[i].get_text() == nbb_unformatted_code) {\n",
       "                             nbb_cells[i].set_text(nbb_formatted_code);\n",
       "                        }\n",
       "                        break;\n",
       "                    }\n",
       "                }\n",
       "            }, 500);\n",
       "            "
      ],
      "text/plain": [
       "<IPython.core.display.Javascript object>"
      ]
     },
     "metadata": {},
     "output_type": "display_data"
    }
   ],
   "source": [
    "from sklearn.metrics import accuracy_score\n",
    "\n",
    "algo_list = [\"LR\", \"MLP\", \"DT\", \"RF\", \"AdaBoost\", \"GBDT\"]\n",
    "\n",
    "results_train = {}\n",
    "results_test = {}\n",
    "for algo in algo_list:\n",
    "    results_train[algo] = accuracy_score(y_train, y_pred_train[algo])\n",
    "    results_test[algo] = accuracy_score(y_test, y_pred_test[algo])"
   ]
  },
  {
   "cell_type": "code",
   "execution_count": 18,
   "metadata": {},
   "outputs": [
    {
     "data": {
      "text/plain": [
       "{'LR': 0.8736842105263158,\n",
       " 'MLP': 0.9789473684210527,\n",
       " 'DT': 1.0,\n",
       " 'RF': 1.0,\n",
       " 'AdaBoost': 0.8947368421052632,\n",
       " 'GBDT': 1.0}"
      ]
     },
     "execution_count": 18,
     "metadata": {},
     "output_type": "execute_result"
    },
    {
     "data": {
      "application/javascript": [
       "\n",
       "            setTimeout(function() {\n",
       "                var nbb_cell_id = 18;\n",
       "                var nbb_unformatted_code = \"results_train\";\n",
       "                var nbb_formatted_code = \"results_train\";\n",
       "                var nbb_cells = Jupyter.notebook.get_cells();\n",
       "                for (var i = 0; i < nbb_cells.length; ++i) {\n",
       "                    if (nbb_cells[i].input_prompt_number == nbb_cell_id) {\n",
       "                        if (nbb_cells[i].get_text() == nbb_unformatted_code) {\n",
       "                             nbb_cells[i].set_text(nbb_formatted_code);\n",
       "                        }\n",
       "                        break;\n",
       "                    }\n",
       "                }\n",
       "            }, 500);\n",
       "            "
      ],
      "text/plain": [
       "<IPython.core.display.Javascript object>"
      ]
     },
     "metadata": {},
     "output_type": "display_data"
    }
   ],
   "source": [
    "results_train"
   ]
  },
  {
   "cell_type": "code",
   "execution_count": 19,
   "metadata": {
    "scrolled": true
   },
   "outputs": [
    {
     "data": {
      "text/plain": [
       "{'LR': 0.75,\n",
       " 'MLP': 0.84375,\n",
       " 'DT': 0.96875,\n",
       " 'RF': 0.9895833333333334,\n",
       " 'AdaBoost': 0.8854166666666666,\n",
       " 'GBDT': 0.9375}"
      ]
     },
     "execution_count": 19,
     "metadata": {},
     "output_type": "execute_result"
    },
    {
     "data": {
      "application/javascript": [
       "\n",
       "            setTimeout(function() {\n",
       "                var nbb_cell_id = 19;\n",
       "                var nbb_unformatted_code = \"results_test\";\n",
       "                var nbb_formatted_code = \"results_test\";\n",
       "                var nbb_cells = Jupyter.notebook.get_cells();\n",
       "                for (var i = 0; i < nbb_cells.length; ++i) {\n",
       "                    if (nbb_cells[i].input_prompt_number == nbb_cell_id) {\n",
       "                        if (nbb_cells[i].get_text() == nbb_unformatted_code) {\n",
       "                             nbb_cells[i].set_text(nbb_formatted_code);\n",
       "                        }\n",
       "                        break;\n",
       "                    }\n",
       "                }\n",
       "            }, 500);\n",
       "            "
      ],
      "text/plain": [
       "<IPython.core.display.Javascript object>"
      ]
     },
     "metadata": {},
     "output_type": "display_data"
    }
   ],
   "source": [
    "results_test"
   ]
  },
  {
   "cell_type": "markdown",
   "metadata": {},
   "source": [
    "### Comparing models using the cross validation method"
   ]
  },
  {
   "cell_type": "code",
   "execution_count": 20,
   "metadata": {},
   "outputs": [
    {
     "data": {
      "application/javascript": [
       "\n",
       "            setTimeout(function() {\n",
       "                var nbb_cell_id = 20;\n",
       "                var nbb_unformatted_code = \"from sklearn.model_selection import cross_val_score\\nimport numpy as np\\n\\nk_fold = 5\\n\\nresults_cv = {}\\nfor algo in algo_list:\\n    if algo in [\\\"LR\\\", \\\"MLP\\\"]:\\n        results_cv[algo] = np.mean(cross_val_score(model_list[algo], x_1, y, cv=k_fold))\\n    else:\\n        results_cv[algo] = np.mean(cross_val_score(model_list[algo], x_2, y, cv=k_fold))\";\n",
       "                var nbb_formatted_code = \"from sklearn.model_selection import cross_val_score\\nimport numpy as np\\n\\nk_fold = 5\\n\\nresults_cv = {}\\nfor algo in algo_list:\\n    if algo in [\\\"LR\\\", \\\"MLP\\\"]:\\n        results_cv[algo] = np.mean(cross_val_score(model_list[algo], x_1, y, cv=k_fold))\\n    else:\\n        results_cv[algo] = np.mean(cross_val_score(model_list[algo], x_2, y, cv=k_fold))\";\n",
       "                var nbb_cells = Jupyter.notebook.get_cells();\n",
       "                for (var i = 0; i < nbb_cells.length; ++i) {\n",
       "                    if (nbb_cells[i].input_prompt_number == nbb_cell_id) {\n",
       "                        if (nbb_cells[i].get_text() == nbb_unformatted_code) {\n",
       "                             nbb_cells[i].set_text(nbb_formatted_code);\n",
       "                        }\n",
       "                        break;\n",
       "                    }\n",
       "                }\n",
       "            }, 500);\n",
       "            "
      ],
      "text/plain": [
       "<IPython.core.display.Javascript object>"
      ]
     },
     "metadata": {},
     "output_type": "display_data"
    }
   ],
   "source": [
    "from sklearn.model_selection import cross_val_score\n",
    "import numpy as np\n",
    "\n",
    "k_fold = 5\n",
    "\n",
    "results_cv = {}\n",
    "for algo in algo_list:\n",
    "    if algo in [\"LR\", \"MLP\"]:\n",
    "        results_cv[algo] = np.mean(cross_val_score(model_list[algo], x_1, y, cv=k_fold))\n",
    "    else:\n",
    "        results_cv[algo] = np.mean(cross_val_score(model_list[algo], x_2, y, cv=k_fold))"
   ]
  },
  {
   "cell_type": "code",
   "execution_count": 21,
   "metadata": {
    "scrolled": false
   },
   "outputs": [
    {
     "data": {
      "text/plain": [
       "{'LR': 0.8062078272604587,\n",
       " 'MLP': 0.8844804318488528,\n",
       " 'DT': 0.9685560053981106,\n",
       " 'RF': 0.958029689608637,\n",
       " 'AdaBoost': 0.6912280701754386,\n",
       " 'GBDT': 0.958029689608637}"
      ]
     },
     "execution_count": 21,
     "metadata": {},
     "output_type": "execute_result"
    },
    {
     "data": {
      "application/javascript": [
       "\n",
       "            setTimeout(function() {\n",
       "                var nbb_cell_id = 21;\n",
       "                var nbb_unformatted_code = \"results_cv\";\n",
       "                var nbb_formatted_code = \"results_cv\";\n",
       "                var nbb_cells = Jupyter.notebook.get_cells();\n",
       "                for (var i = 0; i < nbb_cells.length; ++i) {\n",
       "                    if (nbb_cells[i].input_prompt_number == nbb_cell_id) {\n",
       "                        if (nbb_cells[i].get_text() == nbb_unformatted_code) {\n",
       "                             nbb_cells[i].set_text(nbb_formatted_code);\n",
       "                        }\n",
       "                        break;\n",
       "                    }\n",
       "                }\n",
       "            }, 500);\n",
       "            "
      ],
      "text/plain": [
       "<IPython.core.display.Javascript object>"
      ]
     },
     "metadata": {},
     "output_type": "display_data"
    }
   ],
   "source": [
    "results_cv"
   ]
  },
  {
   "cell_type": "markdown",
   "metadata": {},
   "source": [
    "## Project: fashion mnist classification"
   ]
  },
  {
   "cell_type": "markdown",
   "metadata": {},
   "source": [
    "Context Fashion-MNIST is a dataset of Zalando's article images—consisting of a training set of 60,000 examples and a test set of 10,000 examples. Each example is a 28x28 grayscale image, associated with a label from 10 classes. Zalando intends Fashion-MNIST to serve as a direct drop-in replacement for the original MNIST dataset for benchmarking machine learning algorithms. It shares the same image size and structure of training and testing splits.\n",
    "\n",
    "The original MNIST dataset contains a lot of handwritten digits. Members of the AI/ML/Data Science community love this dataset and use it as a benchmark to validate their algorithms. In fact, MNIST is often the first dataset researchers try. \"If it doesn't work on MNIST, it won't work at all\", they said. \"Well, if it does work on MNIST, it may still fail on others.\"\n",
    "\n",
    "Zalando seeks to replace the original MNIST dataset\n",
    "\n",
    "Content\n",
    "Each image is 28 pixels in height and 28 pixels in width, for a total of 784 pixels in total. Each pixel has a single pixel-value associated with it, indicating the lightness or darkness of that pixel, with higher numbers meaning darker. This pixel-value is an integer between 0 and 255. The training and test data sets have 785 columns. The first column consists of the class labels (see above), and represents the article of clothing. The rest of the columns contain the pixel-values of the associated image.\n",
    "\n",
    "To locate a pixel on the image, suppose that we have decomposed x as x = i * 28 + j, where i and j are integers between 0 and 27. The pixel is located on row i and column j of a 28 x 28 matrix.\n",
    "For example, pixel31 indicates the pixel that is in the fourth column from the left, and the second row from the top, as in the ascii-diagram below.\n",
    "\n",
    "\n",
    "Labels\n",
    "\n",
    "Each training and test example is assigned to one of the following labels:\n",
    "\n",
    "0 T-shirt/top\n",
    "1 Trouser\n",
    "2 Pullover\n",
    "3 Dress\n",
    "4 Coat\n",
    "5 Sandal\n",
    "6 Shirt\n",
    "7 Sneaker\n",
    "8 Bag\n",
    "9 Ankle boot\n",
    "\n",
    "\n",
    "TL;DR\n",
    "\n",
    "Each row is a separate image\n",
    "Column 1 is the class label.\n",
    "Remaining columns are pixel numbers (784 total).\n",
    "Each value is the darkness of the pixel (1 to 255)"
   ]
  },
  {
   "cell_type": "markdown",
   "metadata": {},
   "source": [
    "**Task:** Implement neural networks, decision tree, random forest and gradient boosting models. Select the best model with the best overall accuracy."
   ]
  },
  {
   "cell_type": "markdown",
   "metadata": {},
   "source": [
    "## Solution "
   ]
  },
  {
   "cell_type": "markdown",
   "metadata": {},
   "source": [
    "### Load dataset"
   ]
  },
  {
   "cell_type": "code",
   "execution_count": 22,
   "metadata": {},
   "outputs": [
    {
     "data": {
      "text/html": [
       "<div>\n",
       "<style scoped>\n",
       "    .dataframe tbody tr th:only-of-type {\n",
       "        vertical-align: middle;\n",
       "    }\n",
       "\n",
       "    .dataframe tbody tr th {\n",
       "        vertical-align: top;\n",
       "    }\n",
       "\n",
       "    .dataframe thead th {\n",
       "        text-align: right;\n",
       "    }\n",
       "</style>\n",
       "<table border=\"1\" class=\"dataframe\">\n",
       "  <thead>\n",
       "    <tr style=\"text-align: right;\">\n",
       "      <th></th>\n",
       "      <th>label</th>\n",
       "      <th>pixel1</th>\n",
       "      <th>pixel2</th>\n",
       "      <th>pixel3</th>\n",
       "      <th>pixel4</th>\n",
       "      <th>pixel5</th>\n",
       "      <th>pixel6</th>\n",
       "      <th>pixel7</th>\n",
       "      <th>pixel8</th>\n",
       "      <th>pixel9</th>\n",
       "      <th>...</th>\n",
       "      <th>pixel775</th>\n",
       "      <th>pixel776</th>\n",
       "      <th>pixel777</th>\n",
       "      <th>pixel778</th>\n",
       "      <th>pixel779</th>\n",
       "      <th>pixel780</th>\n",
       "      <th>pixel781</th>\n",
       "      <th>pixel782</th>\n",
       "      <th>pixel783</th>\n",
       "      <th>pixel784</th>\n",
       "    </tr>\n",
       "  </thead>\n",
       "  <tbody>\n",
       "    <tr>\n",
       "      <td>0</td>\n",
       "      <td>2</td>\n",
       "      <td>0</td>\n",
       "      <td>0</td>\n",
       "      <td>0</td>\n",
       "      <td>0</td>\n",
       "      <td>0</td>\n",
       "      <td>0</td>\n",
       "      <td>0</td>\n",
       "      <td>0</td>\n",
       "      <td>0</td>\n",
       "      <td>...</td>\n",
       "      <td>0</td>\n",
       "      <td>0</td>\n",
       "      <td>0</td>\n",
       "      <td>0</td>\n",
       "      <td>0</td>\n",
       "      <td>0</td>\n",
       "      <td>0</td>\n",
       "      <td>0</td>\n",
       "      <td>0</td>\n",
       "      <td>0</td>\n",
       "    </tr>\n",
       "    <tr>\n",
       "      <td>1</td>\n",
       "      <td>9</td>\n",
       "      <td>0</td>\n",
       "      <td>0</td>\n",
       "      <td>0</td>\n",
       "      <td>0</td>\n",
       "      <td>0</td>\n",
       "      <td>0</td>\n",
       "      <td>0</td>\n",
       "      <td>0</td>\n",
       "      <td>0</td>\n",
       "      <td>...</td>\n",
       "      <td>0</td>\n",
       "      <td>0</td>\n",
       "      <td>0</td>\n",
       "      <td>0</td>\n",
       "      <td>0</td>\n",
       "      <td>0</td>\n",
       "      <td>0</td>\n",
       "      <td>0</td>\n",
       "      <td>0</td>\n",
       "      <td>0</td>\n",
       "    </tr>\n",
       "    <tr>\n",
       "      <td>2</td>\n",
       "      <td>6</td>\n",
       "      <td>0</td>\n",
       "      <td>0</td>\n",
       "      <td>0</td>\n",
       "      <td>0</td>\n",
       "      <td>0</td>\n",
       "      <td>0</td>\n",
       "      <td>0</td>\n",
       "      <td>5</td>\n",
       "      <td>0</td>\n",
       "      <td>...</td>\n",
       "      <td>0</td>\n",
       "      <td>0</td>\n",
       "      <td>0</td>\n",
       "      <td>30</td>\n",
       "      <td>43</td>\n",
       "      <td>0</td>\n",
       "      <td>0</td>\n",
       "      <td>0</td>\n",
       "      <td>0</td>\n",
       "      <td>0</td>\n",
       "    </tr>\n",
       "    <tr>\n",
       "      <td>3</td>\n",
       "      <td>0</td>\n",
       "      <td>0</td>\n",
       "      <td>0</td>\n",
       "      <td>0</td>\n",
       "      <td>1</td>\n",
       "      <td>2</td>\n",
       "      <td>0</td>\n",
       "      <td>0</td>\n",
       "      <td>0</td>\n",
       "      <td>0</td>\n",
       "      <td>...</td>\n",
       "      <td>3</td>\n",
       "      <td>0</td>\n",
       "      <td>0</td>\n",
       "      <td>0</td>\n",
       "      <td>0</td>\n",
       "      <td>1</td>\n",
       "      <td>0</td>\n",
       "      <td>0</td>\n",
       "      <td>0</td>\n",
       "      <td>0</td>\n",
       "    </tr>\n",
       "    <tr>\n",
       "      <td>4</td>\n",
       "      <td>3</td>\n",
       "      <td>0</td>\n",
       "      <td>0</td>\n",
       "      <td>0</td>\n",
       "      <td>0</td>\n",
       "      <td>0</td>\n",
       "      <td>0</td>\n",
       "      <td>0</td>\n",
       "      <td>0</td>\n",
       "      <td>0</td>\n",
       "      <td>...</td>\n",
       "      <td>0</td>\n",
       "      <td>0</td>\n",
       "      <td>0</td>\n",
       "      <td>0</td>\n",
       "      <td>0</td>\n",
       "      <td>0</td>\n",
       "      <td>0</td>\n",
       "      <td>0</td>\n",
       "      <td>0</td>\n",
       "      <td>0</td>\n",
       "    </tr>\n",
       "  </tbody>\n",
       "</table>\n",
       "<p>5 rows × 785 columns</p>\n",
       "</div>"
      ],
      "text/plain": [
       "   label  pixel1  pixel2  pixel3  pixel4  pixel5  pixel6  pixel7  pixel8  \\\n",
       "0      2       0       0       0       0       0       0       0       0   \n",
       "1      9       0       0       0       0       0       0       0       0   \n",
       "2      6       0       0       0       0       0       0       0       5   \n",
       "3      0       0       0       0       1       2       0       0       0   \n",
       "4      3       0       0       0       0       0       0       0       0   \n",
       "\n",
       "   pixel9  ...  pixel775  pixel776  pixel777  pixel778  pixel779  pixel780  \\\n",
       "0       0  ...         0         0         0         0         0         0   \n",
       "1       0  ...         0         0         0         0         0         0   \n",
       "2       0  ...         0         0         0        30        43         0   \n",
       "3       0  ...         3         0         0         0         0         1   \n",
       "4       0  ...         0         0         0         0         0         0   \n",
       "\n",
       "   pixel781  pixel782  pixel783  pixel784  \n",
       "0         0         0         0         0  \n",
       "1         0         0         0         0  \n",
       "2         0         0         0         0  \n",
       "3         0         0         0         0  \n",
       "4         0         0         0         0  \n",
       "\n",
       "[5 rows x 785 columns]"
      ]
     },
     "execution_count": 22,
     "metadata": {},
     "output_type": "execute_result"
    },
    {
     "data": {
      "application/javascript": [
       "\n",
       "            setTimeout(function() {\n",
       "                var nbb_cell_id = 22;\n",
       "                var nbb_unformatted_code = \"import pandas as pd\\n\\ndf = pd.read_csv(\\\"data/Fashion_Mnist.csv\\\")\\n\\n# Assign category names to the label/response variable.\\nlabel_map = {\\n    0: \\\"T-shirt/top\\\",\\n    1: \\\"Trouser\\\",\\n    2: \\\"Pullover\\\",\\n    3: \\\"Dress\\\",\\n    4: \\\"Coat\\\",\\n    5: \\\"Sandal\\\",\\n    6: \\\"Shirt\\\",\\n    7: \\\"Sneaker\\\",\\n    8: \\\"Bag\\\",\\n    9: \\\"Ankle boot\\\",\\n}\\n\\ndf.head()\";\n",
       "                var nbb_formatted_code = \"import pandas as pd\\n\\ndf = pd.read_csv(\\\"data/Fashion_Mnist.csv\\\")\\n\\n# Assign category names to the label/response variable.\\nlabel_map = {\\n    0: \\\"T-shirt/top\\\",\\n    1: \\\"Trouser\\\",\\n    2: \\\"Pullover\\\",\\n    3: \\\"Dress\\\",\\n    4: \\\"Coat\\\",\\n    5: \\\"Sandal\\\",\\n    6: \\\"Shirt\\\",\\n    7: \\\"Sneaker\\\",\\n    8: \\\"Bag\\\",\\n    9: \\\"Ankle boot\\\",\\n}\\n\\ndf.head()\";\n",
       "                var nbb_cells = Jupyter.notebook.get_cells();\n",
       "                for (var i = 0; i < nbb_cells.length; ++i) {\n",
       "                    if (nbb_cells[i].input_prompt_number == nbb_cell_id) {\n",
       "                        if (nbb_cells[i].get_text() == nbb_unformatted_code) {\n",
       "                             nbb_cells[i].set_text(nbb_formatted_code);\n",
       "                        }\n",
       "                        break;\n",
       "                    }\n",
       "                }\n",
       "            }, 500);\n",
       "            "
      ],
      "text/plain": [
       "<IPython.core.display.Javascript object>"
      ]
     },
     "metadata": {},
     "output_type": "display_data"
    }
   ],
   "source": [
    "import pandas as pd\n",
    "\n",
    "df = pd.read_csv(\"data/Fashion_Mnist.csv\")\n",
    "\n",
    "# Assign category names to the label/response variable.\n",
    "label_map = {\n",
    "    0: \"T-shirt/top\",\n",
    "    1: \"Trouser\",\n",
    "    2: \"Pullover\",\n",
    "    3: \"Dress\",\n",
    "    4: \"Coat\",\n",
    "    5: \"Sandal\",\n",
    "    6: \"Shirt\",\n",
    "    7: \"Sneaker\",\n",
    "    8: \"Bag\",\n",
    "    9: \"Ankle boot\",\n",
    "}\n",
    "\n",
    "df.head()"
   ]
  },
  {
   "cell_type": "code",
   "execution_count": 23,
   "metadata": {},
   "outputs": [
    {
     "name": "stdout",
     "output_type": "stream",
     "text": [
      "<class 'pandas.core.frame.DataFrame'>\n",
      "RangeIndex: 5000 entries, 0 to 4999\n",
      "Columns: 785 entries, label to pixel784\n",
      "dtypes: int64(785)\n",
      "memory usage: 29.9 MB\n"
     ]
    },
    {
     "data": {
      "application/javascript": [
       "\n",
       "            setTimeout(function() {\n",
       "                var nbb_cell_id = 23;\n",
       "                var nbb_unformatted_code = \"df.info()\";\n",
       "                var nbb_formatted_code = \"df.info()\";\n",
       "                var nbb_cells = Jupyter.notebook.get_cells();\n",
       "                for (var i = 0; i < nbb_cells.length; ++i) {\n",
       "                    if (nbb_cells[i].input_prompt_number == nbb_cell_id) {\n",
       "                        if (nbb_cells[i].get_text() == nbb_unformatted_code) {\n",
       "                             nbb_cells[i].set_text(nbb_formatted_code);\n",
       "                        }\n",
       "                        break;\n",
       "                    }\n",
       "                }\n",
       "            }, 500);\n",
       "            "
      ],
      "text/plain": [
       "<IPython.core.display.Javascript object>"
      ]
     },
     "metadata": {},
     "output_type": "display_data"
    }
   ],
   "source": [
    "df.info()"
   ]
  },
  {
   "cell_type": "code",
   "execution_count": 24,
   "metadata": {},
   "outputs": [
    {
     "data": {
      "text/plain": [
       "<matplotlib.image.AxesImage at 0x1bf6a6ede88>"
      ]
     },
     "execution_count": 24,
     "metadata": {},
     "output_type": "execute_result"
    },
    {
     "data": {
      "application/javascript": [
       "\n",
       "            setTimeout(function() {\n",
       "                var nbb_cell_id = 24;\n",
       "                var nbb_unformatted_code = \"import matplotlib.pyplot as plt\\n\\nxx = df.iloc[0, 1:].to_numpy().reshape(28, 28)\\nplt.imshow(xx, cmap=\\\"Greys\\\")\";\n",
       "                var nbb_formatted_code = \"import matplotlib.pyplot as plt\\n\\nxx = df.iloc[0, 1:].to_numpy().reshape(28, 28)\\nplt.imshow(xx, cmap=\\\"Greys\\\")\";\n",
       "                var nbb_cells = Jupyter.notebook.get_cells();\n",
       "                for (var i = 0; i < nbb_cells.length; ++i) {\n",
       "                    if (nbb_cells[i].input_prompt_number == nbb_cell_id) {\n",
       "                        if (nbb_cells[i].get_text() == nbb_unformatted_code) {\n",
       "                             nbb_cells[i].set_text(nbb_formatted_code);\n",
       "                        }\n",
       "                        break;\n",
       "                    }\n",
       "                }\n",
       "            }, 500);\n",
       "            "
      ],
      "text/plain": [
       "<IPython.core.display.Javascript object>"
      ]
     },
     "metadata": {},
     "output_type": "display_data"
    }
   ],
   "source": [
    "import matplotlib.pyplot as plt\n",
    "\n",
    "xx = df.iloc[0, 1:].to_numpy().reshape(28, 28)\n",
    "plt.imshow(xx, cmap=\"Greys\")"
   ]
  },
  {
   "cell_type": "markdown",
   "metadata": {},
   "source": [
    "Visualize the first 36 rows of the dataset and display them as an images to have an example of clothes we will be working with."
   ]
  },
  {
   "cell_type": "code",
   "execution_count": 25,
   "metadata": {},
   "outputs": [
    {
     "data": {
      "image/png": "[encoded data removed]",
      "text/plain": [
       "<Figure size 720x720 with 36 Axes>"
      ]
     },
     "metadata": {},
     "output_type": "display_data"
    },
    {
     "data": {
      "application/javascript": [
       "\n",
       "            setTimeout(function() {\n",
       "                var nbb_cell_id = 25;\n",
       "                var nbb_unformatted_code = \"import numpy as np\\n\\n# How many images to display.\\nnumbers_to_display = 36\\n\\n# Calculate the number of cells that will hold all the images.\\nnum_cells = np.ceil(np.sqrt(numbers_to_display))\\n\\n# Make the plot a little bit bigger than default one.\\nplt.figure(figsize=(10, 10))\\n\\n# Go through the first images in a training set and plot them.\\nfor plot_index in range(numbers_to_display):\\n    # Extract image data.\\n    digit = df[plot_index : plot_index + 1].values\\n    digit_label = digit[0][0]\\n    digit_pixels = digit[0][1:]\\n\\n    # Calculate image size (remember that each picture has square proportions).\\n    image_size = int(np.sqrt(digit_pixels.shape[0]))\\n\\n    # Convert image vector into the matrix of pixels.\\n    frame = digit_pixels.reshape((image_size, image_size))\\n\\n    # Plot the image matrix.\\n    plt.subplot(num_cells, num_cells, plot_index + 1)\\n    plt.imshow(frame, cmap=\\\"Greys\\\")\\n    plt.title(label_map[digit_label])\\n    plt.tick_params(\\n        axis=\\\"both\\\",\\n        which=\\\"both\\\",\\n        bottom=False,\\n        left=False,\\n        labelbottom=False,\\n        labelleft=False,\\n    )\\n\\n# Plot all subplots.\\nplt.subplots_adjust(hspace=0.5, wspace=0.5)\\nplt.show()\";\n",
       "                var nbb_formatted_code = \"import numpy as np\\n\\n# How many images to display.\\nnumbers_to_display = 36\\n\\n# Calculate the number of cells that will hold all the images.\\nnum_cells = np.ceil(np.sqrt(numbers_to_display))\\n\\n# Make the plot a little bit bigger than default one.\\nplt.figure(figsize=(10, 10))\\n\\n# Go through the first images in a training set and plot them.\\nfor plot_index in range(numbers_to_display):\\n    # Extract image data.\\n    digit = df[plot_index : plot_index + 1].values\\n    digit_label = digit[0][0]\\n    digit_pixels = digit[0][1:]\\n\\n    # Calculate image size (remember that each picture has square proportions).\\n    image_size = int(np.sqrt(digit_pixels.shape[0]))\\n\\n    # Convert image vector into the matrix of pixels.\\n    frame = digit_pixels.reshape((image_size, image_size))\\n\\n    # Plot the image matrix.\\n    plt.subplot(num_cells, num_cells, plot_index + 1)\\n    plt.imshow(frame, cmap=\\\"Greys\\\")\\n    plt.title(label_map[digit_label])\\n    plt.tick_params(\\n        axis=\\\"both\\\",\\n        which=\\\"both\\\",\\n        bottom=False,\\n        left=False,\\n        labelbottom=False,\\n        labelleft=False,\\n    )\\n\\n# Plot all subplots.\\nplt.subplots_adjust(hspace=0.5, wspace=0.5)\\nplt.show()\";\n",
       "                var nbb_cells = Jupyter.notebook.get_cells();\n",
       "                for (var i = 0; i < nbb_cells.length; ++i) {\n",
       "                    if (nbb_cells[i].input_prompt_number == nbb_cell_id) {\n",
       "                        if (nbb_cells[i].get_text() == nbb_unformatted_code) {\n",
       "                             nbb_cells[i].set_text(nbb_formatted_code);\n",
       "                        }\n",
       "                        break;\n",
       "                    }\n",
       "                }\n",
       "            }, 500);\n",
       "            "
      ],
      "text/plain": [
       "<IPython.core.display.Javascript object>"
      ]
     },
     "metadata": {},
     "output_type": "display_data"
    }
   ],
   "source": [
    "import numpy as np\n",
    "\n",
    "# How many images to display.\n",
    "numbers_to_display = 36\n",
    "\n",
    "# Calculate the number of cells that will hold all the images.\n",
    "num_cells = np.ceil(np.sqrt(numbers_to_display))\n",
    "\n",
    "# Make the plot a little bit bigger than default one.\n",
    "plt.figure(figsize=(10, 10))\n",
    "\n",
    "# Go through the first images in a training set and plot them.\n",
    "for plot_index in range(numbers_to_display):\n",
    "    # Extract image data.\n",
    "    digit = df[plot_index : plot_index + 1].values\n",
    "    digit_label = digit[0][0]\n",
    "    digit_pixels = digit[0][1:]\n",
    "\n",
    "    # Calculate image size (remember that each picture has square proportions).\n",
    "    image_size = int(np.sqrt(digit_pixels.shape[0]))\n",
    "\n",
    "    # Convert image vector into the matrix of pixels.\n",
    "    frame = digit_pixels.reshape((image_size, image_size))\n",
    "\n",
    "    # Plot the image matrix.\n",
    "    plt.subplot(num_cells, num_cells, plot_index + 1)\n",
    "    plt.imshow(frame, cmap=\"Greys\")\n",
    "    plt.title(label_map[digit_label])\n",
    "    plt.tick_params(\n",
    "        axis=\"both\",\n",
    "        which=\"both\",\n",
    "        bottom=False,\n",
    "        left=False,\n",
    "        labelbottom=False,\n",
    "        labelleft=False,\n",
    "    )\n",
    "\n",
    "# Plot all subplots.\n",
    "plt.subplots_adjust(hspace=0.5, wspace=0.5)\n",
    "plt.show()"
   ]
  },
  {
   "cell_type": "markdown",
   "metadata": {},
   "source": [
    "### Scale features "
   ]
  },
  {
   "cell_type": "code",
   "execution_count": 26,
   "metadata": {
    "scrolled": true
   },
   "outputs": [
    {
     "name": "stdout",
     "output_type": "stream",
     "text": [
      "[[-0.01414355 -0.03192522 -0.09155168 ... -0.16401084 -0.09013093\n",
      "  -0.0327934 ]\n",
      " [-0.01414355 -0.03192522 -0.09155168 ... -0.16401084 -0.09013093\n",
      "  -0.0327934 ]\n",
      " [-0.01414355 -0.03192522 -0.09155168 ... -0.16401084 -0.09013093\n",
      "  -0.0327934 ]\n",
      " ...\n",
      " [-0.01414355 -0.03192522 -0.09155168 ... -0.16401084 -0.09013093\n",
      "  -0.0327934 ]\n",
      " [-0.01414355 -0.03192522 -0.09155168 ... -0.16401084 -0.09013093\n",
      "  -0.0327934 ]\n",
      " [-0.01414355 -0.03192522 -0.09155168 ...  2.42966992 -0.09013093\n",
      "  -0.0327934 ]]\n"
     ]
    },
    {
     "data": {
      "application/javascript": [
       "\n",
       "            setTimeout(function() {\n",
       "                var nbb_cell_id = 26;\n",
       "                var nbb_unformatted_code = \"x = df.iloc[:, 1:].to_numpy()\\ny = df.iloc[:, 0].to_numpy().flatten()\\n\\nss = StandardScaler().fit(x)\\nx = ss.transform(x)\\nprint(x)\";\n",
       "                var nbb_formatted_code = \"x = df.iloc[:, 1:].to_numpy()\\ny = df.iloc[:, 0].to_numpy().flatten()\\n\\nss = StandardScaler().fit(x)\\nx = ss.transform(x)\\nprint(x)\";\n",
       "                var nbb_cells = Jupyter.notebook.get_cells();\n",
       "                for (var i = 0; i < nbb_cells.length; ++i) {\n",
       "                    if (nbb_cells[i].input_prompt_number == nbb_cell_id) {\n",
       "                        if (nbb_cells[i].get_text() == nbb_unformatted_code) {\n",
       "                             nbb_cells[i].set_text(nbb_formatted_code);\n",
       "                        }\n",
       "                        break;\n",
       "                    }\n",
       "                }\n",
       "            }, 500);\n",
       "            "
      ],
      "text/plain": [
       "<IPython.core.display.Javascript object>"
      ]
     },
     "metadata": {},
     "output_type": "display_data"
    }
   ],
   "source": [
    "x = df.iloc[:, 1:].to_numpy()\n",
    "y = df.iloc[:, 0].to_numpy().flatten()\n",
    "\n",
    "ss = StandardScaler().fit(x)\n",
    "x = ss.transform(x)\n",
    "print(x)"
   ]
  },
  {
   "cell_type": "markdown",
   "metadata": {},
   "source": [
    "### Comparing models using the cross validation method"
   ]
  },
  {
   "cell_type": "code",
   "execution_count": 27,
   "metadata": {},
   "outputs": [
    {
     "data": {
      "application/javascript": [
       "\n",
       "            setTimeout(function() {\n",
       "                var nbb_cell_id = 27;\n",
       "                var nbb_unformatted_code = \"from sklearn.neural_network import MLPClassifier\\nfrom sklearn.tree import DecisionTreeClassifier\\nfrom sklearn.ensemble import RandomForestClassifier\\nfrom sklearn.ensemble import AdaBoostClassifier\\nfrom sklearn.ensemble import GradientBoostingClassifier\\n\\n\\nmodel_list[\\\"MLP\\\"] = MLPClassifier(\\n    random_state=random_seed_val, activation=\\\"logistic\\\", max_iter=10000\\n)\\n\\nmodel_list[\\\"DT\\\"] = dt_clf = DecisionTreeClassifier(\\n    criterion=\\\"entropy\\\", random_state=random_seed_val\\n)\\n\\nmodel_list[\\\"RF\\\"] = RandomForestClassifier(\\n    criterion=\\\"entropy\\\", random_state=random_seed_val\\n)\\n\\nmodel_list[\\\"AdaBoost\\\"] = AdaBoostClassifier(\\n    n_estimators=50, random_state=random_seed_val\\n)\\n\\nmodel_list[\\\"GBDT\\\"] = GradientBoostingClassifier(\\n    n_estimators=50, random_state=random_seed_val\\n)\";\n",
       "                var nbb_formatted_code = \"from sklearn.neural_network import MLPClassifier\\nfrom sklearn.tree import DecisionTreeClassifier\\nfrom sklearn.ensemble import RandomForestClassifier\\nfrom sklearn.ensemble import AdaBoostClassifier\\nfrom sklearn.ensemble import GradientBoostingClassifier\\n\\n\\nmodel_list[\\\"MLP\\\"] = MLPClassifier(\\n    random_state=random_seed_val, activation=\\\"logistic\\\", max_iter=10000\\n)\\n\\nmodel_list[\\\"DT\\\"] = dt_clf = DecisionTreeClassifier(\\n    criterion=\\\"entropy\\\", random_state=random_seed_val\\n)\\n\\nmodel_list[\\\"RF\\\"] = RandomForestClassifier(\\n    criterion=\\\"entropy\\\", random_state=random_seed_val\\n)\\n\\nmodel_list[\\\"AdaBoost\\\"] = AdaBoostClassifier(\\n    n_estimators=50, random_state=random_seed_val\\n)\\n\\nmodel_list[\\\"GBDT\\\"] = GradientBoostingClassifier(\\n    n_estimators=50, random_state=random_seed_val\\n)\";\n",
       "                var nbb_cells = Jupyter.notebook.get_cells();\n",
       "                for (var i = 0; i < nbb_cells.length; ++i) {\n",
       "                    if (nbb_cells[i].input_prompt_number == nbb_cell_id) {\n",
       "                        if (nbb_cells[i].get_text() == nbb_unformatted_code) {\n",
       "                             nbb_cells[i].set_text(nbb_formatted_code);\n",
       "                        }\n",
       "                        break;\n",
       "                    }\n",
       "                }\n",
       "            }, 500);\n",
       "            "
      ],
      "text/plain": [
       "<IPython.core.display.Javascript object>"
      ]
     },
     "metadata": {},
     "output_type": "display_data"
    }
   ],
   "source": [
    "from sklearn.neural_network import MLPClassifier\n",
    "from sklearn.tree import DecisionTreeClassifier\n",
    "from sklearn.ensemble import RandomForestClassifier\n",
    "from sklearn.ensemble import AdaBoostClassifier\n",
    "from sklearn.ensemble import GradientBoostingClassifier\n",
    "\n",
    "\n",
    "model_list[\"MLP\"] = MLPClassifier(\n",
    "    random_state=random_seed_val, activation=\"logistic\", max_iter=10000\n",
    ")\n",
    "\n",
    "model_list[\"DT\"] = dt_clf = DecisionTreeClassifier(\n",
    "    criterion=\"entropy\", random_state=random_seed_val\n",
    ")\n",
    "\n",
    "model_list[\"RF\"] = RandomForestClassifier(\n",
    "    criterion=\"entropy\", random_state=random_seed_val\n",
    ")\n",
    "\n",
    "model_list[\"AdaBoost\"] = AdaBoostClassifier(\n",
    "    n_estimators=50, random_state=random_seed_val\n",
    ")\n",
    "\n",
    "model_list[\"GBDT\"] = GradientBoostingClassifier(\n",
    "    n_estimators=50, random_state=random_seed_val\n",
    ")"
   ]
  },
  {
   "cell_type": "code",
   "execution_count": 28,
   "metadata": {},
   "outputs": [
    {
     "name": "stdout",
     "output_type": "stream",
     "text": [
      "Start running MLP\n",
      "Finish running: 53.07800000000134\n",
      " =====\n",
      "\n",
      "Start running DT\n",
      "Finish running: 8.078000000001339\n",
      " =====\n",
      "\n",
      "Start running RF\n",
      "Finish running: 22.389999999999418\n",
      " =====\n",
      "\n",
      "Start running AdaBoost\n",
      "Finish running: 29.875\n",
      " =====\n",
      "\n",
      "Start running GBDT\n",
      "Finish running: 671.4379999999946\n",
      " =====\n",
      "\n"
     ]
    },
    {
     "data": {
      "application/javascript": [
       "\n",
       "            setTimeout(function() {\n",
       "                var nbb_cell_id = 28;\n",
       "                var nbb_unformatted_code = \"import time\\n\\nk_fold = 5\\nresults_cv = {}\\nalgo_list = [\\\"MLP\\\", \\\"DT\\\", \\\"RF\\\", \\\"AdaBoost\\\", \\\"GBDT\\\"]\\n\\nfor algo in algo_list:\\n    a = time.monotonic()\\n    print(f\\\"Start running {algo}\\\")\\n    results_cv[algo] = np.mean(cross_val_score(model_list[algo], x, y, cv=k_fold))\\n    b = time.monotonic()\\n    print(f\\\"Finish running: {b-a}\\\\n =====\\\\n\\\")\";\n",
       "                var nbb_formatted_code = \"import time\\n\\nk_fold = 5\\nresults_cv = {}\\nalgo_list = [\\\"MLP\\\", \\\"DT\\\", \\\"RF\\\", \\\"AdaBoost\\\", \\\"GBDT\\\"]\\n\\nfor algo in algo_list:\\n    a = time.monotonic()\\n    print(f\\\"Start running {algo}\\\")\\n    results_cv[algo] = np.mean(cross_val_score(model_list[algo], x, y, cv=k_fold))\\n    b = time.monotonic()\\n    print(f\\\"Finish running: {b-a}\\\\n =====\\\\n\\\")\";\n",
       "                var nbb_cells = Jupyter.notebook.get_cells();\n",
       "                for (var i = 0; i < nbb_cells.length; ++i) {\n",
       "                    if (nbb_cells[i].input_prompt_number == nbb_cell_id) {\n",
       "                        if (nbb_cells[i].get_text() == nbb_unformatted_code) {\n",
       "                             nbb_cells[i].set_text(nbb_formatted_code);\n",
       "                        }\n",
       "                        break;\n",
       "                    }\n",
       "                }\n",
       "            }, 500);\n",
       "            "
      ],
      "text/plain": [
       "<IPython.core.display.Javascript object>"
      ]
     },
     "metadata": {},
     "output_type": "display_data"
    }
   ],
   "source": [
    "import time\n",
    "\n",
    "k_fold = 5\n",
    "results_cv = {}\n",
    "algo_list = [\"MLP\", \"DT\", \"RF\", \"AdaBoost\", \"GBDT\"]\n",
    "\n",
    "for algo in algo_list:\n",
    "    a = time.monotonic()\n",
    "    print(f\"Start running {algo}\")\n",
    "    results_cv[algo] = np.mean(cross_val_score(model_list[algo], x, y, cv=k_fold))\n",
    "    b = time.monotonic()\n",
    "    print(f\"Finish running: {b-a}\\n =====\\n\")"
   ]
  },
  {
   "cell_type": "code",
   "execution_count": 29,
   "metadata": {
    "scrolled": true
   },
   "outputs": [
    {
     "data": {
      "text/plain": [
       "{'MLP': 0.8542,\n",
       " 'DT': 0.7494,\n",
       " 'RF': 0.8474,\n",
       " 'AdaBoost': 0.44000000000000006,\n",
       " 'GBDT': 0.8294}"
      ]
     },
     "execution_count": 29,
     "metadata": {},
     "output_type": "execute_result"
    },
    {
     "data": {
      "application/javascript": [
       "\n",
       "            setTimeout(function() {\n",
       "                var nbb_cell_id = 29;\n",
       "                var nbb_unformatted_code = \"results_cv\";\n",
       "                var nbb_formatted_code = \"results_cv\";\n",
       "                var nbb_cells = Jupyter.notebook.get_cells();\n",
       "                for (var i = 0; i < nbb_cells.length; ++i) {\n",
       "                    if (nbb_cells[i].input_prompt_number == nbb_cell_id) {\n",
       "                        if (nbb_cells[i].get_text() == nbb_unformatted_code) {\n",
       "                             nbb_cells[i].set_text(nbb_formatted_code);\n",
       "                        }\n",
       "                        break;\n",
       "                    }\n",
       "                }\n",
       "            }, 500);\n",
       "            "
      ],
      "text/plain": [
       "<IPython.core.display.Javascript object>"
      ]
     },
     "metadata": {},
     "output_type": "display_data"
    }
   ],
   "source": [
    "results_cv"
   ]
  }
 ],
 "metadata": {
  "hide_input": false,
  "kernelspec": {
   "display_name": "Python 3",
   "language": "python",
   "name": "python3"
  },
  "language_info": {
   "codemirror_mode": {
    "name": "ipython",
    "version": 3
   },
   "file_extension": ".py",
   "mimetype": "text/x-python",
   "name": "python",
   "nbconvert_exporter": "python",
   "pygments_lexer": "ipython3",
   "version": "3.7.4"
  },
  "toc": {
   "base_numbering": 1,
   "nav_menu": {},
   "number_sections": true,
   "sideBar": true,
   "skip_h1_title": true,
   "title_cell": "Table of Contents",
   "title_sidebar": "Contents",
   "toc_cell": true,
   "toc_position": {
    "height": "897px",
    "left": "32px",
    "top": "110px",
    "width": "256.771px"
   },
   "toc_section_display": true,
   "toc_window_display": true
  },
  "toc-showcode": false,
  "toc-showmarkdowntxt": false,
  "toc-showtags": false,
  "varInspector": {
   "cols": {
    "lenName": 16,
    "lenType": 16,
    "lenVar": 40
   },
   "kernels_config": {
    "python": {
     "delete_cmd_postfix": "",
     "delete_cmd_prefix": "del ",
     "library": "var_list.py",
     "varRefreshCmd": "print(var_dic_list())"
    },
    "r": {
     "delete_cmd_postfix": ") ",
     "delete_cmd_prefix": "rm(",
     "library": "var_list.r",
     "varRefreshCmd": "cat(var_dic_list()) "
    }
   },
   "position": {
    "height": "564.219px",
    "left": "1266.23px",
    "right": "20px",
    "top": "120px",
    "width": "313.767px"
   },
   "types_to_exclude": [
    "module",
    "function",
    "builtin_function_or_method",
    "instance",
    "_Feature"
   ],
   "window_display": false
  }
 },
 "nbformat": 4,
 "nbformat_minor": 2
}
