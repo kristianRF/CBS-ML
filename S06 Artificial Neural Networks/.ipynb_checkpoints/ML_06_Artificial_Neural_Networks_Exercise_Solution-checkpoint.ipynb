{
 "cells": [
  {
   "cell_type": "markdown",
   "metadata": {
    "slideshow": {
     "slide_type": "slide"
    }
   },
   "source": [
    "\n",
    "# Session 06 Artificial Neural Networks | Exercise Solution\n",
    "\n",
    "\n",
    "[**CCMVI2085U Machine Learning for Predictive Analytics in Business @ CBS ISUP 2020**](https://kursuskatalog.cbs.dk/2019-2020/KAN-CCMVI2085U.aspx?lang=en-GB)\n",
    "\n",
    "Course coordinator: [Bowei Chen](https://boweichen.github.io/) | Email: [bc.acc@cbs.dk](mailto:bc.acc@cbs.dk)\n",
    "\n",
    "\n",
    "-----"
   ]
  },
  {
   "cell_type": "code",
   "execution_count": 1,
   "metadata": {},
   "outputs": [
    {
     "data": {
      "application/javascript": [
       "\n",
       "            setTimeout(function() {\n",
       "                var nbb_cell_id = 1;\n",
       "                var nbb_unformatted_code = \"%load_ext nb_black\";\n",
       "                var nbb_formatted_code = \"%load_ext nb_black\";\n",
       "                var nbb_cells = Jupyter.notebook.get_cells();\n",
       "                for (var i = 0; i < nbb_cells.length; ++i) {\n",
       "                    if (nbb_cells[i].input_prompt_number == nbb_cell_id) {\n",
       "                        if (nbb_cells[i].get_text() == nbb_unformatted_code) {\n",
       "                             nbb_cells[i].set_text(nbb_formatted_code);\n",
       "                        }\n",
       "                        break;\n",
       "                    }\n",
       "                }\n",
       "            }, 500);\n",
       "            "
      ],
      "text/plain": [
       "<IPython.core.display.Javascript object>"
      ]
     },
     "metadata": {},
     "output_type": "display_data"
    }
   ],
   "source": [
    "%load_ext nb_black"
   ]
  },
  {
   "cell_type": "markdown",
   "metadata": {},
   "source": [
    "## Task 1: consumer segmentation"
   ]
  },
  {
   "cell_type": "markdown",
   "metadata": {},
   "source": [
    "- Download `Holiday_Rental_Consumer_Segmentation.csv` dataset from the CBS OneDrive shared folder\n",
    "- Prepare data with binary encoding and feature scaling \n",
    "- Implement the MLP using sklearn for classification"
   ]
  },
  {
   "cell_type": "code",
   "execution_count": 30,
   "metadata": {},
   "outputs": [
    {
     "name": "stdout",
     "output_type": "stream",
     "text": [
      "<class 'pandas.core.frame.DataFrame'>\n",
      "RangeIndex: 191 entries, 0 to 190\n",
      "Data columns (total 10 columns):\n",
      "Price          191 non-null float64\n",
      "Size           191 non-null float64\n",
      "Bedroom        191 non-null int64\n",
      "Bathroom       191 non-null int64\n",
      "Floor          191 non-null int64\n",
      "Car_Parking    191 non-null object\n",
      "Internet       191 non-null object\n",
      "Location       191 non-null object\n",
      "Pet            191 non-null object\n",
      "Event          191 non-null object\n",
      "dtypes: float64(2), int64(3), object(5)\n",
      "memory usage: 15.0+ KB\n"
     ]
    },
    {
     "data": {
      "application/javascript": [
       "\n",
       "            setTimeout(function() {\n",
       "                var nbb_cell_id = 30;\n",
       "                var nbb_unformatted_code = \"import pandas as pd\\n\\ndf = pd.read_csv(\\\"data/Holiday_Rental_Consumer_Segmentation.csv\\\", header=0)\\ndf.info()\";\n",
       "                var nbb_formatted_code = \"import pandas as pd\\n\\ndf = pd.read_csv(\\\"data/Holiday_Rental_Consumer_Segmentation.csv\\\", header=0)\\ndf.info()\";\n",
       "                var nbb_cells = Jupyter.notebook.get_cells();\n",
       "                for (var i = 0; i < nbb_cells.length; ++i) {\n",
       "                    if (nbb_cells[i].input_prompt_number == nbb_cell_id) {\n",
       "                        if (nbb_cells[i].get_text() == nbb_unformatted_code) {\n",
       "                             nbb_cells[i].set_text(nbb_formatted_code);\n",
       "                        }\n",
       "                        break;\n",
       "                    }\n",
       "                }\n",
       "            }, 500);\n",
       "            "
      ],
      "text/plain": [
       "<IPython.core.display.Javascript object>"
      ]
     },
     "metadata": {},
     "output_type": "display_data"
    }
   ],
   "source": [
    "import pandas as pd\n",
    "\n",
    "df = pd.read_csv(\"data/Holiday_Rental_Consumer_Segmentation.csv\", header=0)\n",
    "df.info()"
   ]
  },
  {
   "cell_type": "code",
   "execution_count": 31,
   "metadata": {},
   "outputs": [
    {
     "name": "stdout",
     "output_type": "stream",
     "text": [
      "======\n",
      " Variable :Price \n",
      " Data type: float64 \n",
      " Unique values: [ 420.   660.   838.   900.   450.   485.   659.   440.   617.   545.\n",
      "  665.   700.   570.   680.   950.   560.   600.   670.   510.   325.\n",
      "  350.   470.   550.   639.   555.   780.   580.  1630.  1235.   599.\n",
      "  790.  1250.   730.   635.   750.   945.  1065.  1160.  1170.   400.\n",
      "  572.5  610.   800.   370.   620.  1300.   529.   480.   525.   500.\n",
      "  699.   447.   575.   520.   539.   695.   720.   925.  1383.   785.\n",
      "  708.   260.   645.   710.   462.   630.   649.   745.   650.   769.\n",
      "  990.  1240.  1060.  1550.  1410.   595.   685.   860.  1750.  1200.\n",
      "  820.   850.  1220.   840.   970.  1125.  1400.   747.   789.   869.\n",
      "  770.   807.5  829.   760.   775.   870.   875.   890.  1000.   917.\n",
      " 1745.   611.   585.5 1049.   749.   795.  1209.   476.   490.   605.\n",
      "  930.   885.   880.   895.   955.   590.   715.   719.   589. ] \n",
      "\n",
      "======\n",
      " Variable :Size \n",
      " Data type: float64 \n",
      " Unique values: [292.5  208.   194.   240.   360.   199.3  239.25 225.5  248.   175.\n",
      " 201.6  157.5  187.25 226.   108.   205.   458.3  202.   363.   275.\n",
      " 252.   300.   204.75  91.8  160.5   82.5  159.   318.   189.   154.5\n",
      " 303.   295.   371.   402.5  412.5  225.   165.   216.   150.   187.5\n",
      " 213.   200.   215.   342.   206.   298.   228.   132.5  108.75 180.\n",
      " 147.65  95.25 156.   203.75 155.   181.5  151.8  171.   274.75 173.\n",
      " 178.5  126.   217.5  177.   198.   140.85 140.   190.8  159.25 316.05\n",
      " 235.   238.5  198.5  172.5  176.   220.5  182.   245.   127.5  483.35\n",
      " 290.   249.75 322.5  444.   357.75 372.   375.   405.   202.3  350.\n",
      " 340.   330.   498.   535.   660.   397.5  305.   321.   327.   358.\n",
      " 327.5  354.25 345.   351.   400.   481.   525.   335.5  333.   361.55\n",
      " 370.5  390.   341.25 450.   142.5  320.   558.75 337.5  256.8  170.\n",
      " 143.5  266.   420.   202.5  572.   302.5  190.   270.   107.25 130.5\n",
      "  97.5  100.75 139.35 249.5  333.5  312.7  272.5  285.   299.25 407.5\n",
      " 232.3  250.5  384.3 ] \n",
      "\n",
      "======\n",
      " Variable :Bedroom \n",
      " Data type: int64 \n",
      " Unique values: [3 2 4 5] \n",
      "\n",
      "======\n",
      " Variable :Bathroom \n",
      " Data type: int64 \n",
      " Unique values: [1 2 3] \n",
      "\n",
      "======\n",
      " Variable :Floor \n",
      " Data type: int64 \n",
      " Unique values: [2 1 3 4] \n",
      "\n",
      "======\n",
      " Variable :Car_Parking \n",
      " Data type: object \n",
      " Unique values: ['Yes' 'No'] \n",
      "\n",
      "======\n",
      " Variable :Internet \n",
      " Data type: object \n",
      " Unique values: ['No' 'Yes'] \n",
      "\n",
      "======\n",
      " Variable :Location \n",
      " Data type: object \n",
      " Unique values: ['Area_2' 'Area_1' 'Area_3' 'Area_4'] \n",
      "\n",
      "======\n",
      " Variable :Pet \n",
      " Data type: object \n",
      " Unique values: ['No' 'Yes'] \n",
      "\n",
      "======\n",
      " Variable :Event \n",
      " Data type: object \n",
      " Unique values: ['Spa' 'Outdoor activities' 'Shows'] \n",
      "\n"
     ]
    },
    {
     "data": {
      "application/javascript": [
       "\n",
       "            setTimeout(function() {\n",
       "                var nbb_cell_id = 31;\n",
       "                var nbb_unformatted_code = \"for col, col_dtype in zip(df.columns, df.dtypes):\\n    print(\\n        f\\\"======\\\\n Variable :{col} \\\\n Data type: {col_dtype} \\\\n Unique values: {df[col].unique()} \\\\n\\\"\\n    )\";\n",
       "                var nbb_formatted_code = \"for col, col_dtype in zip(df.columns, df.dtypes):\\n    print(\\n        f\\\"======\\\\n Variable :{col} \\\\n Data type: {col_dtype} \\\\n Unique values: {df[col].unique()} \\\\n\\\"\\n    )\";\n",
       "                var nbb_cells = Jupyter.notebook.get_cells();\n",
       "                for (var i = 0; i < nbb_cells.length; ++i) {\n",
       "                    if (nbb_cells[i].input_prompt_number == nbb_cell_id) {\n",
       "                        if (nbb_cells[i].get_text() == nbb_unformatted_code) {\n",
       "                             nbb_cells[i].set_text(nbb_formatted_code);\n",
       "                        }\n",
       "                        break;\n",
       "                    }\n",
       "                }\n",
       "            }, 500);\n",
       "            "
      ],
      "text/plain": [
       "<IPython.core.display.Javascript object>"
      ]
     },
     "metadata": {},
     "output_type": "display_data"
    }
   ],
   "source": [
    "for col, col_dtype in zip(df.columns, df.dtypes):\n",
    "    print(\n",
    "        f\"======\\n Variable :{col} \\n Data type: {col_dtype} \\n Unique values: {df[col].unique()} \\n\"\n",
    "    )"
   ]
  },
  {
   "cell_type": "code",
   "execution_count": 32,
   "metadata": {},
   "outputs": [
    {
     "data": {
      "text/plain": [
       "array([[420. , 292.5,   3. , ...,   0. ,   0. ,   0. ],\n",
       "       [660. , 208. ,   3. , ...,   0. ,   0. ,   0. ],\n",
       "       [660. , 194. ,   3. , ...,   1. ,   0. ,   0. ],\n",
       "       ...,\n",
       "       [660. , 250.5,   3. , ...,   0. ,   0. ,   0. ],\n",
       "       [589. , 303. ,   2. , ...,   0. ,   0. ,   0. ],\n",
       "       [710. , 384.3,   3. , ...,   0. ,   0. ,   0. ]])"
      ]
     },
     "execution_count": 32,
     "metadata": {},
     "output_type": "execute_result"
    },
    {
     "data": {
      "application/javascript": [
       "\n",
       "            setTimeout(function() {\n",
       "                var nbb_cell_id = 32;\n",
       "                var nbb_unformatted_code = \"x = pd.get_dummies(df.iloc[:, :-1], drop_first=True).to_numpy()\\nx\";\n",
       "                var nbb_formatted_code = \"x = pd.get_dummies(df.iloc[:, :-1], drop_first=True).to_numpy()\\nx\";\n",
       "                var nbb_cells = Jupyter.notebook.get_cells();\n",
       "                for (var i = 0; i < nbb_cells.length; ++i) {\n",
       "                    if (nbb_cells[i].input_prompt_number == nbb_cell_id) {\n",
       "                        if (nbb_cells[i].get_text() == nbb_unformatted_code) {\n",
       "                             nbb_cells[i].set_text(nbb_formatted_code);\n",
       "                        }\n",
       "                        break;\n",
       "                    }\n",
       "                }\n",
       "            }, 500);\n",
       "            "
      ],
      "text/plain": [
       "<IPython.core.display.Javascript object>"
      ]
     },
     "metadata": {},
     "output_type": "display_data"
    }
   ],
   "source": [
    "x = pd.get_dummies(df.iloc[:, :-1], drop_first=True).to_numpy()\n",
    "x"
   ]
  },
  {
   "cell_type": "code",
   "execution_count": 33,
   "metadata": {},
   "outputs": [
    {
     "data": {
      "text/plain": [
       "array([2, 2, 2, 2, 2, 0, 2, 2, 0, 0, 2, 0, 2, 1, 2, 2, 2, 1, 0, 2, 2, 2,\n",
       "       1, 2, 0, 2, 2, 2, 0, 2, 2, 2, 2, 0, 0, 2, 1, 2, 2, 2, 1, 1, 1, 2,\n",
       "       1, 1, 1, 1, 2, 1, 1, 2, 2, 2, 2, 1, 2, 2, 2, 1, 2, 2, 2, 0, 2, 1,\n",
       "       0, 0, 2, 2, 2, 2, 2, 2, 1, 1, 1, 1, 0, 0, 2, 1, 0, 2, 2, 2, 0, 0,\n",
       "       2, 1, 2, 2, 2, 2, 2, 2, 2, 2, 2, 2, 1, 2, 2, 1, 2, 2, 1, 1, 1, 2,\n",
       "       1, 2, 1, 1, 1, 2, 1, 2, 2, 2, 1, 2, 1, 1, 1, 2, 1, 2, 2, 2, 2, 2,\n",
       "       2, 2, 1, 1, 1, 2, 1, 2, 2, 2, 2, 2, 2, 1, 2, 2, 2, 2, 2, 2, 1, 1,\n",
       "       2, 2, 0, 2, 1, 2, 1, 1, 2, 2, 1, 1, 1, 2, 2, 2, 2, 2, 0, 2, 2, 1,\n",
       "       2, 2, 2, 1, 2, 1, 2, 2, 1, 2, 2, 1, 2, 0, 2])"
      ]
     },
     "execution_count": 33,
     "metadata": {},
     "output_type": "execute_result"
    },
    {
     "data": {
      "application/javascript": [
       "\n",
       "            setTimeout(function() {\n",
       "                var nbb_cell_id = 33;\n",
       "                var nbb_unformatted_code = \"from sklearn.preprocessing import LabelEncoder\\n\\nle = LabelEncoder().fit(df[\\\"Event\\\"])\\nle.classes_\\ny = le.transform(df[\\\"Event\\\"])\\ny\";\n",
       "                var nbb_formatted_code = \"from sklearn.preprocessing import LabelEncoder\\n\\nle = LabelEncoder().fit(df[\\\"Event\\\"])\\nle.classes_\\ny = le.transform(df[\\\"Event\\\"])\\ny\";\n",
       "                var nbb_cells = Jupyter.notebook.get_cells();\n",
       "                for (var i = 0; i < nbb_cells.length; ++i) {\n",
       "                    if (nbb_cells[i].input_prompt_number == nbb_cell_id) {\n",
       "                        if (nbb_cells[i].get_text() == nbb_unformatted_code) {\n",
       "                             nbb_cells[i].set_text(nbb_formatted_code);\n",
       "                        }\n",
       "                        break;\n",
       "                    }\n",
       "                }\n",
       "            }, 500);\n",
       "            "
      ],
      "text/plain": [
       "<IPython.core.display.Javascript object>"
      ]
     },
     "metadata": {},
     "output_type": "display_data"
    }
   ],
   "source": [
    "from sklearn.preprocessing import LabelEncoder\n",
    "\n",
    "le = LabelEncoder().fit(df[\"Event\"])\n",
    "le.classes_\n",
    "y = le.transform(df[\"Event\"])\n",
    "y"
   ]
  },
  {
   "cell_type": "code",
   "execution_count": 34,
   "metadata": {},
   "outputs": [
    {
     "data": {
      "application/javascript": [
       "\n",
       "            setTimeout(function() {\n",
       "                var nbb_cell_id = 34;\n",
       "                var nbb_unformatted_code = \"from sklearn.preprocessing import StandardScaler\\n\\nss = StandardScaler().fit(x[:, :5])\\nx[:, :5] = ss.transform(x[:, :5])\";\n",
       "                var nbb_formatted_code = \"from sklearn.preprocessing import StandardScaler\\n\\nss = StandardScaler().fit(x[:, :5])\\nx[:, :5] = ss.transform(x[:, :5])\";\n",
       "                var nbb_cells = Jupyter.notebook.get_cells();\n",
       "                for (var i = 0; i < nbb_cells.length; ++i) {\n",
       "                    if (nbb_cells[i].input_prompt_number == nbb_cell_id) {\n",
       "                        if (nbb_cells[i].get_text() == nbb_unformatted_code) {\n",
       "                             nbb_cells[i].set_text(nbb_formatted_code);\n",
       "                        }\n",
       "                        break;\n",
       "                    }\n",
       "                }\n",
       "            }, 500);\n",
       "            "
      ],
      "text/plain": [
       "<IPython.core.display.Javascript object>"
      ]
     },
     "metadata": {},
     "output_type": "display_data"
    }
   ],
   "source": [
    "from sklearn.preprocessing import StandardScaler\n",
    "\n",
    "ss = StandardScaler().fit(x[:, :5])\n",
    "x[:, :5] = ss.transform(x[:, :5])"
   ]
  },
  {
   "cell_type": "code",
   "execution_count": 35,
   "metadata": {},
   "outputs": [
    {
     "data": {
      "application/javascript": [
       "\n",
       "            setTimeout(function() {\n",
       "                var nbb_cell_id = 35;\n",
       "                var nbb_unformatted_code = \"from sklearn.model_selection import train_test_split\\n\\nx_train, x_test, y_train, y_test = train_test_split(\\n    x, y, test_size=0.4, random_state=100, stratify=y\\n)\";\n",
       "                var nbb_formatted_code = \"from sklearn.model_selection import train_test_split\\n\\nx_train, x_test, y_train, y_test = train_test_split(\\n    x, y, test_size=0.4, random_state=100, stratify=y\\n)\";\n",
       "                var nbb_cells = Jupyter.notebook.get_cells();\n",
       "                for (var i = 0; i < nbb_cells.length; ++i) {\n",
       "                    if (nbb_cells[i].input_prompt_number == nbb_cell_id) {\n",
       "                        if (nbb_cells[i].get_text() == nbb_unformatted_code) {\n",
       "                             nbb_cells[i].set_text(nbb_formatted_code);\n",
       "                        }\n",
       "                        break;\n",
       "                    }\n",
       "                }\n",
       "            }, 500);\n",
       "            "
      ],
      "text/plain": [
       "<IPython.core.display.Javascript object>"
      ]
     },
     "metadata": {},
     "output_type": "display_data"
    }
   ],
   "source": [
    "from sklearn.model_selection import train_test_split\n",
    "\n",
    "x_train, x_test, y_train, y_test = train_test_split(\n",
    "    x, y, test_size=0.4, random_state=100, stratify=y\n",
    ")"
   ]
  },
  {
   "cell_type": "code",
   "execution_count": 36,
   "metadata": {},
   "outputs": [
    {
     "data": {
      "text/plain": [
       "GridSearchCV(cv=3, estimator=MLPClassifier(max_iter=10000), n_jobs=-1,\n",
       "             param_grid={'activation': ['tanh', 'relu'],\n",
       "                         'alpha': [0.0001, 0.05],\n",
       "                         'hidden_layer_sizes': [(50, 50, 50), (50, 100, 50),\n",
       "                                                (100,)],\n",
       "                         'learning_rate': ['constant', 'adaptive'],\n",
       "                         'solver': ['sgd', 'adam']})"
      ]
     },
     "execution_count": 36,
     "metadata": {},
     "output_type": "execute_result"
    },
    {
     "data": {
      "application/javascript": [
       "\n",
       "            setTimeout(function() {\n",
       "                var nbb_cell_id = 36;\n",
       "                var nbb_unformatted_code = \"from sklearn.neural_network import MLPClassifier\\n\\nmlp_clf = MLPClassifier(max_iter=10000)\\n\\nparameter_space = {\\n    \\\"hidden_layer_sizes\\\": [(50, 50, 50), (50, 100, 50), (100,)],\\n    \\\"activation\\\": [\\\"tanh\\\", \\\"relu\\\"],\\n    \\\"solver\\\": [\\\"sgd\\\", \\\"adam\\\"],\\n    \\\"alpha\\\": [0.0001, 0.05],\\n    \\\"learning_rate\\\": [\\\"constant\\\", \\\"adaptive\\\"],\\n}\\n\\nfrom sklearn.model_selection import GridSearchCV\\n\\nclf = GridSearchCV(mlp_clf, parameter_space, n_jobs=-1, cv=3)\\nclf.fit(x_train, y_train)\";\n",
       "                var nbb_formatted_code = \"from sklearn.neural_network import MLPClassifier\\n\\nmlp_clf = MLPClassifier(max_iter=10000)\\n\\nparameter_space = {\\n    \\\"hidden_layer_sizes\\\": [(50, 50, 50), (50, 100, 50), (100,)],\\n    \\\"activation\\\": [\\\"tanh\\\", \\\"relu\\\"],\\n    \\\"solver\\\": [\\\"sgd\\\", \\\"adam\\\"],\\n    \\\"alpha\\\": [0.0001, 0.05],\\n    \\\"learning_rate\\\": [\\\"constant\\\", \\\"adaptive\\\"],\\n}\\n\\nfrom sklearn.model_selection import GridSearchCV\\n\\nclf = GridSearchCV(mlp_clf, parameter_space, n_jobs=-1, cv=3)\\nclf.fit(x_train, y_train)\";\n",
       "                var nbb_cells = Jupyter.notebook.get_cells();\n",
       "                for (var i = 0; i < nbb_cells.length; ++i) {\n",
       "                    if (nbb_cells[i].input_prompt_number == nbb_cell_id) {\n",
       "                        if (nbb_cells[i].get_text() == nbb_unformatted_code) {\n",
       "                             nbb_cells[i].set_text(nbb_formatted_code);\n",
       "                        }\n",
       "                        break;\n",
       "                    }\n",
       "                }\n",
       "            }, 500);\n",
       "            "
      ],
      "text/plain": [
       "<IPython.core.display.Javascript object>"
      ]
     },
     "metadata": {},
     "output_type": "display_data"
    }
   ],
   "source": [
    "from sklearn.neural_network import MLPClassifier\n",
    "\n",
    "mlp_clf = MLPClassifier(max_iter=10000)\n",
    "\n",
    "parameter_space = {\n",
    "    \"hidden_layer_sizes\": [(50, 50, 50), (50, 100, 50), (100,)],\n",
    "    \"activation\": [\"tanh\", \"relu\"],\n",
    "    \"solver\": [\"sgd\", \"adam\"],\n",
    "    \"alpha\": [0.0001, 0.05],\n",
    "    \"learning_rate\": [\"constant\", \"adaptive\"],\n",
    "}\n",
    "\n",
    "from sklearn.model_selection import GridSearchCV\n",
    "\n",
    "clf = GridSearchCV(mlp_clf, parameter_space, n_jobs=-1, cv=3)\n",
    "clf.fit(x_train, y_train)"
   ]
  },
  {
   "cell_type": "code",
   "execution_count": 9,
   "metadata": {},
   "outputs": [
    {
     "name": "stdout",
     "output_type": "stream",
     "text": [
      "Best parameters found:\n",
      " {'activation': 'tanh', 'alpha': 0.05, 'hidden_layer_sizes': (50, 100, 50), 'learning_rate': 'adaptive', 'solver': 'sgd'}\n",
      "0.842 (+/-0.074) for {'activation': 'tanh', 'alpha': 0.0001, 'hidden_layer_sizes': (50, 50, 50), 'learning_rate': 'constant', 'solver': 'sgd'}\n",
      "0.833 (+/-0.050) for {'activation': 'tanh', 'alpha': 0.0001, 'hidden_layer_sizes': (50, 50, 50), 'learning_rate': 'constant', 'solver': 'adam'}\n",
      "0.842 (+/-0.129) for {'activation': 'tanh', 'alpha': 0.0001, 'hidden_layer_sizes': (50, 50, 50), 'learning_rate': 'adaptive', 'solver': 'sgd'}\n",
      "0.833 (+/-0.066) for {'activation': 'tanh', 'alpha': 0.0001, 'hidden_layer_sizes': (50, 50, 50), 'learning_rate': 'adaptive', 'solver': 'adam'}\n",
      "0.860 (+/-0.138) for {'activation': 'tanh', 'alpha': 0.0001, 'hidden_layer_sizes': (50, 100, 50), 'learning_rate': 'constant', 'solver': 'sgd'}\n",
      "0.825 (+/-0.050) for {'activation': 'tanh', 'alpha': 0.0001, 'hidden_layer_sizes': (50, 100, 50), 'learning_rate': 'constant', 'solver': 'adam'}\n",
      "0.860 (+/-0.138) for {'activation': 'tanh', 'alpha': 0.0001, 'hidden_layer_sizes': (50, 100, 50), 'learning_rate': 'adaptive', 'solver': 'sgd'}\n",
      "0.816 (+/-0.074) for {'activation': 'tanh', 'alpha': 0.0001, 'hidden_layer_sizes': (50, 100, 50), 'learning_rate': 'adaptive', 'solver': 'adam'}\n",
      "0.825 (+/-0.089) for {'activation': 'tanh', 'alpha': 0.0001, 'hidden_layer_sizes': (100,), 'learning_rate': 'constant', 'solver': 'sgd'}\n",
      "0.798 (+/-0.163) for {'activation': 'tanh', 'alpha': 0.0001, 'hidden_layer_sizes': (100,), 'learning_rate': 'constant', 'solver': 'adam'}\n",
      "0.833 (+/-0.138) for {'activation': 'tanh', 'alpha': 0.0001, 'hidden_layer_sizes': (100,), 'learning_rate': 'adaptive', 'solver': 'sgd'}\n",
      "0.789 (+/-0.187) for {'activation': 'tanh', 'alpha': 0.0001, 'hidden_layer_sizes': (100,), 'learning_rate': 'adaptive', 'solver': 'adam'}\n",
      "0.851 (+/-0.174) for {'activation': 'tanh', 'alpha': 0.05, 'hidden_layer_sizes': (50, 50, 50), 'learning_rate': 'constant', 'solver': 'sgd'}\n",
      "0.825 (+/-0.050) for {'activation': 'tanh', 'alpha': 0.05, 'hidden_layer_sizes': (50, 50, 50), 'learning_rate': 'constant', 'solver': 'adam'}\n",
      "0.860 (+/-0.138) for {'activation': 'tanh', 'alpha': 0.05, 'hidden_layer_sizes': (50, 50, 50), 'learning_rate': 'adaptive', 'solver': 'sgd'}\n",
      "0.833 (+/-0.066) for {'activation': 'tanh', 'alpha': 0.05, 'hidden_layer_sizes': (50, 50, 50), 'learning_rate': 'adaptive', 'solver': 'adam'}\n",
      "0.833 (+/-0.138) for {'activation': 'tanh', 'alpha': 0.05, 'hidden_layer_sizes': (50, 100, 50), 'learning_rate': 'constant', 'solver': 'sgd'}\n",
      "0.825 (+/-0.025) for {'activation': 'tanh', 'alpha': 0.05, 'hidden_layer_sizes': (50, 100, 50), 'learning_rate': 'constant', 'solver': 'adam'}\n",
      "0.868 (+/-0.197) for {'activation': 'tanh', 'alpha': 0.05, 'hidden_layer_sizes': (50, 100, 50), 'learning_rate': 'adaptive', 'solver': 'sgd'}\n",
      "0.833 (+/-0.066) for {'activation': 'tanh', 'alpha': 0.05, 'hidden_layer_sizes': (50, 100, 50), 'learning_rate': 'adaptive', 'solver': 'adam'}\n",
      "0.842 (+/-0.114) for {'activation': 'tanh', 'alpha': 0.05, 'hidden_layer_sizes': (100,), 'learning_rate': 'constant', 'solver': 'sgd'}\n",
      "0.807 (+/-0.108) for {'activation': 'tanh', 'alpha': 0.05, 'hidden_layer_sizes': (100,), 'learning_rate': 'constant', 'solver': 'adam'}\n",
      "0.860 (+/-0.108) for {'activation': 'tanh', 'alpha': 0.05, 'hidden_layer_sizes': (100,), 'learning_rate': 'adaptive', 'solver': 'sgd'}\n",
      "0.807 (+/-0.108) for {'activation': 'tanh', 'alpha': 0.05, 'hidden_layer_sizes': (100,), 'learning_rate': 'adaptive', 'solver': 'adam'}\n",
      "0.868 (+/-0.155) for {'activation': 'relu', 'alpha': 0.0001, 'hidden_layer_sizes': (50, 50, 50), 'learning_rate': 'constant', 'solver': 'sgd'}\n",
      "0.798 (+/-0.108) for {'activation': 'relu', 'alpha': 0.0001, 'hidden_layer_sizes': (50, 50, 50), 'learning_rate': 'constant', 'solver': 'adam'}\n",
      "0.842 (+/-0.149) for {'activation': 'relu', 'alpha': 0.0001, 'hidden_layer_sizes': (50, 50, 50), 'learning_rate': 'adaptive', 'solver': 'sgd'}\n",
      "0.833 (+/-0.066) for {'activation': 'relu', 'alpha': 0.0001, 'hidden_layer_sizes': (50, 50, 50), 'learning_rate': 'adaptive', 'solver': 'adam'}\n",
      "0.842 (+/-0.114) for {'activation': 'relu', 'alpha': 0.0001, 'hidden_layer_sizes': (50, 100, 50), 'learning_rate': 'constant', 'solver': 'sgd'}\n",
      "0.816 (+/-0.074) for {'activation': 'relu', 'alpha': 0.0001, 'hidden_layer_sizes': (50, 100, 50), 'learning_rate': 'constant', 'solver': 'adam'}\n",
      "0.860 (+/-0.151) for {'activation': 'relu', 'alpha': 0.0001, 'hidden_layer_sizes': (50, 100, 50), 'learning_rate': 'adaptive', 'solver': 'sgd'}\n",
      "0.816 (+/-0.043) for {'activation': 'relu', 'alpha': 0.0001, 'hidden_layer_sizes': (50, 100, 50), 'learning_rate': 'adaptive', 'solver': 'adam'}\n",
      "0.860 (+/-0.108) for {'activation': 'relu', 'alpha': 0.0001, 'hidden_layer_sizes': (100,), 'learning_rate': 'constant', 'solver': 'sgd'}\n",
      "0.816 (+/-0.086) for {'activation': 'relu', 'alpha': 0.0001, 'hidden_layer_sizes': (100,), 'learning_rate': 'constant', 'solver': 'adam'}\n",
      "0.842 (+/-0.114) for {'activation': 'relu', 'alpha': 0.0001, 'hidden_layer_sizes': (100,), 'learning_rate': 'adaptive', 'solver': 'sgd'}\n",
      "0.825 (+/-0.108) for {'activation': 'relu', 'alpha': 0.0001, 'hidden_layer_sizes': (100,), 'learning_rate': 'adaptive', 'solver': 'adam'}\n",
      "0.833 (+/-0.050) for {'activation': 'relu', 'alpha': 0.05, 'hidden_layer_sizes': (50, 50, 50), 'learning_rate': 'constant', 'solver': 'sgd'}\n",
      "0.833 (+/-0.066) for {'activation': 'relu', 'alpha': 0.05, 'hidden_layer_sizes': (50, 50, 50), 'learning_rate': 'constant', 'solver': 'adam'}\n",
      "0.851 (+/-0.124) for {'activation': 'relu', 'alpha': 0.05, 'hidden_layer_sizes': (50, 50, 50), 'learning_rate': 'adaptive', 'solver': 'sgd'}\n",
      "0.816 (+/-0.114) for {'activation': 'relu', 'alpha': 0.05, 'hidden_layer_sizes': (50, 50, 50), 'learning_rate': 'adaptive', 'solver': 'adam'}\n",
      "0.851 (+/-0.089) for {'activation': 'relu', 'alpha': 0.05, 'hidden_layer_sizes': (50, 100, 50), 'learning_rate': 'constant', 'solver': 'sgd'}\n",
      "0.842 (+/-0.114) for {'activation': 'relu', 'alpha': 0.05, 'hidden_layer_sizes': (50, 100, 50), 'learning_rate': 'constant', 'solver': 'adam'}\n",
      "0.851 (+/-0.124) for {'activation': 'relu', 'alpha': 0.05, 'hidden_layer_sizes': (50, 100, 50), 'learning_rate': 'adaptive', 'solver': 'sgd'}\n",
      "0.798 (+/-0.131) for {'activation': 'relu', 'alpha': 0.05, 'hidden_layer_sizes': (50, 100, 50), 'learning_rate': 'adaptive', 'solver': 'adam'}\n",
      "0.851 (+/-0.089) for {'activation': 'relu', 'alpha': 0.05, 'hidden_layer_sizes': (100,), 'learning_rate': 'constant', 'solver': 'sgd'}\n",
      "0.825 (+/-0.089) for {'activation': 'relu', 'alpha': 0.05, 'hidden_layer_sizes': (100,), 'learning_rate': 'constant', 'solver': 'adam'}\n",
      "0.842 (+/-0.114) for {'activation': 'relu', 'alpha': 0.05, 'hidden_layer_sizes': (100,), 'learning_rate': 'adaptive', 'solver': 'sgd'}\n",
      "0.833 (+/-0.099) for {'activation': 'relu', 'alpha': 0.05, 'hidden_layer_sizes': (100,), 'learning_rate': 'adaptive', 'solver': 'adam'}\n"
     ]
    },
    {
     "data": {
      "application/javascript": [
       "\n",
       "            setTimeout(function() {\n",
       "                var nbb_cell_id = 9;\n",
       "                var nbb_unformatted_code = \"# Best paramete set\\nprint(\\\"Best parameters found:\\\\n\\\", clf.best_params_)\\n\\n# All results\\nmeans = clf.cv_results_[\\\"mean_test_score\\\"]\\nstds = clf.cv_results_[\\\"std_test_score\\\"]\\nfor mean, std, params in zip(means, stds, clf.cv_results_[\\\"params\\\"]):\\n    print(\\\"%0.3f (+/-%0.03f) for %r\\\" % (mean, std * 2, params))\";\n",
       "                var nbb_formatted_code = \"# Best paramete set\\nprint(\\\"Best parameters found:\\\\n\\\", clf.best_params_)\\n\\n# All results\\nmeans = clf.cv_results_[\\\"mean_test_score\\\"]\\nstds = clf.cv_results_[\\\"std_test_score\\\"]\\nfor mean, std, params in zip(means, stds, clf.cv_results_[\\\"params\\\"]):\\n    print(\\\"%0.3f (+/-%0.03f) for %r\\\" % (mean, std * 2, params))\";\n",
       "                var nbb_cells = Jupyter.notebook.get_cells();\n",
       "                for (var i = 0; i < nbb_cells.length; ++i) {\n",
       "                    if (nbb_cells[i].input_prompt_number == nbb_cell_id) {\n",
       "                        if (nbb_cells[i].get_text() == nbb_unformatted_code) {\n",
       "                             nbb_cells[i].set_text(nbb_formatted_code);\n",
       "                        }\n",
       "                        break;\n",
       "                    }\n",
       "                }\n",
       "            }, 500);\n",
       "            "
      ],
      "text/plain": [
       "<IPython.core.display.Javascript object>"
      ]
     },
     "metadata": {},
     "output_type": "display_data"
    }
   ],
   "source": [
    "# Best paramete set\n",
    "print(\"Best parameters found:\\n\", clf.best_params_)\n",
    "\n",
    "# All results\n",
    "means = clf.cv_results_[\"mean_test_score\"]\n",
    "stds = clf.cv_results_[\"std_test_score\"]\n",
    "for mean, std, params in zip(means, stds, clf.cv_results_[\"params\"]):\n",
    "    print(\"%0.3f (+/-%0.03f) for %r\" % (mean, std * 2, params))"
   ]
  },
  {
   "cell_type": "code",
   "execution_count": 37,
   "metadata": {},
   "outputs": [
    {
     "name": "stdout",
     "output_type": "stream",
     "text": [
      "Results on the test set:\n",
      "              precision    recall  f1-score   support\n",
      "\n",
      "           0       0.71      0.62      0.67         8\n",
      "           1       0.84      0.73      0.78        22\n",
      "           2       0.82      0.89      0.86        47\n",
      "\n",
      "    accuracy                           0.82        77\n",
      "   macro avg       0.79      0.75      0.77        77\n",
      "weighted avg       0.82      0.82      0.82        77\n",
      "\n"
     ]
    },
    {
     "data": {
      "application/javascript": [
       "\n",
       "            setTimeout(function() {\n",
       "                var nbb_cell_id = 37;\n",
       "                var nbb_unformatted_code = \"y_true, y_pred = y_test, clf.predict(x_test)\\n\\nfrom sklearn.metrics import classification_report\\n\\nprint(\\\"Results on the test set:\\\")\\nprint(classification_report(y_true, y_pred))\";\n",
       "                var nbb_formatted_code = \"y_true, y_pred = y_test, clf.predict(x_test)\\n\\nfrom sklearn.metrics import classification_report\\n\\nprint(\\\"Results on the test set:\\\")\\nprint(classification_report(y_true, y_pred))\";\n",
       "                var nbb_cells = Jupyter.notebook.get_cells();\n",
       "                for (var i = 0; i < nbb_cells.length; ++i) {\n",
       "                    if (nbb_cells[i].input_prompt_number == nbb_cell_id) {\n",
       "                        if (nbb_cells[i].get_text() == nbb_unformatted_code) {\n",
       "                             nbb_cells[i].set_text(nbb_formatted_code);\n",
       "                        }\n",
       "                        break;\n",
       "                    }\n",
       "                }\n",
       "            }, 500);\n",
       "            "
      ],
      "text/plain": [
       "<IPython.core.display.Javascript object>"
      ]
     },
     "metadata": {},
     "output_type": "display_data"
    }
   ],
   "source": [
    "y_true, y_pred = y_test, clf.predict(x_test)\n",
    "\n",
    "from sklearn.metrics import classification_report\n",
    "\n",
    "print(\"Results on the test set:\")\n",
    "print(classification_report(y_true, y_pred))"
   ]
  },
  {
   "cell_type": "markdown",
   "metadata": {},
   "source": [
    "## Task 2: stock prediction"
   ]
  },
  {
   "cell_type": "markdown",
   "metadata": {},
   "source": [
    "- Download `DJI.csv` or `MSFT.csv` from the CBS OneDrive shared folder\n",
    "- Split your training and test set based on a specific date\n",
    "- Implement the MLP to predict the next day's price movement given the first day's price"
   ]
  },
  {
   "cell_type": "code",
   "execution_count": 38,
   "metadata": {},
   "outputs": [
    {
     "name": "stdout",
     "output_type": "stream",
     "text": [
      "<class 'pandas.core.frame.DataFrame'>\n",
      "RangeIndex: 2517 entries, 0 to 2516\n",
      "Data columns (total 7 columns):\n",
      "Date         2517 non-null object\n",
      "Open         2517 non-null float64\n",
      "High         2517 non-null float64\n",
      "Low          2517 non-null float64\n",
      "Close        2517 non-null float64\n",
      "Adj Close    2517 non-null float64\n",
      "Volume       2517 non-null int64\n",
      "dtypes: float64(5), int64(1), object(1)\n",
      "memory usage: 137.8+ KB\n"
     ]
    },
    {
     "data": {
      "application/javascript": [
       "\n",
       "            setTimeout(function() {\n",
       "                var nbb_cell_id = 38;\n",
       "                var nbb_unformatted_code = \"df = pd.read_csv(\\\"data/DJI.csv\\\", header=0)\\ndf.info()\";\n",
       "                var nbb_formatted_code = \"df = pd.read_csv(\\\"data/DJI.csv\\\", header=0)\\ndf.info()\";\n",
       "                var nbb_cells = Jupyter.notebook.get_cells();\n",
       "                for (var i = 0; i < nbb_cells.length; ++i) {\n",
       "                    if (nbb_cells[i].input_prompt_number == nbb_cell_id) {\n",
       "                        if (nbb_cells[i].get_text() == nbb_unformatted_code) {\n",
       "                             nbb_cells[i].set_text(nbb_formatted_code);\n",
       "                        }\n",
       "                        break;\n",
       "                    }\n",
       "                }\n",
       "            }, 500);\n",
       "            "
      ],
      "text/plain": [
       "<IPython.core.display.Javascript object>"
      ]
     },
     "metadata": {},
     "output_type": "display_data"
    }
   ],
   "source": [
    "df = pd.read_csv(\"data/DJI.csv\", header=0)\n",
    "df.info()"
   ]
  },
  {
   "cell_type": "code",
   "execution_count": 39,
   "metadata": {
    "scrolled": false
   },
   "outputs": [
    {
     "data": {
      "text/html": [
       "<div>\n",
       "<style scoped>\n",
       "    .dataframe tbody tr th:only-of-type {\n",
       "        vertical-align: middle;\n",
       "    }\n",
       "\n",
       "    .dataframe tbody tr th {\n",
       "        vertical-align: top;\n",
       "    }\n",
       "\n",
       "    .dataframe thead th {\n",
       "        text-align: right;\n",
       "    }\n",
       "</style>\n",
       "<table border=\"1\" class=\"dataframe\">\n",
       "  <thead>\n",
       "    <tr style=\"text-align: right;\">\n",
       "      <th></th>\n",
       "      <th>Date</th>\n",
       "      <th>Open</th>\n",
       "      <th>High</th>\n",
       "      <th>Low</th>\n",
       "      <th>Close</th>\n",
       "      <th>Adj Close</th>\n",
       "      <th>Volume</th>\n",
       "    </tr>\n",
       "  </thead>\n",
       "  <tbody>\n",
       "    <tr>\n",
       "      <td>0</td>\n",
       "      <td>2010-07-06</td>\n",
       "      <td>9686.480469</td>\n",
       "      <td>9858.129883</td>\n",
       "      <td>9659.009766</td>\n",
       "      <td>9743.620117</td>\n",
       "      <td>9743.620117</td>\n",
       "      <td>261020000</td>\n",
       "    </tr>\n",
       "    <tr>\n",
       "      <td>1</td>\n",
       "      <td>2010-07-07</td>\n",
       "      <td>9743.620117</td>\n",
       "      <td>10026.599609</td>\n",
       "      <td>9736.700195</td>\n",
       "      <td>10018.280273</td>\n",
       "      <td>10018.280273</td>\n",
       "      <td>219560000</td>\n",
       "    </tr>\n",
       "    <tr>\n",
       "      <td>2</td>\n",
       "      <td>2010-07-08</td>\n",
       "      <td>10019.259766</td>\n",
       "      <td>10139.860352</td>\n",
       "      <td>10019.259766</td>\n",
       "      <td>10138.990234</td>\n",
       "      <td>10138.990234</td>\n",
       "      <td>192210000</td>\n",
       "    </tr>\n",
       "    <tr>\n",
       "      <td>3</td>\n",
       "      <td>2010-07-09</td>\n",
       "      <td>10138.990234</td>\n",
       "      <td>10201.769531</td>\n",
       "      <td>10118.410156</td>\n",
       "      <td>10198.030273</td>\n",
       "      <td>10198.030273</td>\n",
       "      <td>134810000</td>\n",
       "    </tr>\n",
       "    <tr>\n",
       "      <td>4</td>\n",
       "      <td>2010-07-12</td>\n",
       "      <td>10199.240234</td>\n",
       "      <td>10220.280273</td>\n",
       "      <td>10146.490234</td>\n",
       "      <td>10216.269531</td>\n",
       "      <td>10216.269531</td>\n",
       "      <td>131490000</td>\n",
       "    </tr>\n",
       "  </tbody>\n",
       "</table>\n",
       "</div>"
      ],
      "text/plain": [
       "         Date          Open          High           Low         Close  \\\n",
       "0  2010-07-06   9686.480469   9858.129883   9659.009766   9743.620117   \n",
       "1  2010-07-07   9743.620117  10026.599609   9736.700195  10018.280273   \n",
       "2  2010-07-08  10019.259766  10139.860352  10019.259766  10138.990234   \n",
       "3  2010-07-09  10138.990234  10201.769531  10118.410156  10198.030273   \n",
       "4  2010-07-12  10199.240234  10220.280273  10146.490234  10216.269531   \n",
       "\n",
       "      Adj Close     Volume  \n",
       "0   9743.620117  261020000  \n",
       "1  10018.280273  219560000  \n",
       "2  10138.990234  192210000  \n",
       "3  10198.030273  134810000  \n",
       "4  10216.269531  131490000  "
      ]
     },
     "execution_count": 39,
     "metadata": {},
     "output_type": "execute_result"
    },
    {
     "data": {
      "application/javascript": [
       "\n",
       "            setTimeout(function() {\n",
       "                var nbb_cell_id = 39;\n",
       "                var nbb_unformatted_code = \"df.head()\";\n",
       "                var nbb_formatted_code = \"df.head()\";\n",
       "                var nbb_cells = Jupyter.notebook.get_cells();\n",
       "                for (var i = 0; i < nbb_cells.length; ++i) {\n",
       "                    if (nbb_cells[i].input_prompt_number == nbb_cell_id) {\n",
       "                        if (nbb_cells[i].get_text() == nbb_unformatted_code) {\n",
       "                             nbb_cells[i].set_text(nbb_formatted_code);\n",
       "                        }\n",
       "                        break;\n",
       "                    }\n",
       "                }\n",
       "            }, 500);\n",
       "            "
      ],
      "text/plain": [
       "<IPython.core.display.Javascript object>"
      ]
     },
     "metadata": {},
     "output_type": "display_data"
    }
   ],
   "source": [
    "df.head()"
   ]
  },
  {
   "cell_type": "markdown",
   "metadata": {},
   "source": [
    "Convert the variable Data into datetime type\n",
    "\n",
    "```python\n",
    "df[\"Date\"] = pd.to_datetime(df[\"Date\"])\n",
    "```"
   ]
  },
  {
   "cell_type": "code",
   "execution_count": 40,
   "metadata": {},
   "outputs": [
    {
     "data": {
      "application/javascript": [
       "\n",
       "            setTimeout(function() {\n",
       "                var nbb_cell_id = 40;\n",
       "                var nbb_unformatted_code = \"df[\\\"Date\\\"] = pd.to_datetime(df[\\\"Date\\\"])\";\n",
       "                var nbb_formatted_code = \"df[\\\"Date\\\"] = pd.to_datetime(df[\\\"Date\\\"])\";\n",
       "                var nbb_cells = Jupyter.notebook.get_cells();\n",
       "                for (var i = 0; i < nbb_cells.length; ++i) {\n",
       "                    if (nbb_cells[i].input_prompt_number == nbb_cell_id) {\n",
       "                        if (nbb_cells[i].get_text() == nbb_unformatted_code) {\n",
       "                             nbb_cells[i].set_text(nbb_formatted_code);\n",
       "                        }\n",
       "                        break;\n",
       "                    }\n",
       "                }\n",
       "            }, 500);\n",
       "            "
      ],
      "text/plain": [
       "<IPython.core.display.Javascript object>"
      ]
     },
     "metadata": {},
     "output_type": "display_data"
    }
   ],
   "source": [
    "df[\"Date\"] = pd.to_datetime(df[\"Date\"])"
   ]
  },
  {
   "cell_type": "markdown",
   "metadata": {},
   "source": [
    "Set the variable Data to index of the dataset\n",
    "\n",
    "```python\n",
    "df = df.set_index([\"Date\"], drop=True)\n",
    "```"
   ]
  },
  {
   "cell_type": "code",
   "execution_count": 41,
   "metadata": {},
   "outputs": [
    {
     "data": {
      "application/javascript": [
       "\n",
       "            setTimeout(function() {\n",
       "                var nbb_cell_id = 41;\n",
       "                var nbb_unformatted_code = \"df = df.set_index([\\\"Date\\\"], drop=True)\";\n",
       "                var nbb_formatted_code = \"df = df.set_index([\\\"Date\\\"], drop=True)\";\n",
       "                var nbb_cells = Jupyter.notebook.get_cells();\n",
       "                for (var i = 0; i < nbb_cells.length; ++i) {\n",
       "                    if (nbb_cells[i].input_prompt_number == nbb_cell_id) {\n",
       "                        if (nbb_cells[i].get_text() == nbb_unformatted_code) {\n",
       "                             nbb_cells[i].set_text(nbb_formatted_code);\n",
       "                        }\n",
       "                        break;\n",
       "                    }\n",
       "                }\n",
       "            }, 500);\n",
       "            "
      ],
      "text/plain": [
       "<IPython.core.display.Javascript object>"
      ]
     },
     "metadata": {},
     "output_type": "display_data"
    }
   ],
   "source": [
    "df = df.set_index([\"Date\"], drop=True)"
   ]
  },
  {
   "cell_type": "markdown",
   "metadata": {},
   "source": [
    "Scale variable Adj Close\n",
    "\n",
    "```python\n",
    "standard_scaler = StandardScaler()\n",
    "price = df[\"Adj Close\"].to_numpy().reshape(-1, 1)\n",
    "standard_scaler.fit(price)\n",
    "price_standard_scaler = standard_scaler.transform(price)\n",
    "\n",
    "df[\"Adj Close Standard\"] = price_standard_scaler\n",
    "df.head()\n",
    "```"
   ]
  },
  {
   "cell_type": "code",
   "execution_count": 42,
   "metadata": {},
   "outputs": [
    {
     "data": {
      "text/html": [
       "<div>\n",
       "<style scoped>\n",
       "    .dataframe tbody tr th:only-of-type {\n",
       "        vertical-align: middle;\n",
       "    }\n",
       "\n",
       "    .dataframe tbody tr th {\n",
       "        vertical-align: top;\n",
       "    }\n",
       "\n",
       "    .dataframe thead th {\n",
       "        text-align: right;\n",
       "    }\n",
       "</style>\n",
       "<table border=\"1\" class=\"dataframe\">\n",
       "  <thead>\n",
       "    <tr style=\"text-align: right;\">\n",
       "      <th></th>\n",
       "      <th>Open</th>\n",
       "      <th>High</th>\n",
       "      <th>Low</th>\n",
       "      <th>Close</th>\n",
       "      <th>Adj Close</th>\n",
       "      <th>Volume</th>\n",
       "      <th>Adj Close Standard</th>\n",
       "    </tr>\n",
       "    <tr>\n",
       "      <th>Date</th>\n",
       "      <th></th>\n",
       "      <th></th>\n",
       "      <th></th>\n",
       "      <th></th>\n",
       "      <th></th>\n",
       "      <th></th>\n",
       "      <th></th>\n",
       "    </tr>\n",
       "  </thead>\n",
       "  <tbody>\n",
       "    <tr>\n",
       "      <td>2010-07-06</td>\n",
       "      <td>9686.480469</td>\n",
       "      <td>9858.129883</td>\n",
       "      <td>9659.009766</td>\n",
       "      <td>9743.620117</td>\n",
       "      <td>9743.620117</td>\n",
       "      <td>261020000</td>\n",
       "      <td>-1.661031</td>\n",
       "    </tr>\n",
       "    <tr>\n",
       "      <td>2010-07-07</td>\n",
       "      <td>9743.620117</td>\n",
       "      <td>10026.599609</td>\n",
       "      <td>9736.700195</td>\n",
       "      <td>10018.280273</td>\n",
       "      <td>10018.280273</td>\n",
       "      <td>219560000</td>\n",
       "      <td>-1.608105</td>\n",
       "    </tr>\n",
       "    <tr>\n",
       "      <td>2010-07-08</td>\n",
       "      <td>10019.259766</td>\n",
       "      <td>10139.860352</td>\n",
       "      <td>10019.259766</td>\n",
       "      <td>10138.990234</td>\n",
       "      <td>10138.990234</td>\n",
       "      <td>192210000</td>\n",
       "      <td>-1.584844</td>\n",
       "    </tr>\n",
       "    <tr>\n",
       "      <td>2010-07-09</td>\n",
       "      <td>10138.990234</td>\n",
       "      <td>10201.769531</td>\n",
       "      <td>10118.410156</td>\n",
       "      <td>10198.030273</td>\n",
       "      <td>10198.030273</td>\n",
       "      <td>134810000</td>\n",
       "      <td>-1.573467</td>\n",
       "    </tr>\n",
       "    <tr>\n",
       "      <td>2010-07-12</td>\n",
       "      <td>10199.240234</td>\n",
       "      <td>10220.280273</td>\n",
       "      <td>10146.490234</td>\n",
       "      <td>10216.269531</td>\n",
       "      <td>10216.269531</td>\n",
       "      <td>131490000</td>\n",
       "      <td>-1.569952</td>\n",
       "    </tr>\n",
       "  </tbody>\n",
       "</table>\n",
       "</div>"
      ],
      "text/plain": [
       "                    Open          High           Low         Close  \\\n",
       "Date                                                                 \n",
       "2010-07-06   9686.480469   9858.129883   9659.009766   9743.620117   \n",
       "2010-07-07   9743.620117  10026.599609   9736.700195  10018.280273   \n",
       "2010-07-08  10019.259766  10139.860352  10019.259766  10138.990234   \n",
       "2010-07-09  10138.990234  10201.769531  10118.410156  10198.030273   \n",
       "2010-07-12  10199.240234  10220.280273  10146.490234  10216.269531   \n",
       "\n",
       "               Adj Close     Volume  Adj Close Standard  \n",
       "Date                                                     \n",
       "2010-07-06   9743.620117  261020000           -1.661031  \n",
       "2010-07-07  10018.280273  219560000           -1.608105  \n",
       "2010-07-08  10138.990234  192210000           -1.584844  \n",
       "2010-07-09  10198.030273  134810000           -1.573467  \n",
       "2010-07-12  10216.269531  131490000           -1.569952  "
      ]
     },
     "execution_count": 42,
     "metadata": {},
     "output_type": "execute_result"
    },
    {
     "data": {
      "application/javascript": [
       "\n",
       "            setTimeout(function() {\n",
       "                var nbb_cell_id = 42;\n",
       "                var nbb_unformatted_code = \"standard_scaler = StandardScaler()\\nprice = df[\\\"Adj Close\\\"].to_numpy().reshape(-1, 1)\\nstandard_scaler.fit(price)\\nprice_standard_scaler = standard_scaler.transform(price)\\n\\ndf[\\\"Adj Close Standard\\\"] = price_standard_scaler\\ndf.head()\";\n",
       "                var nbb_formatted_code = \"standard_scaler = StandardScaler()\\nprice = df[\\\"Adj Close\\\"].to_numpy().reshape(-1, 1)\\nstandard_scaler.fit(price)\\nprice_standard_scaler = standard_scaler.transform(price)\\n\\ndf[\\\"Adj Close Standard\\\"] = price_standard_scaler\\ndf.head()\";\n",
       "                var nbb_cells = Jupyter.notebook.get_cells();\n",
       "                for (var i = 0; i < nbb_cells.length; ++i) {\n",
       "                    if (nbb_cells[i].input_prompt_number == nbb_cell_id) {\n",
       "                        if (nbb_cells[i].get_text() == nbb_unformatted_code) {\n",
       "                             nbb_cells[i].set_text(nbb_formatted_code);\n",
       "                        }\n",
       "                        break;\n",
       "                    }\n",
       "                }\n",
       "            }, 500);\n",
       "            "
      ],
      "text/plain": [
       "<IPython.core.display.Javascript object>"
      ]
     },
     "metadata": {},
     "output_type": "display_data"
    }
   ],
   "source": [
    "standard_scaler = StandardScaler()\n",
    "price = df[\"Adj Close\"].to_numpy().reshape(-1, 1)\n",
    "standard_scaler.fit(price)\n",
    "price_standard_scaler = standard_scaler.transform(price)\n",
    "\n",
    "df[\"Adj Close Standard\"] = price_standard_scaler\n",
    "df.head()"
   ]
  },
  {
   "cell_type": "markdown",
   "metadata": {},
   "source": [
    "Split the dataset at the date 2019-01-01"
   ]
  },
  {
   "cell_type": "code",
   "execution_count": 43,
   "metadata": {},
   "outputs": [
    {
     "data": {
      "application/javascript": [
       "\n",
       "            setTimeout(function() {\n",
       "                var nbb_cell_id = 43;\n",
       "                var nbb_unformatted_code = \"split_date = pd.Timestamp(\\\"2019-01-02\\\")\";\n",
       "                var nbb_formatted_code = \"split_date = pd.Timestamp(\\\"2019-01-02\\\")\";\n",
       "                var nbb_cells = Jupyter.notebook.get_cells();\n",
       "                for (var i = 0; i < nbb_cells.length; ++i) {\n",
       "                    if (nbb_cells[i].input_prompt_number == nbb_cell_id) {\n",
       "                        if (nbb_cells[i].get_text() == nbb_unformatted_code) {\n",
       "                             nbb_cells[i].set_text(nbb_formatted_code);\n",
       "                        }\n",
       "                        break;\n",
       "                    }\n",
       "                }\n",
       "            }, 500);\n",
       "            "
      ],
      "text/plain": [
       "<IPython.core.display.Javascript object>"
      ]
     },
     "metadata": {},
     "output_type": "display_data"
    }
   ],
   "source": [
    "split_date = pd.Timestamp(\"2019-01-02\")"
   ]
  },
  {
   "cell_type": "code",
   "execution_count": 44,
   "metadata": {},
   "outputs": [
    {
     "data": {
      "application/javascript": [
       "\n",
       "            setTimeout(function() {\n",
       "                var nbb_cell_id = 44;\n",
       "                var nbb_unformatted_code = \"train = df[\\\"Adj Close Standard\\\"].loc[:split_date]\\ntest = df[\\\"Adj Close Standard\\\"].loc[split_date:]\";\n",
       "                var nbb_formatted_code = \"train = df[\\\"Adj Close Standard\\\"].loc[:split_date]\\ntest = df[\\\"Adj Close Standard\\\"].loc[split_date:]\";\n",
       "                var nbb_cells = Jupyter.notebook.get_cells();\n",
       "                for (var i = 0; i < nbb_cells.length; ++i) {\n",
       "                    if (nbb_cells[i].input_prompt_number == nbb_cell_id) {\n",
       "                        if (nbb_cells[i].get_text() == nbb_unformatted_code) {\n",
       "                             nbb_cells[i].set_text(nbb_formatted_code);\n",
       "                        }\n",
       "                        break;\n",
       "                    }\n",
       "                }\n",
       "            }, 500);\n",
       "            "
      ],
      "text/plain": [
       "<IPython.core.display.Javascript object>"
      ]
     },
     "metadata": {},
     "output_type": "display_data"
    }
   ],
   "source": [
    "train = df[\"Adj Close Standard\"].loc[:split_date]\n",
    "test = df[\"Adj Close Standard\"].loc[split_date:]"
   ]
  },
  {
   "cell_type": "code",
   "execution_count": 45,
   "metadata": {
    "scrolled": false
   },
   "outputs": [
    {
     "data": {
      "image/png": "[encoded data removed]",
      "text/plain": [
       "<Figure size 1152x288 with 2 Axes>"
      ]
     },
     "metadata": {
      "needs_background": "light"
     },
     "output_type": "display_data"
    },
    {
     "data": {
      "application/javascript": [
       "\n",
       "            setTimeout(function() {\n",
       "                var nbb_cell_id = 45;\n",
       "                var nbb_unformatted_code = \"import matplotlib.pyplot as plt\\n\\nplt.figure(figsize=(16, 4))\\n\\nplt.subplot(1, 2, 1)\\nplt.plot(\\n    df[\\\"Adj Close\\\"].loc[:split_date].index,\\n    df[\\\"Adj Close\\\"].loc[:split_date],\\n    label=\\\"Train\\\",\\n)\\nplt.plot(\\n    df[\\\"Adj Close\\\"].loc[split_date:].index,\\n    df[\\\"Adj Close\\\"].loc[split_date:],\\n    label=\\\"Test\\\",\\n)\\nplt.xlabel(\\\"Date\\\")\\nplt.ylabel(\\\"Price\\\")\\nplt.legend()\\nplt.title(\\\"Adj Close\\\")\\n\\nplt.subplot(1, 2, 2)\\nplt.plot(train, label=\\\"Train\\\")\\nplt.plot(test, label=\\\"Test\\\")\\nplt.xlabel(\\\"Date\\\")\\nplt.ylabel(\\\"Price\\\")\\nplt.legend()\\nplt.title(\\\"Adj Close Standardization\\\")\\n\\nplt.show()\";\n",
       "                var nbb_formatted_code = \"import matplotlib.pyplot as plt\\n\\nplt.figure(figsize=(16, 4))\\n\\nplt.subplot(1, 2, 1)\\nplt.plot(\\n    df[\\\"Adj Close\\\"].loc[:split_date].index,\\n    df[\\\"Adj Close\\\"].loc[:split_date],\\n    label=\\\"Train\\\",\\n)\\nplt.plot(\\n    df[\\\"Adj Close\\\"].loc[split_date:].index,\\n    df[\\\"Adj Close\\\"].loc[split_date:],\\n    label=\\\"Test\\\",\\n)\\nplt.xlabel(\\\"Date\\\")\\nplt.ylabel(\\\"Price\\\")\\nplt.legend()\\nplt.title(\\\"Adj Close\\\")\\n\\nplt.subplot(1, 2, 2)\\nplt.plot(train, label=\\\"Train\\\")\\nplt.plot(test, label=\\\"Test\\\")\\nplt.xlabel(\\\"Date\\\")\\nplt.ylabel(\\\"Price\\\")\\nplt.legend()\\nplt.title(\\\"Adj Close Standardization\\\")\\n\\nplt.show()\";\n",
       "                var nbb_cells = Jupyter.notebook.get_cells();\n",
       "                for (var i = 0; i < nbb_cells.length; ++i) {\n",
       "                    if (nbb_cells[i].input_prompt_number == nbb_cell_id) {\n",
       "                        if (nbb_cells[i].get_text() == nbb_unformatted_code) {\n",
       "                             nbb_cells[i].set_text(nbb_formatted_code);\n",
       "                        }\n",
       "                        break;\n",
       "                    }\n",
       "                }\n",
       "            }, 500);\n",
       "            "
      ],
      "text/plain": [
       "<IPython.core.display.Javascript object>"
      ]
     },
     "metadata": {},
     "output_type": "display_data"
    }
   ],
   "source": [
    "import matplotlib.pyplot as plt\n",
    "\n",
    "plt.figure(figsize=(16, 4))\n",
    "\n",
    "plt.subplot(1, 2, 1)\n",
    "plt.plot(\n",
    "    df[\"Adj Close\"].loc[:split_date].index,\n",
    "    df[\"Adj Close\"].loc[:split_date],\n",
    "    label=\"Train\",\n",
    ")\n",
    "plt.plot(\n",
    "    df[\"Adj Close\"].loc[split_date:].index,\n",
    "    df[\"Adj Close\"].loc[split_date:],\n",
    "    label=\"Test\",\n",
    ")\n",
    "plt.xlabel(\"Date\")\n",
    "plt.ylabel(\"Price\")\n",
    "plt.legend()\n",
    "plt.title(\"Adj Close\")\n",
    "\n",
    "plt.subplot(1, 2, 2)\n",
    "plt.plot(train, label=\"Train\")\n",
    "plt.plot(test, label=\"Test\")\n",
    "plt.xlabel(\"Date\")\n",
    "plt.ylabel(\"Price\")\n",
    "plt.legend()\n",
    "plt.title(\"Adj Close Standardization\")\n",
    "\n",
    "plt.show()"
   ]
  },
  {
   "cell_type": "markdown",
   "metadata": {},
   "source": [
    "Create the input and response variables. Here the input is one day prior to the response.\n",
    "\n",
    "```python\n",
    "x_train = train.to_numpy()[:-1].reshape(-1, 1)\n",
    "y_train = train.to_numpy()[1:].flatten()\n",
    "\n",
    "x_test = test.to_numpy()[:-1].reshape(-1, 1)\n",
    "y_test = test.to_numpy()[1:].flatten()\n",
    "```"
   ]
  },
  {
   "cell_type": "code",
   "execution_count": 46,
   "metadata": {},
   "outputs": [
    {
     "data": {
      "application/javascript": [
       "\n",
       "            setTimeout(function() {\n",
       "                var nbb_cell_id = 46;\n",
       "                var nbb_unformatted_code = \"x_train = train.to_numpy()[:-1].reshape(-1, 1)\\ny_train = train.to_numpy()[1:].flatten()\\n\\nx_test = test.to_numpy()[:-1].reshape(-1, 1)\\ny_test = test.to_numpy()[1:].flatten()\";\n",
       "                var nbb_formatted_code = \"x_train = train.to_numpy()[:-1].reshape(-1, 1)\\ny_train = train.to_numpy()[1:].flatten()\\n\\nx_test = test.to_numpy()[:-1].reshape(-1, 1)\\ny_test = test.to_numpy()[1:].flatten()\";\n",
       "                var nbb_cells = Jupyter.notebook.get_cells();\n",
       "                for (var i = 0; i < nbb_cells.length; ++i) {\n",
       "                    if (nbb_cells[i].input_prompt_number == nbb_cell_id) {\n",
       "                        if (nbb_cells[i].get_text() == nbb_unformatted_code) {\n",
       "                             nbb_cells[i].set_text(nbb_formatted_code);\n",
       "                        }\n",
       "                        break;\n",
       "                    }\n",
       "                }\n",
       "            }, 500);\n",
       "            "
      ],
      "text/plain": [
       "<IPython.core.display.Javascript object>"
      ]
     },
     "metadata": {},
     "output_type": "display_data"
    }
   ],
   "source": [
    "x_train = train.to_numpy()[:-1].reshape(-1, 1)\n",
    "y_train = train.to_numpy()[1:].flatten()\n",
    "\n",
    "x_test = test.to_numpy()[:-1].reshape(-1, 1)\n",
    "y_test = test.to_numpy()[1:].flatten()"
   ]
  },
  {
   "cell_type": "markdown",
   "metadata": {},
   "source": [
    "Train the `MLPRegressor` from `sklearn`\n",
    "\n",
    "```python\n",
    "from sklearn.neural_network import MLPRegressor\n",
    "\n",
    "mlp_reg = MLPRegressor(random_state=100, max_iter=10000).fit(x_train, y_train)\n",
    "```"
   ]
  },
  {
   "cell_type": "code",
   "execution_count": 47,
   "metadata": {},
   "outputs": [
    {
     "data": {
      "application/javascript": [
       "\n",
       "            setTimeout(function() {\n",
       "                var nbb_cell_id = 47;\n",
       "                var nbb_unformatted_code = \"from sklearn.neural_network import MLPRegressor\\n\\nmlp_reg = MLPRegressor(random_state=100, max_iter=10000).fit(x_train, y_train)\";\n",
       "                var nbb_formatted_code = \"from sklearn.neural_network import MLPRegressor\\n\\nmlp_reg = MLPRegressor(random_state=100, max_iter=10000).fit(x_train, y_train)\";\n",
       "                var nbb_cells = Jupyter.notebook.get_cells();\n",
       "                for (var i = 0; i < nbb_cells.length; ++i) {\n",
       "                    if (nbb_cells[i].input_prompt_number == nbb_cell_id) {\n",
       "                        if (nbb_cells[i].get_text() == nbb_unformatted_code) {\n",
       "                             nbb_cells[i].set_text(nbb_formatted_code);\n",
       "                        }\n",
       "                        break;\n",
       "                    }\n",
       "                }\n",
       "            }, 500);\n",
       "            "
      ],
      "text/plain": [
       "<IPython.core.display.Javascript object>"
      ]
     },
     "metadata": {},
     "output_type": "display_data"
    }
   ],
   "source": [
    "from sklearn.neural_network import MLPRegressor\n",
    "\n",
    "mlp_reg = MLPRegressor(random_state=100, max_iter=10000).fit(x_train, y_train)"
   ]
  },
  {
   "cell_type": "code",
   "execution_count": 48,
   "metadata": {},
   "outputs": [
    {
     "data": {
      "application/javascript": [
       "\n",
       "            setTimeout(function() {\n",
       "                var nbb_cell_id = 48;\n",
       "                var nbb_unformatted_code = \"y_predlabel_train = mlp_reg.predict(x_train)\\ny_predlabel_test = mlp_reg.predict(x_test)\";\n",
       "                var nbb_formatted_code = \"y_predlabel_train = mlp_reg.predict(x_train)\\ny_predlabel_test = mlp_reg.predict(x_test)\";\n",
       "                var nbb_cells = Jupyter.notebook.get_cells();\n",
       "                for (var i = 0; i < nbb_cells.length; ++i) {\n",
       "                    if (nbb_cells[i].input_prompt_number == nbb_cell_id) {\n",
       "                        if (nbb_cells[i].get_text() == nbb_unformatted_code) {\n",
       "                             nbb_cells[i].set_text(nbb_formatted_code);\n",
       "                        }\n",
       "                        break;\n",
       "                    }\n",
       "                }\n",
       "            }, 500);\n",
       "            "
      ],
      "text/plain": [
       "<IPython.core.display.Javascript object>"
      ]
     },
     "metadata": {},
     "output_type": "display_data"
    }
   ],
   "source": [
    "y_predlabel_train = mlp_reg.predict(x_train)\n",
    "y_predlabel_test = mlp_reg.predict(x_test)"
   ]
  },
  {
   "cell_type": "code",
   "execution_count": 49,
   "metadata": {
    "scrolled": false
   },
   "outputs": [
    {
     "data": {
      "image/png": "[encoded data removed]",
      "text/plain": [
       "<Figure size 1152x288 with 2 Axes>"
      ]
     },
     "metadata": {
      "needs_background": "light"
     },
     "output_type": "display_data"
    },
    {
     "data": {
      "application/javascript": [
       "\n",
       "            setTimeout(function() {\n",
       "                var nbb_cell_id = 49;\n",
       "                var nbb_unformatted_code = \"plt.figure(figsize=(16, 4))\\n\\nplt.subplot(1, 2, 1)\\nplt.plot(range(len(y_train)), y_train, label=\\\"Ground truth\\\")\\nplt.plot(range(len(y_predlabel_train)), y_predlabel_train, label=\\\"Prediction (MLP)\\\")\\nplt.xlabel(\\\"Date\\\")\\nplt.ylabel(\\\"Price\\\")\\nplt.legend()\\nplt.title(\\\"Train\\\")\\n\\nplt.subplot(1, 2, 2)\\nplt.plot(range(len(y_test)), y_test, label=\\\"Ground truth\\\")\\nplt.plot(range(len(y_predlabel_test)), y_predlabel_test, label=\\\"Prediction (MLP)\\\")\\nplt.xlabel(\\\"Date\\\")\\nplt.ylabel(\\\"Price\\\")\\nplt.legend()\\nplt.title(\\\"Test\\\")\\n\\nplt.show()\";\n",
       "                var nbb_formatted_code = \"plt.figure(figsize=(16, 4))\\n\\nplt.subplot(1, 2, 1)\\nplt.plot(range(len(y_train)), y_train, label=\\\"Ground truth\\\")\\nplt.plot(range(len(y_predlabel_train)), y_predlabel_train, label=\\\"Prediction (MLP)\\\")\\nplt.xlabel(\\\"Date\\\")\\nplt.ylabel(\\\"Price\\\")\\nplt.legend()\\nplt.title(\\\"Train\\\")\\n\\nplt.subplot(1, 2, 2)\\nplt.plot(range(len(y_test)), y_test, label=\\\"Ground truth\\\")\\nplt.plot(range(len(y_predlabel_test)), y_predlabel_test, label=\\\"Prediction (MLP)\\\")\\nplt.xlabel(\\\"Date\\\")\\nplt.ylabel(\\\"Price\\\")\\nplt.legend()\\nplt.title(\\\"Test\\\")\\n\\nplt.show()\";\n",
       "                var nbb_cells = Jupyter.notebook.get_cells();\n",
       "                for (var i = 0; i < nbb_cells.length; ++i) {\n",
       "                    if (nbb_cells[i].input_prompt_number == nbb_cell_id) {\n",
       "                        if (nbb_cells[i].get_text() == nbb_unformatted_code) {\n",
       "                             nbb_cells[i].set_text(nbb_formatted_code);\n",
       "                        }\n",
       "                        break;\n",
       "                    }\n",
       "                }\n",
       "            }, 500);\n",
       "            "
      ],
      "text/plain": [
       "<IPython.core.display.Javascript object>"
      ]
     },
     "metadata": {},
     "output_type": "display_data"
    }
   ],
   "source": [
    "plt.figure(figsize=(16, 4))\n",
    "\n",
    "plt.subplot(1, 2, 1)\n",
    "plt.plot(range(len(y_train)), y_train, label=\"Ground truth\")\n",
    "plt.plot(range(len(y_predlabel_train)), y_predlabel_train, label=\"Prediction (MLP)\")\n",
    "plt.xlabel(\"Date\")\n",
    "plt.ylabel(\"Price\")\n",
    "plt.legend()\n",
    "plt.title(\"Train\")\n",
    "\n",
    "plt.subplot(1, 2, 2)\n",
    "plt.plot(range(len(y_test)), y_test, label=\"Ground truth\")\n",
    "plt.plot(range(len(y_predlabel_test)), y_predlabel_test, label=\"Prediction (MLP)\")\n",
    "plt.xlabel(\"Date\")\n",
    "plt.ylabel(\"Price\")\n",
    "plt.legend()\n",
    "plt.title(\"Test\")\n",
    "\n",
    "plt.show()"
   ]
  },
  {
   "cell_type": "code",
   "execution_count": 51,
   "metadata": {},
   "outputs": [
    {
     "name": "stdout",
     "output_type": "stream",
     "text": [
      "Mean squared error (train): 0.0014921846694880675\n",
      "Mean squared error (test): 0.020510939299903174\n"
     ]
    },
    {
     "data": {
      "application/javascript": [
       "\n",
       "            setTimeout(function() {\n",
       "                var nbb_cell_id = 51;\n",
       "                var nbb_unformatted_code = \"from sklearn.metrics import mean_squared_error\\n\\nprint(\\n    \\\"Mean squared error (train): {}\\\".format(\\n        mean_squared_error(y_train, y_predlabel_train)\\n    )\\n)\\nprint(\\n    \\\"Mean squared error (test): {}\\\".format(mean_squared_error(y_test, y_predlabel_test))\\n)\";\n",
       "                var nbb_formatted_code = \"from sklearn.metrics import mean_squared_error\\n\\nprint(\\n    \\\"Mean squared error (train): {}\\\".format(\\n        mean_squared_error(y_train, y_predlabel_train)\\n    )\\n)\\nprint(\\n    \\\"Mean squared error (test): {}\\\".format(mean_squared_error(y_test, y_predlabel_test))\\n)\";\n",
       "                var nbb_cells = Jupyter.notebook.get_cells();\n",
       "                for (var i = 0; i < nbb_cells.length; ++i) {\n",
       "                    if (nbb_cells[i].input_prompt_number == nbb_cell_id) {\n",
       "                        if (nbb_cells[i].get_text() == nbb_unformatted_code) {\n",
       "                             nbb_cells[i].set_text(nbb_formatted_code);\n",
       "                        }\n",
       "                        break;\n",
       "                    }\n",
       "                }\n",
       "            }, 500);\n",
       "            "
      ],
      "text/plain": [
       "<IPython.core.display.Javascript object>"
      ]
     },
     "metadata": {},
     "output_type": "display_data"
    }
   ],
   "source": [
    "from sklearn.metrics import mean_squared_error\n",
    "\n",
    "print(\n",
    "    \"Mean squared error (train): {}\".format(\n",
    "        mean_squared_error(y_train, y_predlabel_train)\n",
    "    )\n",
    ")\n",
    "print(\n",
    "    \"Mean squared error (test): {}\".format(mean_squared_error(y_test, y_predlabel_test))\n",
    ")"
   ]
  }
 ],
 "metadata": {
  "hide_input": false,
  "kernelspec": {
   "display_name": "Python 3",
   "language": "python",
   "name": "python3"
  },
  "language_info": {
   "codemirror_mode": {
    "name": "ipython",
    "version": 3
   },
   "file_extension": ".py",
   "mimetype": "text/x-python",
   "name": "python",
   "nbconvert_exporter": "python",
   "pygments_lexer": "ipython3",
   "version": "3.7.6"
  },
  "toc": {
   "base_numbering": 1,
   "nav_menu": {},
   "number_sections": true,
   "sideBar": true,
   "skip_h1_title": true,
   "title_cell": "Table of Contents",
   "title_sidebar": "Contents",
   "toc_cell": false,
   "toc_position": {
    "height": "calc(100% - 180px)",
    "left": "10px",
    "top": "150px",
    "width": "349.091px"
   },
   "toc_section_display": true,
   "toc_window_display": false
  },
  "varInspector": {
   "cols": {
    "lenName": 16,
    "lenType": 16,
    "lenVar": 40
   },
   "kernels_config": {
    "python": {
     "delete_cmd_postfix": "",
     "delete_cmd_prefix": "del ",
     "library": "var_list.py",
     "varRefreshCmd": "print(var_dic_list())"
    },
    "r": {
     "delete_cmd_postfix": ") ",
     "delete_cmd_prefix": "rm(",
     "library": "var_list.r",
     "varRefreshCmd": "cat(var_dic_list()) "
    }
   },
   "types_to_exclude": [
    "module",
    "function",
    "builtin_function_or_method",
    "instance",
    "_Feature"
   ],
   "window_display": false
  }
 },
 "nbformat": 4,
 "nbformat_minor": 2
}
